{
 "cells": [
  {
   "cell_type": "code",
   "execution_count": null,
   "metadata": {
    "collapsed": true
   },
   "outputs": [],
   "source": [
    "import sys\n",
    "sys.path.append('/home/rrg0013@auburn.edu/git/nodules/src/')\n",
    "sys.path.append('/home/rrg0013@auburn.edu/git/nodules/models/')\n",
    "sys.path.append('/home/rrg0013@auburn.edu/git/nodules/keras/')"
   ]
  },
  {
   "cell_type": "code",
   "execution_count": null,
   "metadata": {},
   "outputs": [],
   "source": [
    "import fpr_xrv2_1c3 as m\n",
    "import generatorModel as gen\n",
    "import kerasUtil as ku\n",
    "from sklearn.metrics import roc_curve, f1_score, auc\n",
    "from glob import glob"
   ]
  },
  {
   "cell_type": "code",
   "execution_count": null,
   "metadata": {
    "collapsed": true
   },
   "outputs": [],
   "source": [
    "import os\n",
    "import scipy.misc\n",
    "import numpy as np\n",
    "import matplotlib.pyplot as plt"
   ]
  },
  {
   "cell_type": "markdown",
   "metadata": {},
   "source": [
    "### Enter paths"
   ]
  },
  {
   "cell_type": "code",
   "execution_count": null,
   "metadata": {
    "collapsed": true
   },
   "outputs": [],
   "source": [
    "PATH = '/scr/data/nodules/testseg/cands/train2/seven/'\n",
    "WEIGHT = '/scr/data/nodules/init3dConv/073117/7003/64-no7003-accuracy-073117.h5'"
   ]
  },
  {
   "cell_type": "code",
   "execution_count": null,
   "metadata": {
    "collapsed": true
   },
   "outputs": [],
   "source": []
  },
  {
   "cell_type": "code",
   "execution_count": null,
   "metadata": {
    "collapsed": true
   },
   "outputs": [],
   "source": [
    "def loadpng1(cfg, full):\n",
    "  path = cfg\n",
    "  images, labels = [], []\n",
    "  for parent, subdir, files in os.walk(path):\n",
    "    for file in files:\n",
    "      image = scipy.misc.imread(os.path.join(parent,file))\n",
    "      image = ku.formatImage(image,full)\n",
    "      images.append(np.array(image))\n",
    "      label = file\n",
    "      if label[1] == '.':\n",
    "        label = label[2:]\n",
    "      elif label[2] == '.':\n",
    "        label = label[3:]\n",
    "      label = str(label)\n",
    "      meta = label.split('_')\n",
    "      label = {'labels':meta[0]}\n",
    "      labels.append(label)\n",
    "  if path[-4:] == '.png':\n",
    "    image = scipy.misc.imread(path)\n",
    "    image = ku.formatImage(image,full)\n",
    "    images.append(np.array(image))\n",
    "    label = path.split('/')\n",
    "    label = label[-1]\n",
    "    if label[1] == '.':\n",
    "      label = label[2:]\n",
    "    elif label[2] == '.':\n",
    "      label = label[3:]\n",
    "    label = str(label)\n",
    "    meta = label.split('_')\n",
    "    label = {'labels':meta[0]}\n",
    "    labels.append(label)\n",
    "  return images, labels"
   ]
  },
  {
   "cell_type": "code",
   "execution_count": null,
   "metadata": {
    "collapsed": true
   },
   "outputs": [],
   "source": [
    "images, labels = loadpng1(PATH, True)\n",
    "images, labels = ku.cleanData(images, labels, 2)\n",
    "images = ku.to3d(images, 2, True)\n",
    "labels = ku.get2Labels(labels)\n",
    "images = ku.convertArray(images)"
   ]
  },
  {
   "cell_type": "code",
   "execution_count": null,
   "metadata": {},
   "outputs": [],
   "source": [
    "len(images)"
   ]
  },
  {
   "cell_type": "code",
   "execution_count": null,
   "metadata": {},
   "outputs": [],
   "source": [
    "print len(images)"
   ]
  },
  {
   "cell_type": "code",
   "execution_count": null,
   "metadata": {
    "collapsed": true
   },
   "outputs": [],
   "source": [
    "mean=0.188313096763\n",
    "std=0.1979406029\n",
    "\n",
    "images -= mean\n",
    "images /= std"
   ]
  },
  {
   "cell_type": "code",
   "execution_count": null,
   "metadata": {},
   "outputs": [],
   "source": [
    "model = m.getModel(2,sz=32,full=True)"
   ]
  },
  {
   "cell_type": "code",
   "execution_count": null,
   "metadata": {
    "collapsed": true
   },
   "outputs": [],
   "source": [
    "model.compile(loss='categorical_crossentropy',optimizer='adadelta',metrics=['accuracy'])"
   ]
  },
  {
   "cell_type": "code",
   "execution_count": null,
   "metadata": {
    "collapsed": true
   },
   "outputs": [],
   "source": [
    "model.load_weights(WEIGHT)"
   ]
  },
  {
   "cell_type": "code",
   "execution_count": null,
   "metadata": {
    "collapsed": true
   },
   "outputs": [],
   "source": [
    "preds = model.predict(images, batch_size=64)"
   ]
  },
  {
   "cell_type": "code",
   "execution_count": null,
   "metadata": {},
   "outputs": [],
   "source": [
    "fpr, tpr, _ = roc_curve(labels[:,0],preds[:,0])\n",
    "area = auc(fpr, tpr)\n",
    "print area\n",
    "plt.plot(fpr,tpr)\n",
    "plt.savefig('/home/rrg0013@auburn.edu/four_roc.png')  \n",
    "plt.clf()"
   ]
  },
  {
   "cell_type": "code",
   "execution_count": null,
   "metadata": {
    "collapsed": true
   },
   "outputs": [],
   "source": []
  },
  {
   "cell_type": "code",
   "execution_count": null,
   "metadata": {
    "collapsed": true
   },
   "outputs": [],
   "source": []
  },
  {
   "cell_type": "markdown",
   "metadata": {},
   "source": [
    "### Found of all candidate nodules "
   ]
  },
  {
   "cell_type": "code",
   "execution_count": null,
   "metadata": {},
   "outputs": [],
   "source": [
    "tmp = np.zeros(preds.shape[0])\n",
    "tmp[preds[:,0] > preds[:,1]] = 1\n",
    "pos = np.sum(tmp)\n",
    "print pos"
   ]
  },
  {
   "cell_type": "markdown",
   "metadata": {},
   "source": [
    "### False positives per scan "
   ]
  },
  {
   "cell_type": "code",
   "execution_count": null,
   "metadata": {},
   "outputs": [],
   "source": [
    "perscan = pos/89. \n",
    "print perscan"
   ]
  },
  {
   "cell_type": "markdown",
   "metadata": {},
   "source": [
    "### Sensitivity "
   ]
  },
  {
   "cell_type": "code",
   "execution_count": null,
   "metadata": {},
   "outputs": [],
   "source": [
    "tlbl = np.zeros(preds.shape[0])\n",
    "tlbl[labels[:,0]==1] = 1\n",
    "tp_fn = np.sum(tlbl)\n",
    "print tp_fn"
   ]
  },
  {
   "cell_type": "code",
   "execution_count": null,
   "metadata": {
    "scrolled": true
   },
   "outputs": [],
   "source": [
    "tmp2 = np.zeros(preds.shape[0])\n",
    "tmp2[preds[:,0] > preds[:,1]] = 1\n",
    "tmp2[tlbl==1] += 1\n",
    "tmp3 = np.where(tmp2==2,1,0)\n",
    "tp = np.sum(tmp3)\n",
    "print tp"
   ]
  },
  {
   "cell_type": "markdown",
   "metadata": {},
   "source": [
    "#### SENSITIVITY VALUE:"
   ]
  },
  {
   "cell_type": "code",
   "execution_count": null,
   "metadata": {},
   "outputs": [],
   "source": [
    "sensitivity = tp/tp_fn\n",
    "print sensitivity"
   ]
  },
  {
   "cell_type": "code",
   "execution_count": null,
   "metadata": {
    "collapsed": true
   },
   "outputs": [],
   "source": []
  },
  {
   "cell_type": "markdown",
   "metadata": {},
   "source": [
    "### Specificity "
   ]
  },
  {
   "cell_type": "code",
   "execution_count": null,
   "metadata": {},
   "outputs": [],
   "source": [
    "tlbl = np.zeros(preds.shape[0])\n",
    "tlbl[labels[:,1]==1] = 1\n",
    "tn_fp = np.sum(tlbl)\n",
    "print tn_fp"
   ]
  },
  {
   "cell_type": "code",
   "execution_count": null,
   "metadata": {},
   "outputs": [],
   "source": [
    "tmp = np.zeros(preds.shape[0])\n",
    "tmp[preds[:,1] > preds[:,0]] = 1\n",
    "tn = np.sum(tmp)\n",
    "print tn"
   ]
  },
  {
   "cell_type": "markdown",
   "metadata": {},
   "source": [
    "#### SPECIFICITY VALUE:"
   ]
  },
  {
   "cell_type": "code",
   "execution_count": null,
   "metadata": {},
   "outputs": [],
   "source": [
    "specificity = tn/tn_fp\n",
    "print specificity"
   ]
  },
  {
   "cell_type": "code",
   "execution_count": null,
   "metadata": {
    "collapsed": true
   },
   "outputs": [],
   "source": []
  },
  {
   "cell_type": "code",
   "execution_count": null,
   "metadata": {
    "collapsed": true
   },
   "outputs": [],
   "source": []
  },
  {
   "cell_type": "code",
   "execution_count": null,
   "metadata": {
    "collapsed": true
   },
   "outputs": [],
   "source": []
  }
 ],
 "metadata": {
  "kernelspec": {
   "display_name": "Python 2",
   "language": "python",
   "name": "python2"
  },
  "language_info": {
   "codemirror_mode": {
    "name": "ipython",
    "version": 2
   },
   "file_extension": ".py",
   "mimetype": "text/x-python",
   "name": "python",
   "nbconvert_exporter": "python",
   "pygments_lexer": "ipython2",
   "version": "2.7.12"
  }
 },
 "nbformat": 4,
 "nbformat_minor": 2
}
