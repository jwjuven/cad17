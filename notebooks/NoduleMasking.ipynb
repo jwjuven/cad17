{
 "cells": [
  {
   "cell_type": "code",
   "execution_count": 151,
   "metadata": {
    "collapsed": true
   },
   "outputs": [],
   "source": [
    "import os\n",
    "\n",
    "import numpy as np\n",
    "import pandas as pd\n",
    "import SimpleITK as sitk\n",
    "\n",
    "LUNA_PATH = '/scr/nodules/luna16/train/'\n",
    "LUNA_AUX_PATH = '/scr/nodules/luna16/CSVFILES/'\n",
    "\n",
    "#Generate a spherical mask for a single nodule\n",
    "#Can replace this with each radiologists' roi from lidc-idri\n",
    "def getNoduleMask(shape, center, radius, origin):\n",
    "  mask = np.zeros(shape)\n",
    "  radius = np.rint(radius)\n",
    "  center = np.round(np.array(center-origin)).astype(int)\n",
    "  sz = np.arange(int(center[0]-radius),int(center[0]+radius+1))\n",
    "  sy = np.arange(int(center[1]-radius),int(center[1]+radius+1))\n",
    "  sx = np.arange(int(center[2]-radius),int(center[2]+radius+1))\n",
    "  sz,sy,sx = np.meshgrid(sz,sy,sx)\n",
    "  distance = ((center[0]-sz)**2 +(center[1]-sy)**2+(center[2]-sx)**2)\n",
    "  distanceMatrix = np.ones_like(mask)*np.inf\n",
    "  distanceMatrix[sx,sy,sz] = distance\n",
    "  mask[distanceMatrix <= radius**2] = 1\n",
    "  return mask\n",
    "\n",
    "#Generates masks for all nodules in image\n",
    "#Returns a single binary array\n",
    "def getImageMask(shape, origin, annotations):\n",
    "  mask = np.zeros(shape)\n",
    "  for nodule in annotations:\n",
    "    mask += getNoduleMask(shape,nodule[:3],nodule[3]/2.,origin)\n",
    "  mask = np.clip(mask, 0, 1)\n",
    "  return mask"
   ]
  },
  {
   "cell_type": "code",
   "execution_count": 186,
   "metadata": {
    "collapsed": false
   },
   "outputs": [
    {
     "name": "stdout",
     "output_type": "stream",
     "text": [
      "                                              seriesuid      coordX  \\\n",
      "1020  1.3.6.1.4.1.14519.5.2.1.6279.6001.534083630500...  113.911431   \n",
      "1021  1.3.6.1.4.1.14519.5.2.1.6279.6001.534083630500...  -87.298239   \n",
      "1022  1.3.6.1.4.1.14519.5.2.1.6279.6001.534083630500...  -42.906493   \n",
      "\n",
      "         coordY      coordZ  diameter_mm  \n",
      "1020 -36.972024 -139.106781     4.315291  \n",
      "1021  56.271657 -112.290634     5.965580  \n",
      "1022  -3.298740 -115.103859     5.090964  \n"
     ]
    }
   ],
   "source": [
    "import copy \n",
    "from glob import glob\n",
    "import pandas as pd\n",
    "SAMPLES_PATH = '/scr/nodules/luna16/val/subset0/'\n",
    "SAMPLE_CANDIDATES_PATH = '/home/g/Desktop/git/nodules/resources/annotations.csv'\n",
    "path = SAMPLES_PATH\n",
    "filelist = glob(path+'/*.mhd')\n",
    "filepathlist = copy.deepcopy(filelist)\n",
    "templist = []\n",
    "for f in filelist:\n",
    "  f = f.split('/')\n",
    "  f = f[-1]\n",
    "  templist.append(f[:-4])\n",
    "filelist = templist\n",
    "no = 23\n",
    "df = pd.read_csv(SAMPLE_CANDIDATES_PATH)\n",
    "print df[df['seriesuid']==filelist[no]]\n",
    "fname = filelist[no]"
   ]
  },
  {
   "cell_type": "code",
   "execution_count": 34,
   "metadata": {
    "collapsed": true
   },
   "outputs": [],
   "source": [
    "import scipy.ndimage"
   ]
  },
  {
   "cell_type": "code",
   "execution_count": 144,
   "metadata": {
    "collapsed": false
   },
   "outputs": [],
   "source": [
    "itk = sitk.ReadImage(filepathlist[no])\n",
    "image = sitk.GetArrayFromImage(itk)\n",
    "copyimage = copy.deepcopy(image)"
   ]
  },
  {
   "cell_type": "code",
   "execution_count": 190,
   "metadata": {
    "collapsed": true
   },
   "outputs": [],
   "source": [
    "image = copy.deepcopy(copyimage)"
   ]
  },
  {
   "cell_type": "code",
   "execution_count": null,
   "metadata": {
    "collapsed": true
   },
   "outputs": [],
   "source": []
  },
  {
   "cell_type": "code",
   "execution_count": 158,
   "metadata": {
    "collapsed": false
   },
   "outputs": [],
   "source": [
    "origin = np.array(list(reversed(itk.GetOrigin())))\n",
    "spacing = np.array(list(reversed(itk.GetSpacing())))\n",
    "szfactor = spacing / [1,1,1]\n",
    "newShape = image.shape * spacing\n",
    "newShape = np.round(newShape)\n",
    "szfactor = newShape / image.shape\n",
    "image = scipy.ndimage.interpolation.zoom(image, szfactor, mode='nearest')"
   ]
  },
  {
   "cell_type": "code",
   "execution_count": null,
   "metadata": {
    "collapsed": false
   },
   "outputs": [],
   "source": [
    "shape = image.shape\n",
    "annotations = df[df['seriesuid']==fname]\n",
    "annotations = annotations[['coordX','coordY','coordZ','diameter_mm']].as_matrix()\n",
    "origin = np.array(itk.GetOrigin())\n",
    "mask = getImageMask(shape, origin, annotations)"
   ]
  },
  {
   "cell_type": "code",
   "execution_count": 107,
   "metadata": {
    "collapsed": false
   },
   "outputs": [
    {
     "name": "stdout",
     "output_type": "stream",
     "text": [
      "(286, 335, 335)\n",
      "(286, 335, 335)\n"
     ]
    }
   ],
   "source": [
    "print mask.shape\n",
    "print image.shape"
   ]
  },
  {
   "cell_type": "code",
   "execution_count": 160,
   "metadata": {
    "collapsed": true
   },
   "outputs": [],
   "source": [
    "image[mask==0] = 0"
   ]
  },
  {
   "cell_type": "code",
   "execution_count": 49,
   "metadata": {
    "collapsed": true
   },
   "outputs": [],
   "source": [
    "import matplotlib.pyplot as plt"
   ]
  },
  {
   "cell_type": "code",
   "execution_count": 195,
   "metadata": {
    "collapsed": false
   },
   "outputs": [
    {
     "name": "stdout",
     "output_type": "stream",
     "text": [
      "[276 131 162]\n"
     ]
    },
    {
     "data": {
      "text/plain": [
       "<matplotlib.figure.Figure at 0x7fd0c5c2c650>"
      ]
     },
     "metadata": {},
     "output_type": "display_data"
    },
    {
     "data": {
      "text/plain": [
       "<matplotlib.figure.Figure at 0x7fd0c5810d10>"
      ]
     },
     "metadata": {},
     "output_type": "display_data"
    },
    {
     "data": {
      "text/plain": [
       "<matplotlib.figure.Figure at 0x7fd0c5bc27d0>"
      ]
     },
     "metadata": {},
     "output_type": "display_data"
    },
    {
     "data": {
      "image/png": "[encoded data removed]",
      "text/plain": [
       "<matplotlib.figure.Figure at 0x7fd0c5bc2250>"
      ]
     },
     "metadata": {},
     "output_type": "display_data"
    }
   ],
   "source": [
    "coords = annotations[0]\n",
    "coords = coords[:-1]\n",
    "coords = np.round(coords-origin).astype(int)\n",
    "print coords\n",
    "plt.figure(figsize=(16,16))\n",
    "plt.subplot(221)\n",
    "plt.imshow(image[coords[2],coords[1]-5:coords[1]+5,coords[0]-5:coords[0]+5])\n",
    "plt.show()"
   ]
  },
  {
   "cell_type": "code",
   "execution_count": null,
   "metadata": {
    "collapsed": true
   },
   "outputs": [],
   "source": []
  },
  {
   "cell_type": "code",
   "execution_count": null,
   "metadata": {
    "collapsed": true
   },
   "outputs": [],
   "source": []
  }
 ],
 "metadata": {
  "kernelspec": {
   "display_name": "Python 2",
   "language": "python",
   "name": "python2"
  },
  "language_info": {
   "codemirror_mode": {
    "name": "ipython",
    "version": 2
   },
   "file_extension": ".py",
   "mimetype": "text/x-python",
   "name": "python",
   "nbconvert_exporter": "python",
   "pygments_lexer": "ipython2",
   "version": "2.7.12"
  }
 },
 "nbformat": 4,
 "nbformat_minor": 2
}
