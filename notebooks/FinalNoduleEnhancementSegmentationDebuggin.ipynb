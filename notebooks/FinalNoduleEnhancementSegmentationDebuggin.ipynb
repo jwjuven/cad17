{
 "cells": [
  {
   "cell_type": "code",
   "execution_count": 1,
   "metadata": {
    "collapsed": false,
    "deletable": true,
    "editable": true
   },
   "outputs": [
    {
     "name": "stderr",
     "output_type": "stream",
     "text": [
      "Using TensorFlow backend.\n"
     ]
    }
   ],
   "source": [
    "import sys\n",
    "sys.path.append('/home/g/Desktop/git/nodules/keras/')\n",
    "sys.path.append('/home/g/Desktop/git/nodules/tf/')\n",
    "\n",
    "import init\n",
    "import kerasUtil as ku\n",
    "import segutil as util\n",
    "import candidates as cd\n",
    "import luna\n",
    "\n",
    "import os\n",
    "import math\n",
    "import copy\n",
    "import time\n",
    "import scipy\n",
    "import skimage.feature\n",
    "import scipy.ndimage\n",
    "import scipy.misc as scipy_misc\n",
    "import scipy.ndimage.morphology as morphology\n",
    "import matplotlib.pyplot as plt\n",
    "import numpy as np\n",
    "import pandas as pd\n",
    "import SimpleITK as sitk\n",
    "\n",
    "from glob import glob\n",
    "from skimage import measure\n",
    "from skimage import feature\n",
    "\n",
    "SAMPLES_PATH = '/scr/nodules/luna16/subset0/'\n",
    "SAMPLE_NODULES_PATH = '/home/g/Desktop/git/nodules/resources/annotations.csv'"
   ]
  },
  {
   "cell_type": "code",
   "execution_count": 2,
   "metadata": {
    "collapsed": false,
    "deletable": true,
    "editable": true
   },
   "outputs": [
    {
     "ename": "NameError",
     "evalue": "name 'filelist' is not defined",
     "output_type": "error",
     "traceback": [
      "\u001b[0;31m---------------------------------------------------------------------------\u001b[0m",
      "\u001b[0;31mNameError\u001b[0m                                 Traceback (most recent call last)",
      "\u001b[0;32m<ipython-input-2-976790c519a4>\u001b[0m in \u001b[0;36m<module>\u001b[0;34m()\u001b[0m\n\u001b[1;32m      3\u001b[0m   \u001b[0mfilepathlist\u001b[0m \u001b[0;34m=\u001b[0m \u001b[0mcopy\u001b[0m\u001b[0;34m.\u001b[0m\u001b[0mdeepcopy\u001b[0m\u001b[0;34m(\u001b[0m\u001b[0mfilelist\u001b[0m\u001b[0;34m)\u001b[0m\u001b[0;34m\u001b[0m\u001b[0m\n\u001b[1;32m      4\u001b[0m \u001b[0mtemplist\u001b[0m \u001b[0;34m=\u001b[0m \u001b[0;34m[\u001b[0m\u001b[0;34m]\u001b[0m\u001b[0;34m\u001b[0m\u001b[0m\n\u001b[0;32m----> 5\u001b[0;31m \u001b[0;32mfor\u001b[0m \u001b[0mf\u001b[0m \u001b[0;32min\u001b[0m \u001b[0mfilelist\u001b[0m\u001b[0;34m:\u001b[0m\u001b[0;34m\u001b[0m\u001b[0m\n\u001b[0m\u001b[1;32m      6\u001b[0m   \u001b[0mf\u001b[0m \u001b[0;34m=\u001b[0m \u001b[0mf\u001b[0m\u001b[0;34m.\u001b[0m\u001b[0msplit\u001b[0m\u001b[0;34m(\u001b[0m\u001b[0;34m'/'\u001b[0m\u001b[0;34m)\u001b[0m\u001b[0;34m\u001b[0m\u001b[0m\n\u001b[1;32m      7\u001b[0m   \u001b[0mf\u001b[0m \u001b[0;34m=\u001b[0m \u001b[0mf\u001b[0m\u001b[0;34m[\u001b[0m\u001b[0;36m5\u001b[0m\u001b[0;34m]\u001b[0m\u001b[0;34m\u001b[0m\u001b[0m\n",
      "\u001b[0;31mNameError\u001b[0m: name 'filelist' is not defined"
     ]
    }
   ],
   "source": [
    "for parent, subdir, files in os.walk(SAMPLES_PATH):\n",
    "  filelist = glob(parent+'/*.mhd')\n",
    "  filepathlist = copy.deepcopy(filelist)\n",
    "templist = []\n",
    "for f in filelist:\n",
    "  f = f.split('/')\n",
    "  f = f[5]\n",
    "  templist.append(f[:-4])\n",
    "filelist = templist\n",
    "del(templist)\n",
    "candlist = pd.read_csv(SAMPLE_CANDIDATES_PATH)"
   ]
  },
  {
   "cell_type": "code",
   "execution_count": null,
   "metadata": {
    "collapsed": false,
    "deletable": true,
    "editable": true
   },
   "outputs": [],
   "source": [
    "candlist = pd.read_csv(SAMPLE_NODULES_PATH)\n",
    "currentNodules = candlist[candlist['seriesuid'] == filelist[0]]\n",
    "print len(currentNodules[['coordX','coordY','coordZ']])"
   ]
  },
  {
   "cell_type": "code",
   "execution_count": null,
   "metadata": {
    "collapsed": true,
    "deletable": true,
    "editable": true
   },
   "outputs": [],
   "source": [
    "for f in range(len(filelist)):\n",
    "  try:\n",
    "    currentNodules = candlist[candlist['seriesuid'] == filelist[i]]\n",
    "    if len(currentNodules[['coordX','coordY','coordZ']]) == 0: continue\n",
    "    itk = sitk.ReadImage(filepathlist[i])\n",
    "    \n",
    "  catch:\n",
    "    print \"ERROR WITH IMAGE ID: \" + str(f)"
   ]
  },
  {
   "cell_type": "code",
   "execution_count": null,
   "metadata": {
    "collapsed": true,
    "deletable": true,
    "editable": true
   },
   "outputs": [],
   "source": []
  },
  {
   "cell_type": "code",
   "execution_count": null,
   "metadata": {
    "collapsed": true,
    "deletable": true,
    "editable": true
   },
   "outputs": [],
   "source": []
  },
  {
   "cell_type": "code",
   "execution_count": null,
   "metadata": {
    "collapsed": true,
    "deletable": true,
    "editable": true
   },
   "outputs": [],
   "source": []
  },
  {
   "cell_type": "code",
   "execution_count": null,
   "metadata": {
    "collapsed": true,
    "deletable": true,
    "editable": true
   },
   "outputs": [],
   "source": []
  }
 ],
 "metadata": {
  "kernelspec": {
   "display_name": "Python 2",
   "language": "python",
   "name": "python2"
  },
  "language_info": {
   "codemirror_mode": {
    "name": "ipython",
    "version": 2
   },
   "file_extension": ".py",
   "mimetype": "text/x-python",
   "name": "python",
   "nbconvert_exporter": "python",
   "pygments_lexer": "ipython2",
   "version": "2.7.12"
  }
 },
 "nbformat": 4,
 "nbformat_minor": 2
}
