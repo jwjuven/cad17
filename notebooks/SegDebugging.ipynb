{
 "cells": [
  {
   "cell_type": "markdown",
   "metadata": {},
   "source": [
    "# Segmentation debugging"
   ]
  },
  {
   "cell_type": "code",
   "execution_count": 37,
   "metadata": {
    "collapsed": false
   },
   "outputs": [],
   "source": [
    "import sys\n",
    "sys.path.append('/home/g/Desktop/git/nodules/src/')\n",
    "sys.path.append('/home/g/Desktop/git/nodules/keras/')\n",
    "sys.path.append('/home/g/Desktop/git/nodules/models/')\n",
    "sys.path.append('/home/g/Desktop/git/keras/keras/preprocessing/')\n",
    "\n",
    "import os\n",
    "import copy\n",
    "import time\n",
    "#from glob import glob\n",
    "import numpy as np\n",
    "import pandas as pd\n",
    "import SimpleITK as sitk\n",
    "#import matplotlib.pyplot as plt\n",
    "\n",
    "import seg3d \n",
    "import candidates as cd\n",
    "import candgen as cg\n",
    "import segment as sgmt\n",
    "\n",
    "#from skimage import feature\n",
    "from skimage import measure\n",
    "import scipy.ndimage\n",
    "#import skimage"
   ]
  },
  {
   "cell_type": "code",
   "execution_count": 9,
   "metadata": {
    "collapsed": true
   },
   "outputs": [],
   "source": [
    "DATAPATH =  '/scr/nodules/luna/val/subset0/'\n",
    "ANNOTATIONS = '/home/g/Desktop/git/nodules/resources/annotations.csv'\n",
    "WEIGHTSPATH = '/home/g/Desktop/lowloss_dsb_weights_062017.h5'\n",
    "OUTFILE = '/home/g/Desktop/assess_nn_dbg.txt'\n",
    "STRIDE = 32"
   ]
  },
  {
   "cell_type": "code",
   "execution_count": 4,
   "metadata": {
    "collapsed": false
   },
   "outputs": [
    {
     "name": "stdout",
     "output_type": "stream",
     "text": [
      "____________________________________________________________________________________________________\n",
      "Layer (type)                     Output Shape          Param #     Connected to                     \n",
      "====================================================================================================\n",
      "input_1 (InputLayer)             (None, 1, 64, 64, 64) 0                                            \n",
      "____________________________________________________________________________________________________\n",
      "conv3d_1 (Conv3D)                (None, 128, 62, 62, 6 3584        input_1[0][0]                    \n",
      "____________________________________________________________________________________________________\n",
      "p_re_lu_1 (PReLU)                (None, 128, 62, 62, 6 30505984    conv3d_1[0][0]                   \n",
      "____________________________________________________________________________________________________\n",
      "conv3d_2 (Conv3D)                (None, 128, 60, 60, 6 442496      p_re_lu_1[0][0]                  \n",
      "____________________________________________________________________________________________________\n",
      "p_re_lu_2 (PReLU)                (None, 128, 60, 60, 6 27648000    conv3d_2[0][0]                   \n",
      "____________________________________________________________________________________________________\n",
      "conv3d_3 (Conv3D)                (None, 128, 58, 58, 5 442496      p_re_lu_2[0][0]                  \n",
      "____________________________________________________________________________________________________\n",
      "p_re_lu_3 (PReLU)                (None, 128, 58, 58, 5 24974336    conv3d_3[0][0]                   \n",
      "____________________________________________________________________________________________________\n",
      "max_pooling3d_1 (MaxPooling3D)   (None, 128, 29, 29, 2 0           p_re_lu_3[0][0]                  \n",
      "____________________________________________________________________________________________________\n",
      "conv3d_4 (Conv3D)                (None, 128, 27, 27, 2 442496      max_pooling3d_1[0][0]            \n",
      "____________________________________________________________________________________________________\n",
      "p_re_lu_4 (PReLU)                (None, 128, 27, 27, 2 2519424     conv3d_4[0][0]                   \n",
      "____________________________________________________________________________________________________\n",
      "conv3d_5 (Conv3D)                (None, 128, 25, 25, 2 442496      p_re_lu_4[0][0]                  \n",
      "____________________________________________________________________________________________________\n",
      "p_re_lu_5 (PReLU)                (None, 128, 25, 25, 2 2000000     conv3d_5[0][0]                   \n",
      "____________________________________________________________________________________________________\n",
      "conv3d_6 (Conv3D)                (None, 128, 23, 23, 2 442496      p_re_lu_5[0][0]                  \n",
      "____________________________________________________________________________________________________\n",
      "p_re_lu_6 (PReLU)                (None, 128, 23, 23, 2 1557376     conv3d_6[0][0]                   \n",
      "____________________________________________________________________________________________________\n",
      "conv3d_7 (Conv3D)                (None, 128, 21, 21, 2 442496      p_re_lu_6[0][0]                  \n",
      "____________________________________________________________________________________________________\n",
      "p_re_lu_7 (PReLU)                (None, 128, 21, 21, 2 1185408     conv3d_7[0][0]                   \n",
      "____________________________________________________________________________________________________\n",
      "up_sampling3d_1 (UpSampling3D)   (None, 128, 42, 42, 4 0           p_re_lu_7[0][0]                  \n",
      "____________________________________________________________________________________________________\n",
      "cropping3d_1 (Cropping3D)        (None, 128, 42, 42, 4 0           p_re_lu_3[0][0]                  \n",
      "____________________________________________________________________________________________________\n",
      "concatenate_1 (Concatenate)      (None, 256, 42, 42, 4 0           up_sampling3d_1[0][0]            \n",
      "                                                                   cropping3d_1[0][0]               \n",
      "____________________________________________________________________________________________________\n",
      "dropout_1 (Dropout)              (None, 256, 42, 42, 4 0           concatenate_1[0][0]              \n",
      "____________________________________________________________________________________________________\n",
      "conv3d_8 (Conv3D)                (None, 256, 40, 40, 4 1769728     dropout_1[0][0]                  \n",
      "____________________________________________________________________________________________________\n",
      "p_re_lu_8 (PReLU)                (None, 256, 40, 40, 4 16384000    conv3d_8[0][0]                   \n",
      "____________________________________________________________________________________________________\n",
      "conv3d_9 (Conv3D)                (None, 128, 38, 38, 3 884864      p_re_lu_8[0][0]                  \n",
      "____________________________________________________________________________________________________\n",
      "p_re_lu_9 (PReLU)                (None, 128, 38, 38, 3 7023616     conv3d_9[0][0]                   \n",
      "____________________________________________________________________________________________________\n",
      "conv3d_10 (Conv3D)               (None, 128, 36, 36, 3 442496      p_re_lu_9[0][0]                  \n",
      "____________________________________________________________________________________________________\n",
      "p_re_lu_10 (PReLU)               (None, 128, 36, 36, 3 5971968     conv3d_10[0][0]                  \n",
      "____________________________________________________________________________________________________\n",
      "conv3d_11 (Conv3D)               (None, 128, 34, 34, 3 442496      p_re_lu_10[0][0]                 \n",
      "____________________________________________________________________________________________________\n",
      "p_re_lu_11 (PReLU)               (None, 128, 34, 34, 3 5030912     conv3d_11[0][0]                  \n",
      "____________________________________________________________________________________________________\n",
      "conv3d_12 (Conv3D)               (None, 128, 32, 32, 3 442496      p_re_lu_11[0][0]                 \n",
      "____________________________________________________________________________________________________\n",
      "p_re_lu_12 (PReLU)               (None, 128, 32, 32, 3 4194304     conv3d_12[0][0]                  \n",
      "____________________________________________________________________________________________________\n",
      "conv3d_13 (Conv3D)               (None, 1, 32, 32, 32) 129         p_re_lu_12[0][0]                 \n",
      "====================================================================================================\n",
      "Total params: 135,636,097\n",
      "Trainable params: 135,636,097\n",
      "Non-trainable params: 0\n",
      "____________________________________________________________________________________________________\n",
      "None\n"
     ]
    }
   ],
   "source": [
    "filelist, filepathlist = sgmt.getFilelist(DATAPATH)\n",
    "model = seg3d.getModel()\n",
    "model.load_weights(WEIGHTSPATH)\n",
    "candlist = pd.read_csv(ANNOTATIONS)"
   ]
  },
  {
   "cell_type": "code",
   "execution_count": 10,
   "metadata": {
    "collapsed": false
   },
   "outputs": [
    {
     "name": "stdout",
     "output_type": "stream",
     "text": [
      "SEGMENTING ...\n",
      "ASSESSING ...\n"
     ]
    },
    {
     "ename": "NameError",
     "evalue": "name 'measure' is not defined",
     "output_type": "error",
     "traceback": [
      "\u001b[0;31m---------------------------------------------------------------------------\u001b[0m",
      "\u001b[0;31mNameError\u001b[0m                                 Traceback (most recent call last)",
      "\u001b[0;32m<ipython-input-10-af63a8e1eba2>\u001b[0m in \u001b[0;36m<module>\u001b[0;34m()\u001b[0m\n\u001b[1;32m     29\u001b[0m \u001b[0;34m\u001b[0m\u001b[0m\n\u001b[1;32m     30\u001b[0m \u001b[0;32mprint\u001b[0m \u001b[0;34m\"ASSESSING ...\"\u001b[0m\u001b[0;34m\u001b[0m\u001b[0m\n\u001b[0;32m---> 31\u001b[0;31m \u001b[0mlabels\u001b[0m \u001b[0;34m=\u001b[0m \u001b[0mmeasure\u001b[0m\u001b[0;34m.\u001b[0m\u001b[0mlabel\u001b[0m\u001b[0;34m(\u001b[0m\u001b[0mseg\u001b[0m\u001b[0;34m,\u001b[0m \u001b[0mconnectivity\u001b[0m\u001b[0;34m=\u001b[0m\u001b[0;36m1\u001b[0m\u001b[0;34m)\u001b[0m\u001b[0;34m\u001b[0m\u001b[0m\n\u001b[0m\u001b[1;32m     32\u001b[0m \u001b[0mprops\u001b[0m \u001b[0;34m=\u001b[0m \u001b[0mmeasure\u001b[0m\u001b[0;34m.\u001b[0m\u001b[0mregionprops\u001b[0m\u001b[0;34m(\u001b[0m\u001b[0mlabels\u001b[0m\u001b[0;34m,\u001b[0m \u001b[0mpseg\u001b[0m\u001b[0;34m)\u001b[0m\u001b[0;34m\u001b[0m\u001b[0m\n\u001b[1;32m     33\u001b[0m \u001b[0mpropsi\u001b[0m \u001b[0;34m=\u001b[0m \u001b[0mmeasure\u001b[0m\u001b[0;34m.\u001b[0m\u001b[0mregionprops\u001b[0m\u001b[0;34m(\u001b[0m\u001b[0mlabels\u001b[0m\u001b[0;34m,\u001b[0m \u001b[0mimage\u001b[0m\u001b[0;34m)\u001b[0m\u001b[0;34m\u001b[0m\u001b[0m\n",
      "\u001b[0;31mNameError\u001b[0m: name 'measure' is not defined"
     ]
    }
   ],
   "source": [
    "n=2\n",
    "currentNodules = candlist[candlist['seriesuid'] == filelist[n]]\n",
    "itk = sitk.ReadImage(filepathlist[n])\n",
    "image, _ = cg.loadItk(filepathlist[n],None)\n",
    "origin = np.array(itk.GetOrigin())\n",
    "spacing = np.array(itk.GetSpacing())\n",
    "coords = sgmt.getCoords(currentNodules, origin, spacing)\n",
    "\n",
    "segShape = sgmt.getSegmentationShape(image.shape)\n",
    "lpad, hpad = sgmt.getPadding(segShape,image)\n",
    "segImage = np.zeros(segShape)\n",
    "segImage[lpad[0]:segShape[0]-hpad[0],lpad[1]:segShape[1]-hpad[1],lpad[2]:segShape[2]-hpad[2]] = image \n",
    "segImage = np.clip(segImage,-1000,1000)\n",
    "segImage += 1000\n",
    "segImage *= (255./2000.)\n",
    "\n",
    "stride = STRIDE\n",
    "strides = copy.deepcopy(segShape)\n",
    "strides /= stride\n",
    "#print segShape\n",
    "#print strides\n",
    "segmentation = sgmt.segmentImage(segImage, model, strides, stride)\n",
    "lpad -= 16 \n",
    "hpad -= 16\n",
    "pseg = segmentation[lpad[0]:segmentation.shape[0]-hpad[0],lpad[1]:segmentation.shape[1]-hpad[1],lpad[2]:segmentation.shape[2]-hpad[2]]\n",
    "seg = np.zeros(pseg.shape)\n",
    "seg = np.where(pseg>1e-2,1,0)"
   ]
  },
  {
   "cell_type": "code",
   "execution_count": 45,
   "metadata": {
    "collapsed": true
   },
   "outputs": [],
   "source": [
    "labels = measure.label(seg, connectivity=1)\n",
    "props = measure.regionprops(labels, labels)#, pseg)\n",
    "propsi = measure.regionprops(labels, image)\n",
    "#assess(OUTFILE,labels,coords,props,filelist[n], propsi=propsi)"
   ]
  },
  {
   "cell_type": "code",
   "execution_count": 41,
   "metadata": {
    "collapsed": false
   },
   "outputs": [
    {
     "name": "stdout",
     "output_type": "stream",
     "text": [
      "(168, 270, 243)\n",
      "(168.13443396226415, 270.81620619946091, 242.08018867924528)\n",
      "5936\n",
      "4.11047005653s\n",
      "(162, 221, 97)\n",
      "(162.26272912423624, 221.04073319755599, 96.957230142566189)\n",
      "491\n",
      "6.30972981453s\n",
      "(183, 157, 74)\n",
      "(184.22095959595958, 156.96969696969697, 73.931818181818187)\n",
      "792\n",
      "6.19247794151s\n"
     ]
    }
   ],
   "source": [
    "label = np.zeros(labels.shape).astype(int)\n",
    "\n",
    "for coord in coords:\n",
    "  time1 = time.time()\n",
    "  c3,c2,c1 = coord\n",
    "  l = labels[c1,c2,c3]\n",
    "  #l += 1\n",
    "  if l != 0:\n",
    "    #time1 = time.time()\n",
    "    label *= 0\n",
    "    #label = np.zeros(labels.shape).astype(int)\n",
    "    label = np.where(labels==l,1,0)\n",
    "    prop_prob = measure.regionprops(label,pseg)\n",
    "    #com = scipy.ndimage.measurements.center_of_mass(labels)\n",
    "    print (c1,c2,c3)\n",
    "    print prop_prob[0].centroid\n",
    "    #print com\n",
    "    #print np.sum(label)\n",
    "    print prop_prob[0].area\n",
    "  time2 = time.time()\n",
    "  print str(time2-time1)+'s'"
   ]
  },
  {
   "cell_type": "code",
   "execution_count": 19,
   "metadata": {
    "collapsed": false
   },
   "outputs": [
    {
     "data": {
      "text/plain": [
       "1"
      ]
     },
     "execution_count": 19,
     "metadata": {},
     "output_type": "execute_result"
    }
   ],
   "source": [
    "props[0].label"
   ]
  },
  {
   "cell_type": "code",
   "execution_count": 24,
   "metadata": {
    "collapsed": false
   },
   "outputs": [
    {
     "data": {
      "text/plain": [
       "368"
      ]
     },
     "execution_count": 24,
     "metadata": {},
     "output_type": "execute_result"
    }
   ],
   "source": [
    "len(labels)"
   ]
  },
  {
   "cell_type": "code",
   "execution_count": 46,
   "metadata": {
    "collapsed": false
   },
   "outputs": [
    {
     "data": {
      "text/plain": [
       "1806"
      ]
     },
     "execution_count": 46,
     "metadata": {},
     "output_type": "execute_result"
    }
   ],
   "source": [
    "len(props)"
   ]
  },
  {
   "cell_type": "code",
   "execution_count": 47,
   "metadata": {
    "collapsed": false
   },
   "outputs": [
    {
     "data": {
      "text/plain": [
       "1806"
      ]
     },
     "execution_count": 47,
     "metadata": {},
     "output_type": "execute_result"
    }
   ],
   "source": [
    "len(propsi)"
   ]
  },
  {
   "cell_type": "code",
   "execution_count": 16,
   "metadata": {
    "collapsed": false
   },
   "outputs": [
    {
     "name": "stdout",
     "output_type": "stream",
     "text": [
      "                                              seriesuid      coordX  \\\n",
      "1011  1.3.6.1.4.1.14519.5.2.1.6279.6001.511347030803...   60.775061   \n",
      "1012  1.3.6.1.4.1.14519.5.2.1.6279.6001.511347030803...  -85.421039   \n",
      "1013  1.3.6.1.4.1.14519.5.2.1.6279.6001.511347030803... -108.527516   \n",
      "\n",
      "         coordY      coordZ  diameter_mm  \n",
      "1011  74.123970 -214.782347    25.233202  \n",
      "1012  25.261721 -220.833830     9.756615  \n",
      "1013 -38.825247 -199.207307    10.989140  \n"
     ]
    }
   ],
   "source": [
    "print currentNodules"
   ]
  },
  {
   "cell_type": "code",
   "execution_count": null,
   "metadata": {
    "collapsed": true
   },
   "outputs": [],
   "source": []
  }
 ],
 "metadata": {
  "kernelspec": {
   "display_name": "Python 2",
   "language": "python",
   "name": "python2"
  },
  "language_info": {
   "codemirror_mode": {
    "name": "ipython",
    "version": 2
   },
   "file_extension": ".py",
   "mimetype": "text/x-python",
   "name": "python",
   "nbconvert_exporter": "python",
   "pygments_lexer": "ipython2",
   "version": "2.7.12"
  }
 },
 "nbformat": 4,
 "nbformat_minor": 2
}
