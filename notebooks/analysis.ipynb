{
 "cells": [
  {
   "cell_type": "code",
   "execution_count": 1,
   "metadata": {
    "collapsed": false,
    "deletable": true,
    "editable": true
   },
   "outputs": [
    {
     "name": "stderr",
     "output_type": "stream",
     "text": [
      "Using TensorFlow backend.\n"
     ]
    }
   ],
   "source": [
    "import sys\n",
    "sys.path.append('/home/g/Desktop/git/nodules/src/')\n",
    "sys.path.append('/home/g/Desktop/git/nodules/tf/')\n",
    "sys.path.append('/home/g/Desktop/git/nodules/keras/')\n",
    "sys.path.append('/home/g/Desktop/git/keras/keras/preprocessing/')\n",
    "from image3D import ImageDataGenerator\n",
    "\n",
    "import init\n",
    "import kerasUtil as ku\n",
    "import numpy as np\n",
    "import matplotlib.pyplot as plt\n",
    "import copy\n",
    "from sklearn.metrics import roc_curve"
   ]
  },
  {
   "cell_type": "code",
   "execution_count": 2,
   "metadata": {
    "collapsed": false,
    "deletable": true,
    "editable": true
   },
   "outputs": [],
   "source": [
    "from keras.models import load_model"
   ]
  },
  {
   "cell_type": "code",
   "execution_count": 3,
   "metadata": {
    "collapsed": false,
    "deletable": true,
    "editable": true
   },
   "outputs": [
    {
     "name": "stdout",
     "output_type": "stream",
     "text": [
      "175\n",
      "0.36\n",
      "[0.21178988686629704, 0.94857140098299297]\n",
      "(175, 3)\n"
     ]
    }
   ],
   "source": [
    "cfg = ['/scr/nodules/no4/val/','/scr/nodules/no4/samples/val/']\n",
    "images, labels = init.loadpng(cfg)\n",
    "images, labels = ku.cleanData(images,labels)\n",
    "testImages = ku.to3d(images,2)\n",
    "testLabels = ku.get3Labels(labels)\n",
    "print len(testImages)\n",
    "#testImages = ku.convertArray(testImages)\n",
    "valgen = ImageDataGenerator(\n",
    "  featurewise_center=True,\n",
    "  featurewise_std_normalization=True,\n",
    "  data_format='channels_first')\n",
    "valgen.fit(testImages)\n",
    "model = load_model('/home/g/Desktop/git/nodules/out/051117/32-no1-accuracy-051117.h5')\n",
    "print (np.sum(testLabels[:,0])/testLabels.shape[0])\n",
    "print model.evaluate_generator(valgen.flow(testImages,testLabels,batch_size=25),7,workers=1)\n",
    "m1 = model.predict_generator(valgen.flow(testImages,batch_size=25),7,workers=1)\n",
    "print m1.shape"
   ]
  },
  {
   "cell_type": "code",
   "execution_count": 5,
   "metadata": {
    "collapsed": false,
    "deletable": true,
    "editable": true
   },
   "outputs": [
    {
     "name": "stdout",
     "output_type": "stream",
     "text": [
      "175/175 [==============================] - 0s     \b\b\b\b\b\b\b\b\b\b\b\b\b\b\b\b\b\b\b\b\b\b\b\b\b\b\b\b\b\b\b\b\b\b\b\b\b\b\b\b\b\b\b\b\b\b\b\b\b\b\n",
      "[0.87041635717664445, 0.8571428612300328]\n",
      "125/175 [====================>.........] - ETA: 0s\b\b\b\b\b\b\b\b\b\b\b\b\b\b\b\b\b\b\b\b\b\b\b\b\b\b\b\b\b\b\b\b\b\b\b\b\b\b\b\b\b\b\b\b\b\b\b\b\b\b"
     ]
    }
   ],
   "source": [
    "testImages = ku.to3d(images,2)\n",
    "testImages = ku.convertArray(testImages)\n",
    "model = load_model('/home/g/Desktop/git/nodules/out/051117/32-no1-accuracy-051117.h5')\n",
    "print model.evaluate(testImages,testLabels,batch_size=64)\n",
    "m2 = model.predict_proba(testImages,batch_size=25)"
   ]
  },
  {
   "cell_type": "code",
   "execution_count": 35,
   "metadata": {
    "collapsed": false,
    "deletable": true,
    "editable": true
   },
   "outputs": [
    {
     "name": "stdout",
     "output_type": "stream",
     "text": [
      "[[  3.29092443e-02   9.67050374e-01   4.03404956e-05]\n",
      " [  9.98433888e-01   1.56432041e-03   1.81013627e-06]\n",
      " [  2.34803390e-02   9.76497173e-01   2.24559826e-05]\n",
      " [  6.00222766e-01   3.51551712e-01   4.82255369e-02]\n",
      " [  4.18117374e-01   5.59753835e-01   2.21286993e-02]\n",
      " [  1.60655137e-02   9.83928919e-01   5.55318047e-06]\n",
      " [  9.78595853e-01   2.10032184e-02   4.00944409e-04]\n",
      " [  7.53994938e-03   9.92459357e-01   7.08247796e-07]\n",
      " [  3.11026335e-01   6.83821142e-01   5.15256030e-03]\n",
      " [  1.24231458e-01   8.72578561e-01   3.18995025e-03]\n",
      " [  9.99990940e-01   9.10536164e-06   1.63355399e-10]\n",
      " [  9.97167766e-01   2.82683643e-03   5.29648014e-06]\n",
      " [  3.15635316e-02   9.68398392e-01   3.80951642e-05]\n",
      " [  8.57201517e-02   9.13766921e-01   5.12915663e-04]\n",
      " [  9.99965549e-01   3.44975560e-05   1.51424662e-09]\n",
      " [  1.14554632e-02   9.88540828e-01   3.74699744e-06]\n",
      " [  8.23533386e-02   9.17041123e-01   6.05503097e-04]\n",
      " [  1.57666549e-01   8.40721309e-01   1.61221158e-03]\n",
      " [  4.46819440e-02   9.55184042e-01   1.34004993e-04]\n",
      " [  9.48883355e-01   4.96512167e-02   1.46541849e-03]\n",
      " [  1.85451598e-03   9.98145461e-01   1.51218895e-08]\n",
      " [  2.05851924e-02   9.79403973e-01   1.08236927e-05]\n",
      " [  3.26227210e-02   9.67314482e-01   6.28716880e-05]\n",
      " [  8.52302551e-01   1.41867921e-01   5.82949305e-03]\n",
      " [  9.70581055e-01   2.87261978e-02   6.92685077e-04]\n",
      " [  7.65934736e-02   9.23096299e-01   3.10196774e-04]\n",
      " [  9.96841043e-02   8.99562299e-01   7.53614528e-04]\n",
      " [  3.80004682e-02   9.61914718e-01   8.49007265e-05]\n",
      " [  9.99966979e-01   3.30485418e-05   1.58641966e-09]\n",
      " [  3.70111875e-02   9.62915540e-01   7.33928464e-05]\n",
      " [  9.15469602e-02   9.07874703e-01   5.78405277e-04]\n",
      " [  4.37513664e-02   9.56115007e-01   1.33610360e-04]\n",
      " [  6.16460815e-02   9.38172042e-01   1.81868323e-04]\n",
      " [  4.53882426e-01   4.06558633e-01   1.39558926e-01]\n",
      " [  7.09160639e-04   9.99290824e-01   2.29842723e-09]\n",
      " [  9.97990847e-01   2.00050930e-03   8.70969870e-06]\n",
      " [  5.08858338e-02   9.48991358e-01   1.22912752e-04]\n",
      " [  1.71129331e-02   9.82880950e-01   6.12962685e-06]\n",
      " [  9.21104103e-02   9.07115042e-01   7.74625281e-04]\n",
      " [  9.90605295e-01   9.34985094e-03   4.48602805e-05]\n",
      " [  9.94609594e-01   5.37020247e-03   2.02074116e-05]\n",
      " [  5.36988795e-01   4.58363712e-01   4.64746077e-03]\n",
      " [  1.36515349e-02   9.86345053e-01   3.45160061e-06]\n",
      " [  2.27225553e-02   9.77257490e-01   1.99958286e-05]\n",
      " [  4.81203571e-02   9.51726973e-01   1.52727647e-04]\n",
      " [  1.44347891e-01   8.51000309e-01   4.65175509e-03]\n",
      " [  9.99999046e-01   9.93986987e-07   2.10001396e-12]\n",
      " [  2.45640725e-01   7.41063356e-01   1.32959569e-02]\n",
      " [  1.12519376e-01   8.85692477e-01   1.78815925e-03]\n",
      " [  1.39493167e-01   8.57718885e-01   2.78795324e-03]\n",
      " [  4.97554749e-01   4.91190672e-01   1.12545192e-02]\n",
      " [  1.03400424e-02   9.89657223e-01   2.73225965e-06]\n",
      " [  6.34146094e-01   3.55090827e-01   1.07631832e-02]\n",
      " [  9.98793960e-01   1.20365503e-03   2.38928919e-06]\n",
      " [  1.10337898e-01   8.87988985e-01   1.67320156e-03]\n",
      " [  1.38761222e-01   8.59428108e-01   1.81063416e-03]\n",
      " [  3.60983647e-02   9.63849843e-01   5.18274683e-05]\n",
      " [  4.88340892e-02   9.50904787e-01   2.61192879e-04]\n",
      " [  3.19672115e-02   9.67960477e-01   7.22049444e-05]\n",
      " [  2.52371758e-01   7.43917465e-01   3.71078984e-03]\n",
      " [  5.95184267e-02   9.40123558e-01   3.57930287e-04]\n",
      " [  9.19302225e-01   7.84648806e-02   2.23289779e-03]\n",
      " [  1.50850847e-01   8.44498754e-01   4.65037860e-03]\n",
      " [  2.24065911e-02   9.77578521e-01   1.49683638e-05]\n",
      " [  1.52142331e-01   8.46312404e-01   1.54518313e-03]\n",
      " [  6.00133240e-01   3.95308793e-01   4.55797650e-03]\n",
      " [  2.05220673e-02   9.79463577e-01   1.43186317e-05]\n",
      " [  9.93183911e-01   6.75966172e-03   5.65145056e-05]\n",
      " [  9.97537851e-01   2.45650671e-03   5.58048851e-06]\n",
      " [  9.99694228e-01   3.05647147e-04   1.34974911e-07]\n",
      " [  9.98927772e-01   1.07109058e-03   1.12567864e-06]\n",
      " [  4.69390117e-03   9.95305598e-01   4.20420406e-07]\n",
      " [  7.88254440e-02   9.20499206e-01   6.75274408e-04]\n",
      " [  3.03271078e-02   9.69639242e-01   3.36355952e-05]\n",
      " [  1.83231458e-02   9.81660604e-01   1.63096283e-05]\n",
      " [  8.42002854e-02   9.14916158e-01   8.83531873e-04]\n",
      " [  5.85551485e-02   9.41004157e-01   4.40673524e-04]\n",
      " [  8.43895897e-02   9.14704740e-01   9.05707071e-04]\n",
      " [  1.79838434e-01   8.17257047e-01   2.90448638e-03]\n",
      " [  2.80989528e-01   6.99629664e-01   1.93807688e-02]\n",
      " [  9.99464571e-01   5.35014551e-04   5.22582525e-07]\n",
      " [  1.99532807e-02   9.80031610e-01   1.50872593e-05]\n",
      " [  1.65683329e-01   8.31072569e-01   3.24413017e-03]\n",
      " [  1.38356715e-01   8.57481420e-01   4.16186033e-03]\n",
      " [  9.98956084e-01   1.04260806e-03   1.29981493e-06]\n",
      " [  9.99996901e-01   3.11223516e-06   3.86565675e-11]\n",
      " [  1.26511887e-01   8.72518122e-01   9.69987886e-04]\n",
      " [  9.90607023e-01   9.31829680e-03   7.46035585e-05]\n",
      " [  8.39262366e-01   1.55107334e-01   5.63032925e-03]\n",
      " [  2.29250211e-02   9.77058053e-01   1.68660736e-05]\n",
      " [  2.88349539e-02   9.71111417e-01   5.35498220e-05]\n",
      " [  2.99867064e-01   6.98218524e-01   1.91443274e-03]\n",
      " [  5.46862930e-02   9.45127845e-01   1.85857760e-04]\n",
      " [  9.99904633e-01   9.53896233e-05   9.68606439e-09]\n",
      " [  3.29720616e-01   6.55471206e-01   1.48081118e-02]\n",
      " [  9.94940162e-01   5.01970528e-03   4.02187688e-05]\n",
      " [  9.99999881e-01   1.44288833e-07   1.48226429e-13]\n",
      " [  8.30359161e-01   1.63686365e-01   5.95441088e-03]\n",
      " [  5.72142191e-03   9.94278193e-01   3.48694044e-07]\n",
      " [  7.97341228e-01   1.96358949e-01   6.29983842e-03]\n",
      " [  1.30918235e-01   8.67449760e-01   1.63195364e-03]\n",
      " [  7.38085568e-01   2.48482957e-01   1.34315481e-02]\n",
      " [  3.80484730e-01   6.00751519e-01   1.87636670e-02]\n",
      " [  6.28237203e-02   9.36867833e-01   3.08471150e-04]\n",
      " [  9.25272048e-01   7.18362108e-02   2.89181550e-03]\n",
      " [  1.00000000e+00   1.57797473e-08   1.84755822e-15]\n",
      " [  2.84565501e-02   9.71504688e-01   3.88275985e-05]\n",
      " [  8.24911073e-02   9.17037010e-01   4.71877313e-04]\n",
      " [  9.75359678e-01   2.41538025e-02   4.86573234e-04]\n",
      " [  2.21885554e-03   9.97781217e-01   3.56010226e-08]\n",
      " [  1.69112161e-02   9.83067572e-01   2.12457289e-05]\n",
      " [  2.15459421e-01   7.78272152e-01   6.26843609e-03]\n",
      " [  5.71475849e-02   9.42671120e-01   1.81210693e-04]\n",
      " [  9.99881387e-01   1.18616597e-04   3.08813277e-08]\n",
      " [  4.81446125e-02   9.51720357e-01   1.35059963e-04]\n",
      " [  3.59187067e-01   6.35002553e-01   5.81037998e-03]\n",
      " [  1.00414544e-01   8.98207128e-01   1.37829990e-03]\n",
      " [  8.70733932e-02   9.11872149e-01   1.05450605e-03]\n",
      " [  8.85071978e-03   9.91147578e-01   1.81325288e-06]\n",
      " [  1.28654778e-01   8.69311988e-01   2.03321362e-03]\n",
      " [  9.96459424e-01   3.53158964e-03   8.98181042e-06]\n",
      " [  5.39662205e-02   9.45864916e-01   1.68903978e-04]\n",
      " [  2.37094071e-02   9.76275682e-01   1.48560948e-05]\n",
      " [  9.99976397e-01   2.36146261e-05   1.55497282e-09]\n",
      " [  6.73432291e-01   2.82117605e-01   4.44501340e-02]\n",
      " [  3.77576113e-01   6.14897311e-01   7.52656395e-03]\n",
      " [  6.96595609e-02   9.29828823e-01   5.11499005e-04]\n",
      " [  9.66670156e-01   3.27064805e-02   6.23340020e-04]\n",
      " [  3.46033610e-02   9.65352476e-01   4.41715129e-05]\n",
      " [  5.42334616e-02   9.45593834e-01   1.72675151e-04]\n",
      " [  9.30589139e-01   6.80258647e-02   1.38502067e-03]\n",
      " [  9.89215553e-01   1.06957350e-02   8.88481736e-05]\n",
      " [  1.84276640e-01   8.09987485e-01   5.73585136e-03]\n",
      " [  3.38971685e-03   9.96610105e-01   1.63412210e-07]\n",
      " [  8.08738694e-02   9.18486893e-01   6.39199046e-04]\n",
      " [  1.54873073e-01   8.41840386e-01   3.28657194e-03]\n",
      " [  4.16990221e-02   9.58180726e-01   1.20324643e-04]\n",
      " [  1.59822136e-01   8.36158276e-01   4.01960965e-03]\n",
      " [  1.61760762e-01   8.31086576e-01   7.15265749e-03]\n",
      " [  7.75893927e-02   9.21534836e-01   8.75779835e-04]\n",
      " [  1.08473144e-01   8.90039980e-01   1.48685416e-03]\n",
      " [  3.77923399e-02   9.62123990e-01   8.37020561e-05]\n",
      " [  2.11647972e-02   9.78816271e-01   1.88850227e-05]\n",
      " [  9.92062211e-01   7.89142773e-03   4.63507786e-05]\n",
      " [  7.78774992e-02   9.21840370e-01   2.82154942e-04]\n",
      " [  9.99859333e-01   1.40696226e-04   2.49870737e-08]\n",
      " [  2.42217124e-01   7.44210005e-01   1.35728279e-02]\n",
      " [  9.66766328e-02   9.02173162e-01   1.15022564e-03]\n",
      " [  1.25529155e-01   8.72753501e-01   1.71744428e-03]\n",
      " [  1.50900424e-01   8.47154617e-01   1.94498932e-03]\n",
      " [  9.94220495e-01   5.75377978e-03   2.57024603e-05]\n",
      " [  2.71254275e-02   9.72845137e-01   2.94189940e-05]\n",
      " [  9.99193609e-01   8.05644551e-04   6.57614009e-07]\n",
      " [  1.70807708e-02   9.82904792e-01   1.43922243e-05]\n",
      " [  8.65002871e-02   9.12550807e-01   9.48897621e-04]\n",
      " [  9.86794174e-01   1.30948527e-02   1.10983783e-04]\n",
      " [  4.15170968e-01   5.68165362e-01   1.66636929e-02]\n",
      " [  1.92921385e-02   9.80692923e-01   1.50014375e-05]\n",
      " [  5.12690656e-02   9.48535502e-01   1.95373286e-04]\n",
      " [  9.95296538e-01   4.69047483e-03   1.30206317e-05]\n",
      " [  9.97699916e-01   2.29624216e-03   3.75622358e-06]\n",
      " [  1.66804604e-02   9.83309925e-01   9.65659729e-06]\n",
      " [  9.63374436e-01   3.61296646e-02   4.95865999e-04]\n",
      " [  7.20179230e-02   9.27561283e-01   4.20854194e-04]\n",
      " [  4.18816417e-01   5.78512847e-01   2.67078308e-03]\n",
      " [  4.77462374e-02   9.52174842e-01   7.89112528e-05]\n",
      " [  5.36480956e-02   9.46149707e-01   2.02163297e-04]\n",
      " [  2.55177543e-02   9.74454343e-01   2.79190062e-05]\n",
      " [  4.53127354e-01   4.06906277e-01   1.39966369e-01]\n",
      " [  9.99293923e-01   7.05582381e-04   4.39873133e-07]\n",
      " [  8.96761000e-01   1.00206107e-01   3.03291762e-03]\n",
      " [  6.60807431e-01   2.81935781e-01   5.72568849e-02]\n",
      " [  5.90725616e-02   9.40545738e-01   3.81714839e-04]\n",
      " [  3.58183123e-02   9.64075863e-01   1.05854437e-04]\n",
      " [  4.86539096e-01   5.04382312e-01   9.07856971e-03]]\n"
     ]
    }
   ],
   "source": [
    "print m1"
   ]
  },
  {
   "cell_type": "code",
   "execution_count": 22,
   "metadata": {
    "collapsed": false,
    "deletable": true,
    "editable": true
   },
   "outputs": [],
   "source": [
    "#print m2"
   ]
  },
  {
   "cell_type": "code",
   "execution_count": 6,
   "metadata": {
    "collapsed": false,
    "deletable": true,
    "editable": true
   },
   "outputs": [
    {
     "name": "stdout",
     "output_type": "stream",
     "text": [
      "214/214 [==============================] - 0s     \b\b\b\b\b\b\b\b\b\b\b\b\b\b\b\b\b\b\b\b\b\b\b\b\b\b\b\b\b\b\b\b\b\b\b\b\b\b\b\b\b\b\b\b\b\b\b\b\b\b\b\b\b\b\b\b\b\b\b\b\b\b\b\b\b\b\b\b\b\b\b\b\b\b\b\b\b\b\b\b\b\b\b\b\b\b\b\b\b\b\b\b\b\b\b\b\b\b\b\b\b\b\b\b\b\b\b\b\b\b\b\b\b\b\b\b\b\b\b\b\b\b\b\b\b\b\b\b\b\b\b\b\b\b\b\b\b\b\b\b\b\b\b\b\b\b\b\b\b\b\n",
      "[0.37138833398016813, 0.85981308522625499]\n",
      "214/214 [==============================] - 0s     \b\b\b\b\b\b\b\b\b\b\b\b\b\b\b\b\b\b\b\b\b\b\b\b\b\b\b\b\b\b\b\b\b\b\b\b\b\b\b\b\b\b\b\b\b\b\b\b\b\b\b\b\b\b\b\b\b\b\b\b\b\b\b\b\b\b\b\b\b\b\b\b\b\b\b\b\b\b\b\b\b\b\b\b\b\b\b\b\b\b\b\b\b\b\b\b\b\b\b\b\b\b\b\b\b\b\b\b\b\b\b\b\b\b\b\b\b\b\b\b\b\b\b\b\b\b\b\b\b\b\b\b\b\b\b\b\b\b\b\b\b\b\b\b\b\b\b\b\b\b\n"
     ]
    }
   ],
   "source": [
    "testImages = ku.to3d(images,1)\n",
    "testImages = ku.convertArray(testImages)\n",
    "model = load_model('/home/g/Desktop/git/nodules/16x48x48_no4_test_b1.h5')\n",
    "print model.evaluate(testImages,testLabels,batch_size=64)\n",
    "m3 = model.predict_proba(testImages,batch_size=32)"
   ]
  },
  {
   "cell_type": "code",
   "execution_count": 7,
   "metadata": {
    "collapsed": false,
    "deletable": true,
    "editable": true
   },
   "outputs": [
    {
     "name": "stdout",
     "output_type": "stream",
     "text": [
      "192/214 [=========================>....] - ETA: 0s\b\b\b\b\b\b\b\b\b\b\b\b\b\b\b\b\b\b\b\b\b\b\b\b\b\b\b\b\b\b\b\b\b\b\b\b\b\b\b\b\b\b\b\b\b\b\b\b\b\b\b\b\b\b\b\b\b\b\b\b\b\b\b\b\b\b\b\b\b\b\b\b\b\b\b\b\b\b\b\b\b\b\b\b\b\b\b\b\b\b\b\b\b\b\b\b\b\b\b\b[0.40110837466248844, 0.87850467735361826]\n",
      "214/214 [==============================] - 0s     \b\b\b\b\b\b\b\b\b\b\b\b\b\b\b\b\b\b\b\b\b\b\b\b\b\b\b\b\b\b\b\b\b\b\b\b\b\b\b\b\b\b\b\b\b\b\b\b\b\b\b\b\b\b\b\b\b\b\b\b\b\b\b\b\b\b\b\b\b\b\b\b\b\b\b\b\b\b\b\b\b\b\b\b\b\b\b\b\b\b\b\b\b\b\b\b\b\b\b\b\b\b\b\b\b\b\b\b\b\b\b\b\b\b\b\b\b\b\b\b\b\b\b\b\b\b\b\b\b\b\b\b\b\b\b\b\b\b\b\b\b\b\b\b\b\b\b\b\b\b\n"
     ]
    }
   ],
   "source": [
    "testImages = ku.to3d(images,1)\n",
    "testImages = ku.convertArray(testImages)\n",
    "model = load_model('/home/g/Desktop/git/nodules/16x48x48_no4_test_b2.h5')\n",
    "print model.evaluate(testImages,testLabels,batch_size=64)\n",
    "m4 = model.predict_proba(testImages,batch_size=32)"
   ]
  },
  {
   "cell_type": "code",
   "execution_count": 8,
   "metadata": {
    "collapsed": false,
    "deletable": true,
    "editable": true
   },
   "outputs": [
    {
     "name": "stdout",
     "output_type": "stream",
     "text": [
      "192/214 [=========================>....] - ETA: 0s\b\b\b\b\b\b\b\b\b\b\b\b\b\b\b\b\b\b\b\b\b\b\b\b\b\b\b\b\b\b\b\b\b\b\b\b\b\b\b\b\b\b\b\b\b\b\b\b\b\b[0.31346644307965432, 0.89252337005650884]\n",
      "160/214 [=====================>........] - ETA: 0s\b\b\b\b\b\b\b\b\b\b\b\b\b\b\b\b\b\b\b\b\b\b\b\b\b\b\b\b\b\b\b\b\b\b\b\b\b\b\b\b\b\b\b\b\b\b\b\b\b\b"
     ]
    }
   ],
   "source": [
    "testImages = ku.to3d(images,2)\n",
    "testImages = ku.convertArray(testImages)\n",
    "model = load_model('/home/g/Desktop/git/nodules/16x32x32_no4_test_b1.h5')\n",
    "print model.evaluate(testImages,testLabels,batch_size=64)\n",
    "m5 = model.predict_proba(testImages,batch_size=32)"
   ]
  },
  {
   "cell_type": "code",
   "execution_count": 9,
   "metadata": {
    "collapsed": false,
    "deletable": true,
    "editable": true
   },
   "outputs": [
    {
     "name": "stdout",
     "output_type": "stream",
     "text": [
      "192/214 [=========================>....] - ETA: 0s\b\b\b\b\b\b\b\b\b\b\b\b\b\b\b\b\b\b\b\b\b\b\b\b\b\b\b\b\b\b\b\b\b\b\b\b\b\b\b\b\b\b\b\b\b\b\b\b\b\b[0.30413828469882503, 0.85981308689741331]\n",
      "160/214 [=====================>........] - ETA: 0s\b\b\b\b\b\b\b\b\b\b\b\b\b\b\b\b\b\b\b\b\b\b\b\b\b\b\b\b\b\b\b\b\b\b\b\b\b\b\b\b\b\b\b\b\b\b\b\b\b\b"
     ]
    }
   ],
   "source": [
    "testImages = ku.to3d(images,2)\n",
    "testImages = ku.convertArray(testImages)\n",
    "model = load_model('/home/g/Desktop/git/nodules/16x32x32_no4_test_b2.h5')\n",
    "print model.evaluate(testImages,testLabels,batch_size=64)\n",
    "m6 = model.predict_proba(testImages,batch_size=32)"
   ]
  },
  {
   "cell_type": "code",
   "execution_count": 6,
   "metadata": {
    "collapsed": false,
    "deletable": true,
    "editable": true
   },
   "outputs": [
    {
     "data": {
      "image/png": "[encoded data removed]",
      "text/plain": [
       "<matplotlib.figure.Figure at 0x7fc994df54d0>"
      ]
     },
     "metadata": {},
     "output_type": "display_data"
    }
   ],
   "source": [
    "#testLabels = np.asarray(testLabels)\n",
    "fpr, tpr, _ = roc_curve(testLabels[:,0],m1[:,0])\n",
    "plt.plot(fpr,tpr)\n",
    "plt.show()  \n",
    "plt.clf()"
   ]
  },
  {
   "cell_type": "code",
   "execution_count": 7,
   "metadata": {
    "collapsed": false,
    "deletable": true,
    "editable": true
   },
   "outputs": [
    {
     "data": {
      "image/png": "[encoded data removed]",
      "text/plain": [
       "<matplotlib.figure.Figure at 0x7fc98c527f50>"
      ]
     },
     "metadata": {},
     "output_type": "display_data"
    }
   ],
   "source": [
    "testLabels = np.asarray(testLabels)\n",
    "fpr, tpr, _ = roc_curve(testLabels[:,0],m2[:,0])\n",
    "plt.plot(fpr,tpr)\n",
    "plt.show()  \n",
    "plt.clf()"
   ]
  },
  {
   "cell_type": "code",
   "execution_count": 12,
   "metadata": {
    "collapsed": false,
    "deletable": true,
    "editable": true
   },
   "outputs": [
    {
     "data": {
      "image/png": "[encoded data removed]",
      "text/plain": [
       "<matplotlib.figure.Figure at 0x7f01099c2610>"
      ]
     },
     "metadata": {},
     "output_type": "display_data"
    }
   ],
   "source": [
    "testLabels = np.asarray(testLabels)\n",
    "fpr, tpr, _ = roc_curve(testLabels[:,0],m3[:,0])\n",
    "plt.plot(fpr,tpr)\n",
    "plt.show()  \n",
    "plt.clf()"
   ]
  },
  {
   "cell_type": "code",
   "execution_count": 13,
   "metadata": {
    "collapsed": false,
    "deletable": true,
    "editable": true
   },
   "outputs": [
    {
     "data": {
      "image/png": "[encoded data removed]",
      "text/plain": [
       "<matplotlib.figure.Figure at 0x7f0109903d90>"
      ]
     },
     "metadata": {},
     "output_type": "display_data"
    }
   ],
   "source": [
    "fpr, tpr, _ = roc_curve(testLabels[:,0],m4[:,0])\n",
    "plt.plot(fpr,tpr)\n",
    "plt.show()  \n",
    "plt.clf()"
   ]
  },
  {
   "cell_type": "code",
   "execution_count": 14,
   "metadata": {
    "collapsed": false,
    "deletable": true,
    "editable": true
   },
   "outputs": [
    {
     "data": {
      "image/png": "[encoded data removed]",
      "text/plain": [
       "<matplotlib.figure.Figure at 0x7f010992a590>"
      ]
     },
     "metadata": {},
     "output_type": "display_data"
    }
   ],
   "source": [
    "fpr, tpr, _ = roc_curve(testLabels[:,0],m5[:,0])\n",
    "plt.plot(fpr,tpr)\n",
    "plt.show()  \n",
    "plt.clf()"
   ]
  },
  {
   "cell_type": "code",
   "execution_count": 15,
   "metadata": {
    "collapsed": false,
    "deletable": true,
    "editable": true
   },
   "outputs": [
    {
     "data": {
      "image/png": "[encoded data removed]",
      "text/plain": [
       "<matplotlib.figure.Figure at 0x7f0109898cd0>"
      ]
     },
     "metadata": {},
     "output_type": "display_data"
    }
   ],
   "source": [
    "fpr, tpr, _ = roc_curve(testLabels[:,0],m6[:,0])\n",
    "plt.plot(fpr,tpr)\n",
    "plt.show()  \n",
    "plt.clf()"
   ]
  },
  {
   "cell_type": "code",
   "execution_count": 16,
   "metadata": {
    "collapsed": false,
    "deletable": true,
    "editable": true
   },
   "outputs": [],
   "source": [
    "m = m1[:,0]+m2[:,0]+m3[:,0]+m4[:,0]+m5[:,0]+m6[:,0]\n",
    "m = m/6."
   ]
  },
  {
   "cell_type": "code",
   "execution_count": 17,
   "metadata": {
    "collapsed": false,
    "deletable": true,
    "editable": true
   },
   "outputs": [
    {
     "data": {
      "image/png": "[encoded data removed]",
      "text/plain": [
       "<matplotlib.figure.Figure at 0x7f0109a2c6d0>"
      ]
     },
     "metadata": {},
     "output_type": "display_data"
    }
   ],
   "source": [
    "testLabels = np.asarray(testLabels)\n",
    "fpr, tpr, _ = roc_curve(testLabels[:,0],m)\n",
    "plt.plot(fpr,tpr)\n",
    "plt.show()  \n",
    "plt.clf()"
   ]
  },
  {
   "cell_type": "code",
   "execution_count": null,
   "metadata": {
    "collapsed": true,
    "deletable": true,
    "editable": true
   },
   "outputs": [],
   "source": []
  },
  {
   "cell_type": "code",
   "execution_count": null,
   "metadata": {
    "collapsed": true,
    "deletable": true,
    "editable": true
   },
   "outputs": [],
   "source": []
  },
  {
   "cell_type": "code",
   "execution_count": 18,
   "metadata": {
    "collapsed": false,
    "deletable": true,
    "editable": true
   },
   "outputs": [
    {
     "name": "stdout",
     "output_type": "stream",
     "text": [
      "LOADING DATA...\n"
     ]
    }
   ],
   "source": [
    "cfg = ['/scr/nodules/no4/bin5/','/scr/nodules/no4/bin5/']\n",
    "imagesB, labelsB = init.loadData(cfg)\n",
    "imagesB, labelsB = ku.cleanData(imagesB,labelsB)\n",
    "testLabelsB = ku.get3Labels(labelsB)"
   ]
  },
  {
   "cell_type": "code",
   "execution_count": 19,
   "metadata": {
    "collapsed": false,
    "deletable": true,
    "editable": true
   },
   "outputs": [
    {
     "name": "stdout",
     "output_type": "stream",
     "text": [
      "248/248 [==============================] - 0s     \b\b\b\b\b\b\b\b\b\b\b\b\b\b\b\b\b\b\b\b\b\b\b\b\b\b\b\b\b\b\b\b\b\b\b\b\b\b\b\b\b\b\b\b\b\b\b\b\b\b\b\b\b\b\b\b\b\b\b\b\b\b\b\b\b\b\b\b\b\b\b\b\b\b\b\b\b\b\b\b\b\b\b\b\b\b\b\b\b\b\b\b\b\b\b\b\b\b\b\b\b\b\b\b\b\b\b\b\b\b\b\b\b\b\b\b\b\b\b\b\b\b\b\b\b\b\b\b\b\b\b\b\b\b\b\b\b\b\b\b\b\b\b\b\b\b\b\b\b\b\n",
      "[0.34669824088773421, 0.85080646699474705]\n",
      "248/248 [==============================] - 0s     \b\b\b\b\b\b\b\b\b\b\b\b\b\b\b\b\b\b\b\b\b\b\b\b\b\b\b\b\b\b\b\b\b\b\b\b\b\b\b\b\b\b\b\b\b\b\b\b\b\b\b\b\b\b\b\b\b\b\b\b\b\b\b\b\b\b\b\b\b\b\b\b\b\b\b\b\b\b\b\b\b\b\b\b\b\b\b\b\b\b\b\b\b\b\b\b\b\b\b\b\b\b\b\b\b\b\b\b\b\b\b\b\b\b\b\b\b\b\b\b\b\b\b\b\b\b\b\b\b\b\b\b\b\b\b\b\b\b\b\b\b\b\b\b\b\b\b\b\b\b\n"
     ]
    }
   ],
   "source": [
    "testImages = ku.to3d(imagesB,0)\n",
    "testImages = ku.convertArray(testImages)\n",
    "model = load_model('/home/g/Desktop/git/nodules/16x64x64_no4_test_b1.h5')\n",
    "print model.evaluate(testImages,testLabelsB,batch_size=64)\n",
    "m1b = model.predict_proba(testImages,batch_size=64)"
   ]
  },
  {
   "cell_type": "code",
   "execution_count": 20,
   "metadata": {
    "collapsed": false,
    "deletable": true,
    "editable": true
   },
   "outputs": [
    {
     "name": "stdout",
     "output_type": "stream",
     "text": [
      "248/248 [==============================] - 0s     \b\b\b\b\b\b\b\b\b\b\b\b\b\b\b\b\b\b\b\b\b\b\b\b\b\b\b\b\b\b\b\b\b\b\b\b\b\b\b\b\b\b\b\b\b\b\b\b\b\b\b\b\b\b\b\b\b\b\b\b\b\b\b\b\b\b\b\b\b\b\b\b\b\b\b\b\b\b\b\b\b\b\b\b\b\b\b\b\b\b\b\b\b\b\b\b\b\b\b\b\b\b\b\b\b\b\b\b\b\b\b\b\b\b\b\b\b\b\b\b\b\b\b\b\b\b\b\b\b\b\b\b\b\b\b\b\b\b\b\b\b\b\b\b\b\b\b\b\b\b\n",
      "[0.31608350526901985, 0.89112904187171693]\n",
      "248/248 [==============================] - 0s     \b\b\b\b\b\b\b\b\b\b\b\b\b\b\b\b\b\b\b\b\b\b\b\b\b\b\b\b\b\b\b\b\b\b\b\b\b\b\b\b\b\b\b\b\b\b\b\b\b\b\b\b\b\b\b\b\b\b\b\b\b\b\b\b\b\b\b\b\b\b\b\b\b\b\b\b\b\b\b\b\b\b\b\b\b\b\b\b\b\b\b\b\b\b\b\b\b\b\b\b\b\b\b\b\b\b\b\b\b\b\b\b\b\b\b\b\b\b\b\b\b\b\b\b\b\b\b\b\b\b\b\b\b\b\b\b\b\b\b\b\b\b\b\b\b\b\b\b\b\b\n"
     ]
    }
   ],
   "source": [
    "testImages = ku.to3d(imagesB,0)\n",
    "testImages = ku.convertArray(testImages)\n",
    "model = load_model('/home/g/Desktop/git/nodules/16x64x64_no4_test_b2.h5')\n",
    "print model.evaluate(testImages,testLabelsB,batch_size=64)\n",
    "m2b = model.predict_proba(testImages,batch_size=64)"
   ]
  },
  {
   "cell_type": "code",
   "execution_count": 21,
   "metadata": {
    "collapsed": false,
    "deletable": true,
    "editable": true
   },
   "outputs": [
    {
     "name": "stdout",
     "output_type": "stream",
     "text": [
      "248/248 [==============================] - 0s     \b\b\b\b\b\b\b\b\b\b\b\b\b\b\b\b\b\b\b\b\b\b\b\b\b\b\b\b\b\b\b\b\b\b\b\b\b\b\b\b\b\b\b\b\b\b\b\b\b\b\b\b\b\b\b\b\b\b\b\b\b\b\b\b\b\b\b\b\b\b\b\b\b\b\b\b\b\b\b\b\b\b\b\b\b\b\b\b\b\b\b\b\b\b\b\b\b\b\b\b\b\b\b\b\b\b\b\b\b\b\b\b\b\b\b\b\b\b\b\b\b\b\b\b\b\b\b\b\b\b\b\b\b\b\b\b\b\b\b\b\b\b\b\b\b\b\b\b\b\b\n",
      "[0.29470837404651029, 0.8911290399489864]\n",
      "248/248 [==============================] - 0s     \b\b\b\b\b\b\b\b\b\b\b\b\b\b\b\b\b\b\b\b\b\b\b\b\b\b\b\b\b\b\b\b\b\b\b\b\b\b\b\b\b\b\b\b\b\b\b\b\b\b\b\b\b\b\b\b\b\b\b\b\b\b\b\b\b\b\b\b\b\b\b\b\b\b\b\b\b\b\b\b\b\b\b\b\b\b\b\b\b\b\b\b\b\b\b\b\b\b\b\b\b\b\b\b\b\b\b\b\b\b\b\b\b\b\b\b\b\b\b\b\b\b\b\b\b\b\b\b\b\b\b\b\b\b\b\b\b\b\b\b\b\b\b\b\b\b\b\b\b\b\n"
     ]
    }
   ],
   "source": [
    "testImages = ku.to3d(imagesB,1)\n",
    "testImages = ku.convertArray(testImages)\n",
    "model = load_model('/home/g/Desktop/git/nodules/16x48x48_no4_test_b1.h5')\n",
    "print model.evaluate(testImages,testLabelsB,batch_size=64)\n",
    "m3b = model.predict_proba(testImages,batch_size=64)"
   ]
  },
  {
   "cell_type": "code",
   "execution_count": 22,
   "metadata": {
    "collapsed": false,
    "deletable": true,
    "editable": true
   },
   "outputs": [
    {
     "name": "stdout",
     "output_type": "stream",
     "text": [
      "248/248 [==============================] - 0s     \b\b\b\b\b\b\b\b\b\b\b\b\b\b\b\b\b\b\b\b\b\b\b\b\b\b\b\b\b\b\b\b\b\b\b\b\b\b\b\b\b\b\b\b\b\b\b\b\b\b\b\b\b\b\b\b\b\b\b\b\b\b\b\b\b\b\b\b\b\b\b\b\b\b\b\b\b\b\b\b\b\b\b\b\b\b\b\b\b\b\b\b\b\b\b\b\b\b\b\b\b\b\b\b\b\b\b\b\b\b\b\b\b\b\b\b\b\b\b\b\b\b\b\b\b\b\b\b\b\b\b\b\b\b\b\b\b\b\b\b\b\b\b\b\b\b\b\b\b\b\n",
      "[0.38988285487697971, 0.85483870967741937]\n",
      "248/248 [==============================] - 0s     \b\b\b\b\b\b\b\b\b\b\b\b\b\b\b\b\b\b\b\b\b\b\b\b\b\b\b\b\b\b\b\b\b\b\b\b\b\b\b\b\b\b\b\b\b\b\b\b\b\b\b\b\b\b\b\b\b\b\b\b\b\b\b\b\b\b\b\b\b\b\b\b\b\b\b\b\b\b\b\b\b\b\b\b\b\b\b\b\b\b\b\b\b\b\b\b\b\b\b\b\b\b\b\b\b\b\b\b\b\b\b\b\b\b\b\b\b\b\b\b\b\b\b\b\b\b\b\b\b\b\b\b\b\b\b\b\b\b\b\b\b\b\b\b\b\b\b\b\b\b\n"
     ]
    }
   ],
   "source": [
    "testImages = ku.to3d(imagesB,1)\n",
    "testImages = ku.convertArray(testImages)\n",
    "model = load_model('/home/g/Desktop/git/nodules/16x48x48_no4_test_b2.h5')\n",
    "print model.evaluate(testImages,testLabelsB,batch_size=64)\n",
    "m4b = model.predict_proba(testImages,batch_size=64)"
   ]
  },
  {
   "cell_type": "code",
   "execution_count": 23,
   "metadata": {
    "collapsed": false,
    "deletable": true,
    "editable": true
   },
   "outputs": [
    {
     "name": "stdout",
     "output_type": "stream",
     "text": [
      "248/248 [==============================] - 0s     \b\b\b\b\b\b\b\b\b\b\b\b\b\b\b\b\b\b\b\b\b\b\b\b\b\b\b\b\b\b\b\b\b\b\b\b\b\b\b\b\b\b\b\b\b\b\b\b\b\b\b\b\b\b\b\b\b\b\b\b\b\b\b\b\b\b\b\b\b\b\b\b\b\b\b\b\b\b\b\b\b\b\b\b\b\b\b\b\b\b\b\b\b\b\b\b\b\b\b\b\n",
      "[0.28010707324550999, 0.90725807412978143]\n",
      "192/248 [======================>.......] - ETA: 0s\b\b\b\b\b\b\b\b\b\b\b\b\b\b\b\b\b\b\b\b\b\b\b\b\b\b\b\b\b\b\b\b\b\b\b\b\b\b\b\b\b\b\b\b\b\b\b\b\b\b"
     ]
    }
   ],
   "source": [
    "testImages = ku.to3d(imagesB,2)\n",
    "testImages = ku.convertArray(testImages)\n",
    "model = load_model('/home/g/Desktop/git/nodules/16x32x32_no4_test_b1.h5')\n",
    "print model.evaluate(testImages,testLabelsB,batch_size=64)\n",
    "m5b = model.predict_proba(testImages,batch_size=64)"
   ]
  },
  {
   "cell_type": "code",
   "execution_count": 24,
   "metadata": {
    "collapsed": false,
    "deletable": true,
    "editable": true
   },
   "outputs": [
    {
     "name": "stdout",
     "output_type": "stream",
     "text": [
      "192/248 [======================>.......] - ETA: 0s\b\b\b\b\b\b\b\b\b\b\b\b\b\b\b\b\b\b\b\b\b\b\b\b\b\b\b\b\b\b\b\b\b\b\b\b\b\b\b\b\b\b\b\b\b\b\b\b\b\b[0.23728987382304284, 0.89516130185896348]\n",
      "192/248 [======================>.......] - ETA: 0s\b\b\b\b\b\b\b\b\b\b\b\b\b\b\b\b\b\b\b\b\b\b\b\b\b\b\b\b\b\b\b\b\b\b\b\b\b\b\b\b\b\b\b\b\b\b\b\b\b\b"
     ]
    }
   ],
   "source": [
    "testImages = ku.to3d(imagesB,2)\n",
    "testImages = ku.convertArray(testImages)\n",
    "model = load_model('/home/g/Desktop/git/nodules/16x32x32_no4_test_b2.h5')\n",
    "print model.evaluate(testImages,testLabelsB,batch_size=64)\n",
    "m6b = model.predict_proba(testImages,batch_size=64)"
   ]
  },
  {
   "cell_type": "code",
   "execution_count": 26,
   "metadata": {
    "collapsed": false,
    "deletable": true,
    "editable": true
   },
   "outputs": [
    {
     "data": {
      "image/png": "[encoded data removed]",
      "text/plain": [
       "<matplotlib.figure.Figure at 0x7f01098d2050>"
      ]
     },
     "metadata": {},
     "output_type": "display_data"
    }
   ],
   "source": [
    "fpr, tpr, _ = roc_curve(testLabelsB[:,0],m1b[:,0])\n",
    "plt.plot(fpr,tpr)\n",
    "plt.show()  \n",
    "plt.clf()"
   ]
  },
  {
   "cell_type": "code",
   "execution_count": 27,
   "metadata": {
    "collapsed": false,
    "deletable": true,
    "editable": true
   },
   "outputs": [
    {
     "data": {
      "image/png": "[encoded data removed]",
      "text/plain": [
       "<matplotlib.figure.Figure at 0x7f00d1e93f10>"
      ]
     },
     "metadata": {},
     "output_type": "display_data"
    }
   ],
   "source": [
    "fpr, tpr, _ = roc_curve(testLabelsB[:,0],m2b[:,0])\n",
    "plt.plot(fpr,tpr)\n",
    "plt.show()  \n",
    "plt.clf()"
   ]
  },
  {
   "cell_type": "code",
   "execution_count": 28,
   "metadata": {
    "collapsed": false,
    "deletable": true,
    "editable": true
   },
   "outputs": [
    {
     "data": {
      "image/png": "[encoded data removed]",
      "text/plain": [
       "<matplotlib.figure.Figure at 0x7f00d1db8ad0>"
      ]
     },
     "metadata": {},
     "output_type": "display_data"
    }
   ],
   "source": [
    "fpr, tpr, _ = roc_curve(testLabelsB[:,0],m3b[:,0])\n",
    "plt.plot(fpr,tpr)\n",
    "plt.show()  \n",
    "plt.clf()"
   ]
  },
  {
   "cell_type": "code",
   "execution_count": 29,
   "metadata": {
    "collapsed": false,
    "deletable": true,
    "editable": true
   },
   "outputs": [
    {
     "data": {
      "image/png": "[encoded data removed]",
      "text/plain": [
       "<matplotlib.figure.Figure at 0x7f00d1cb2fd0>"
      ]
     },
     "metadata": {},
     "output_type": "display_data"
    }
   ],
   "source": [
    "fpr, tpr, _ = roc_curve(testLabelsB[:,0],m4b[:,0])\n",
    "plt.plot(fpr,tpr)\n",
    "plt.show()  \n",
    "plt.clf()"
   ]
  },
  {
   "cell_type": "code",
   "execution_count": 30,
   "metadata": {
    "collapsed": false,
    "deletable": true,
    "editable": true
   },
   "outputs": [
    {
     "data": {
      "image/png": "[encoded data removed]",
      "text/plain": [
       "<matplotlib.figure.Figure at 0x7f00d1c6c110>"
      ]
     },
     "metadata": {},
     "output_type": "display_data"
    }
   ],
   "source": [
    "fpr, tpr, _ = roc_curve(testLabelsB[:,0],m5b[:,0])\n",
    "plt.plot(fpr,tpr)\n",
    "plt.show()  \n",
    "plt.clf()"
   ]
  },
  {
   "cell_type": "code",
   "execution_count": 31,
   "metadata": {
    "collapsed": false,
    "deletable": true,
    "editable": true
   },
   "outputs": [
    {
     "data": {
      "image/png": "[encoded data removed]",
      "text/plain": [
       "<matplotlib.figure.Figure at 0x7f00d1b51b90>"
      ]
     },
     "metadata": {},
     "output_type": "display_data"
    }
   ],
   "source": [
    "fpr, tpr, _ = roc_curve(testLabelsB[:,0],m6b[:,0])\n",
    "plt.plot(fpr,tpr)\n",
    "plt.show()  \n",
    "plt.clf()"
   ]
  },
  {
   "cell_type": "code",
   "execution_count": 32,
   "metadata": {
    "collapsed": true,
    "deletable": true,
    "editable": true
   },
   "outputs": [],
   "source": [
    "m = m2b[:,0]+m3b[:,0]+m5b[:,0]\n",
    "m = m/3."
   ]
  },
  {
   "cell_type": "code",
   "execution_count": 34,
   "metadata": {
    "collapsed": false,
    "deletable": true,
    "editable": true
   },
   "outputs": [
    {
     "data": {
      "image/png": "[encoded data removed]",
      "text/plain": [
       "<matplotlib.figure.Figure at 0x7f00d1ab3350>"
      ]
     },
     "metadata": {},
     "output_type": "display_data"
    }
   ],
   "source": [
    "fpr, tpr, _ = roc_curve(testLabelsB[:,0],m)\n",
    "plt.plot(fpr,tpr)\n",
    "plt.show()  \n",
    "plt.clf()"
   ]
  },
  {
   "cell_type": "code",
   "execution_count": 35,
   "metadata": {
    "collapsed": true,
    "deletable": true,
    "editable": true
   },
   "outputs": [],
   "source": [
    "m = m1b[:,0]+m2b[:,0]+m3b[:,0]+m4b[:,0]+m5b[:,0]+m6b[:,0]\n",
    "m = m/6."
   ]
  },
  {
   "cell_type": "code",
   "execution_count": 36,
   "metadata": {
    "collapsed": false,
    "deletable": true,
    "editable": true
   },
   "outputs": [
    {
     "data": {
      "image/png": "[encoded data removed]",
      "text/plain": [
       "<matplotlib.figure.Figure at 0x7f00d1926110>"
      ]
     },
     "metadata": {},
     "output_type": "display_data"
    }
   ],
   "source": [
    "fpr, tpr, _ = roc_curve(testLabelsB[:,0],m)\n",
    "plt.plot(fpr,tpr)\n",
    "plt.show()  \n",
    "plt.clf()"
   ]
  },
  {
   "cell_type": "code",
   "execution_count": null,
   "metadata": {
    "collapsed": true,
    "deletable": true,
    "editable": true
   },
   "outputs": [],
   "source": []
  },
  {
   "cell_type": "code",
   "execution_count": null,
   "metadata": {
    "collapsed": true,
    "deletable": true,
    "editable": true
   },
   "outputs": [],
   "source": []
  },
  {
   "cell_type": "code",
   "execution_count": null,
   "metadata": {
    "collapsed": true,
    "deletable": true,
    "editable": true
   },
   "outputs": [],
   "source": []
  },
  {
   "cell_type": "code",
   "execution_count": 5,
   "metadata": {
    "collapsed": false,
    "deletable": true,
    "editable": true
   },
   "outputs": [
    {
     "name": "stdout",
     "output_type": "stream",
     "text": [
      "192/214 [=========================>....] - ETA: 0s\b\b\b\b\b\b\b\b\b\b\b\b\b\b\b\b\b\b\b\b\b\b\b\b\b\b\b\b\b\b\b\b\b\b\b\b\b\b\b\b\b\b\b\b\b\b\b\b\b\b[0.51978979266692549, 0.9018691616637684]\n",
      "160/214 [=====================>........] - ETA: 0s\b\b\b\b\b\b\b\b\b\b\b\b\b\b\b\b\b\b\b\b\b\b\b\b\b\b\b\b\b\b\b\b\b\b\b\b\b\b\b\b\b\b\b\b\b\b\b\b\b\b"
     ]
    }
   ],
   "source": [
    "testImages = ku.to3d(images,2)\n",
    "testImages = ku.convertArray(testImages)\n",
    "model = load_model('/home/g/Desktop/git/nodules/out/32-no13-accuracy-043017.h5')\n",
    "print model.evaluate(testImages,testLabels,batch_size=64)\n",
    "m6 = model.predict_proba(testImages,batch_size=32)"
   ]
  },
  {
   "cell_type": "code",
   "execution_count": null,
   "metadata": {
    "collapsed": true,
    "deletable": true,
    "editable": true
   },
   "outputs": [],
   "source": []
  }
 ],
 "metadata": {
  "kernelspec": {
   "display_name": "Python 2",
   "language": "python",
   "name": "python2"
  },
  "language_info": {
   "codemirror_mode": {
    "name": "ipython",
    "version": 2
   },
   "file_extension": ".py",
   "mimetype": "text/x-python",
   "name": "python",
   "nbconvert_exporter": "python",
   "pygments_lexer": "ipython2",
   "version": "2.7.12"
  }
 },
 "nbformat": 4,
 "nbformat_minor": 2
}
