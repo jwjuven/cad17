{
 "cells": [
  {
   "cell_type": "code",
   "execution_count": 2,
   "metadata": {
    "collapsed": true
   },
   "outputs": [],
   "source": [
    "import sys\n",
    "sys.path.append('/home/rrg0013@auburn.edu/git/nodules/src/')"
   ]
  },
  {
   "cell_type": "code",
   "execution_count": 3,
   "metadata": {
    "collapsed": true
   },
   "outputs": [],
   "source": [
    "import pandas as pd\n",
    "import numpy as np"
   ]
  },
  {
   "cell_type": "code",
   "execution_count": 4,
   "metadata": {
    "collapsed": true
   },
   "outputs": [],
   "source": [
    "CAND_DAT_PATH = '/scr/data/nodules/testseg/sega/one.txt'"
   ]
  },
  {
   "cell_type": "code",
   "execution_count": 5,
   "metadata": {
    "collapsed": true
   },
   "outputs": [],
   "source": [
    "df = pd.read_csv(CAND_DAT_PATH,header=None)\n",
    "#df.head"
   ]
  },
  {
   "cell_type": "code",
   "execution_count": 6,
   "metadata": {},
   "outputs": [],
   "source": [
    "df = df[df.iloc[:,1]=='t']\n",
    "cdf = df.iloc[:,[3,4,5,6,7,8]]\n",
    "#print cdf.head\n",
    "dat = cdf.as_matrix()"
   ]
  },
  {
   "cell_type": "code",
   "execution_count": 8,
   "metadata": {
    "collapsed": true
   },
   "outputs": [],
   "source": [
    "dx = (dat[:,0]-dat[:,3])*(dat[:,0]-dat[:,3])\n",
    "dy = (dat[:,1]-dat[:,4])*(dat[:,1]-dat[:,4])\n",
    "dz = (dat[:,2]-dat[:,5])*(dat[:,2]-dat[:,5])"
   ]
  },
  {
   "cell_type": "code",
   "execution_count": 9,
   "metadata": {
    "collapsed": true
   },
   "outputs": [],
   "source": [
    "dl = np.sqrt(dx+dy+dz)"
   ]
  },
  {
   "cell_type": "code",
   "execution_count": 14,
   "metadata": {},
   "outputs": [
    {
     "name": "stdout",
     "output_type": "stream",
     "text": [
      "[ 669 1502  137  353  160  248  107   90  230  137 1096 1122   52  311   23\n",
      "  380   81   21  167   77  673   96  159   22   33   87 1818  130  826 2581\n",
      "  126  253 4598  270  139   52   60   66  427  186  178  221  236  277   89\n",
      "  701 1200  537  187  298   56   45 1825  440  325 1199  682  189  162  423\n",
      "  153  171  308   94  500  125  141  131 1093  274  102  139  328 3526  882\n",
      "  512  117   92 1043 2524  146  280  101   35   75   81   53  428   83  135\n",
      "  216   20  180   21   83  141  263   55  335  344 1962  137  362 1319  149\n",
      "  143  227   43   70 2652  217 3098 2629   92  344  164   50]\n"
     ]
    }
   ],
   "source": [
    "tdf = df.iloc[:,9]\n",
    "tdf = tdf.as_matrix()\n",
    "print tdf"
   ]
  },
  {
   "cell_type": "code",
   "execution_count": 10,
   "metadata": {},
   "outputs": [
    {
     "name": "stdout",
     "output_type": "stream",
     "text": [
      "[ 1.          0.          0.          0.          1.          0.          0.\n",
      "  1.41421356  1.          1.          1.          1.          1.\n",
      "  2.23606798  1.          0.          0.          0.          1.          1.\n",
      "  3.          1.          1.          0.          0.          0.\n",
      "  1.41421356  1.73205081  1.          1.41421356  1.41421356  1.41421356\n",
      "  1.41421356  0.          0.          1.          1.          1.          0.\n",
      "  1.          0.          1.          1.          0.          0.          0.\n",
      "  1.41421356  1.          1.          1.          1.41421356  0.          1.\n",
      "  0.          1.          1.41421356  1.41421356  1.          0.          1.\n",
      "  1.          2.23606798  1.41421356  1.          1.          0.          1.\n",
      "  1.          3.          1.41421356  1.41421356  1.          0.\n",
      "  1.41421356  3.60555128  1.          1.          1.41421356  1.41421356\n",
      "  3.60555128  2.44948974  1.73205081  1.41421356  0.          2.23606798\n",
      "  1.          3.16227766  2.23606798  0.          0.          1.          1.\n",
      "  0.          0.          0.          1.41421356  0.          1.41421356\n",
      "  0.          1.          1.41421356  0.          0.          4.12310563\n",
      "  1.          0.          1.41421356  0.          2.23606798  0.          0.\n",
      "  1.          1.73205081  1.          0.          1.41421356  0.        ]\n"
     ]
    }
   ],
   "source": [
    "print dl"
   ]
  },
  {
   "cell_type": "code",
   "execution_count": 19,
   "metadata": {},
   "outputs": [
    {
     "name": "stdout",
     "output_type": "stream",
     "text": [
      "673\n",
      "3.0\n"
     ]
    }
   ],
   "source": [
    "print tdf[20]\n",
    "print dl[20]"
   ]
  },
  {
   "cell_type": "code",
   "execution_count": 17,
   "metadata": {},
   "outputs": [
    {
     "data": {
      "text/plain": [
       "117"
      ]
     },
     "execution_count": 17,
     "metadata": {},
     "output_type": "execute_result"
    }
   ],
   "source": [
    "dl.shape[0]"
   ]
  },
  {
   "cell_type": "code",
   "execution_count": null,
   "metadata": {
    "collapsed": true
   },
   "outputs": [],
   "source": []
  }
 ],
 "metadata": {
  "kernelspec": {
   "display_name": "Python 2",
   "language": "python",
   "name": "python2"
  },
  "language_info": {
   "codemirror_mode": {
    "name": "ipython",
    "version": 2
   },
   "file_extension": ".py",
   "mimetype": "text/x-python",
   "name": "python",
   "nbconvert_exporter": "python",
   "pygments_lexer": "ipython2",
   "version": "2.7.12"
  }
 },
 "nbformat": 4,
 "nbformat_minor": 2
}
