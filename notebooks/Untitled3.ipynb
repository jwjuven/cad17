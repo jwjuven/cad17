{
 "cells": [
  {
   "cell_type": "markdown",
   "metadata": {
    "deletable": true,
    "editable": true
   },
   "source": [
    "# LIDC-IDRI extraction debug"
   ]
  },
  {
   "cell_type": "code",
   "execution_count": 48,
   "metadata": {
    "collapsed": true,
    "deletable": true,
    "editable": true
   },
   "outputs": [],
   "source": [
    "DATAPATH = '/home/g/Desktop/git/nodules/cv-bins/'\n",
    "BIN0PATH = '/scr/nodules/lidc-idri/bin0/'\n",
    "BIN1PATH = '/scr/nodules/lidc-idri/bin1/'\n",
    "BIN2PATH = '/scr/nodules/lidc-idri/bin2/'\n",
    "BIN3PATH = '/scr/nodules/lidc-idri/bin3/'\n",
    "BIN4PATH = '/scr/nodules/lidc-idri/bin4/'\n",
    "BIN5PATH = '/scr/nodules/lidc-idri/bin5/'\n",
    "BIN6PATH = '/scr/nodules/lidc-idri/bin6/'\n",
    "BIN7PATH = '/scr/nodules/lidc-idri/bin7/'\n",
    "BIN8PATH = '/scr/nodules/lidc-idri/bin8/'\n",
    "BIN9PATH = '/scr/nodules/lidc-idri/bin9/'\n",
    "ANNOTATIONS = '/home/g/Desktop/git/nodules/resources/annotations.csv'"
   ]
  },
  {
   "cell_type": "code",
   "execution_count": 104,
   "metadata": {
    "collapsed": false
   },
   "outputs": [
    {
     "name": "stdout",
     "output_type": "stream",
     "text": [
      "                                             seriesuid     coordX     coordY  \\\n",
      "897  1.3.6.1.4.1.14519.5.2.1.6279.6001.323859712968... -57.164560  44.511321   \n",
      "898  1.3.6.1.4.1.14519.5.2.1.6279.6001.323859712968... -80.955332 -74.336800   \n",
      "\n",
      "         coordZ  diameter_mm  \n",
      "897  -79.737937     6.614419  \n",
      "898 -115.057661     5.104385  \n"
     ]
    }
   ],
   "source": [
    "df = pd.read_csv(ANNOTATIONS)\n",
    "print df[df.seriesuid=='1.3.6.1.4.1.14519.5.2.1.6279.6001.323859712968543712594665815359']"
   ]
  },
  {
   "cell_type": "code",
   "execution_count": null,
   "metadata": {
    "collapsed": true
   },
   "outputs": [],
   "source": []
  },
  {
   "cell_type": "code",
   "execution_count": 42,
   "metadata": {
    "collapsed": true,
    "deletable": true,
    "editable": true
   },
   "outputs": [],
   "source": [
    "import dicom\n",
    "import os\n",
    "import math\n",
    "import time\n",
    "import xml.etree.ElementTree as et\n",
    "import skimage.measure as measure\n",
    "import scipy.ndimage\n",
    "import numpy as np\n",
    "import pandas as pd"
   ]
  },
  {
   "cell_type": "code",
   "execution_count": null,
   "metadata": {
    "collapsed": true,
    "deletable": true,
    "editable": true
   },
   "outputs": [],
   "source": []
  },
  {
   "cell_type": "code",
   "execution_count": 89,
   "metadata": {
    "collapsed": true,
    "deletable": true,
    "editable": true
   },
   "outputs": [],
   "source": [
    "class Scan:\n",
    "  def __init__(self):\n",
    "    self.nodules = []\n",
    "    self.newNodules = []\n",
    "    self.groups = []\n",
    "    self.largeGroups = []\n",
    "    self.id = None\n",
    "    \n",
    "    self.xmlpath = ''\n",
    "    \n",
    "    self.sliceList = []\n",
    "    self.sliceID = {}\n",
    "    self.locationID = {}\n",
    "    self.locationDict = {}\n",
    "    self.locationDictAlt = {}\n",
    "    \n",
    "  def combine():\n",
    "    for group in groups:\n",
    "      if nodules[group[0]].type == 'S':\n",
    "        nn = Nodule()\n",
    "        nn.diameter = 3.\n",
    "        cx, cy, cz = 0.,0.,0.\n",
    "        for i in range(len(group)):\n",
    "          cx += nodules[group[i]].centroid[0]\n",
    "          cy += nodules[group[i]].centroid[1]\n",
    "          cz += nodules[group[i]].centroid[2]\n",
    "        newCentroid = np.array([cx,cy,cz])\n",
    "        newCentroid /= float(len(group))\n",
    "        nn.centroid = newCentroid\n",
    "        nn.tagCount = len(group)\n",
    "        self.newNodules.append(nn)\n",
    "      elif nodules[group[0]].type == 'N':\n",
    "        nn = Nodule()\n",
    "        nn.diameter = 5.\n",
    "        cx, cy, cz = 0.,0.,0.\n",
    "        for i in range(len(group)):\n",
    "          cx += nodules[group[i]].centroid[0]\n",
    "          cy += nodules[group[i]].centroid[1]\n",
    "          cz += nodules[group[i]].centroid[2]\n",
    "        newCentroid = np.array([cx,cy,cz])\n",
    "        newCentroid /= float(len(group))\n",
    "        nn.centroid = newCentroid\n",
    "        nn.tagCount = len(group)        \n",
    "        self.newNodules.append(nn)\n",
    "      elif nodules[group[0]].type == 'L':\n",
    "        nn = Nodule()\n",
    "        cx,cy,cz,d = 0.,0.,0.,0.\n",
    "        for i in range(len(group)):\n",
    "          cx += nodules[group[i]].centroid[0]\n",
    "          cy += nodules[group[i]].centroid[1]\n",
    "          cz += nodules[group[i]].centroid[2]\n",
    "          d += nodules[group[i]].diameter\n",
    "          nn.subtlety += nodules[group[i]].subtlety\n",
    "          nn.internalStructure += nodules[group[i]].internalStructure\n",
    "          nn.sphericity += nodules[group[i]].shpericity \n",
    "          nn.calcification += nodules[group[i]].calcification\n",
    "          nn.margin += nodules[group[i]].margin\n",
    "          nn.lobulation += nodules[group[i]].lobulation\n",
    "          nn.spiculation += nodules[group[i]].spiculation\n",
    "          nn.texture += nodules[group[i]].texture\n",
    "          nn.malignancy += nodules[group[i]].malignancy\n",
    "          nn.rois.append(nodules[group[i]].roi)\n",
    "        newCentroid = np.array([cx,cy,cz])\n",
    "        newCentroid /= float(len(group))\n",
    "        nn.centroid = newCentroid\n",
    "        nn.tagCount = len(group)\n",
    "        nn.diameter = d/float(len(group))\n",
    "        nn.subtlety /= float(len(group))\n",
    "        nn.intenalStructure /= float(len(group))\n",
    "        nn.sphericity /= float(len(group))\n",
    "        nn.calcification /= float(len(group))\n",
    "        nn.margin /= float(len(group))\n",
    "        nn.lobulation /= float(len(group))\n",
    "        nn.spiculation /= float(len(group))\n",
    "        nn.texture /= float(len(group))\n",
    "        nn.malignancy /= float(len(group))\n",
    "        self.newNodules.append(nn)"
   ]
  },
  {
   "cell_type": "code",
   "execution_count": 90,
   "metadata": {
    "collapsed": false,
    "deletable": true,
    "editable": true
   },
   "outputs": [],
   "source": [
    "class Nodule(Scan):\n",
    "  def __init__(self):\n",
    "    self.type = ''\n",
    "    self.spacing = None\n",
    "    self.no = -1\n",
    "    \n",
    "    self.subtlety = 0.\n",
    "    self.internalStructure = 0.\n",
    "    self.shpericity = 0.\n",
    "    self.calcification = 0.\n",
    "    self.margin = 0.\n",
    "    self.lobulation = 0.\n",
    "    self.spiculation = 0.\n",
    "    self.texture = 0.\n",
    "    self.malignancy = 0.\n",
    "    \n",
    "    #original x and y\n",
    "    self.ox = 0.\n",
    "    self.oy = 0. \n",
    "    \n",
    "    self.plane = None\n",
    "    self.planes = []\n",
    "    self.roi = {}\n",
    "    self.rois = []\n",
    "    \n",
    "    self.centroid = None\n",
    "    self.area = None\n",
    "    self.diameter = None\n",
    "    \n",
    "    self.group = -1\n",
    "    self.grouped = False\n",
    "    self.groupMembers = []\n",
    "    self.tagCount = 0\n",
    "    \n",
    "    self.AttributeError = False\n",
    "\n",
    "    \n",
    "  def addGroup(self,groupNo,group):\n",
    "    self.group = groupNo\n",
    "    self.grouped = True\n",
    "    for i in range(len(group)):\n",
    "      if group[i] != self.no:\n",
    "        self.groupMembers.append(group[i])\n",
    "        \n",
    "  def addCentroid(self):\n",
    "    centroid = np.array([self.ox,self.oy,self.plane])\n",
    "    \n",
    "  def getProperties(self,spacing):\n",
    "    tmp = np.zeros((500,500,500)).astype(int)\n",
    "    xmax,xmin,ymax,ymin,zmax,zmin=-1e5,1e5,-1e5,1e5,-1e5,1e5\n",
    "    x,y,z=0,0,0\n",
    "    for key, values in self.roi.iteritems():\n",
    "      for value in values:\n",
    "        zmax = max(abs(int(key)),zmax)\n",
    "        zmin = min(abs(int(key)),zmin)\n",
    "        xmax = max(abs(int(value[0])),xmax)\n",
    "        xmin = min(abs(int(value[0])),xmin)\n",
    "        ymax = max(abs(int(value[1])),ymax)\n",
    "        ymin = min(abs(int(value[1])),ymin)\n",
    "        x,y,z = value[0],value[1],key\n",
    "        tmp[abs(int(x)),abs(int(y)),abs(int(z))]=1  \n",
    "\n",
    "    props = measure.regionprops(tmp)\n",
    "    centroid = np.array(props[0].centroid)\n",
    "    centroid[0] *= int(x)/abs(int(x))\n",
    "    centroid[1] *= int(y)/abs(int(y))\n",
    "    centroid[2] *= int(z)/abs(int(z))\n",
    "    self.centroid = centroid\n",
    "    \n",
    "    tmp = tmp[xmin-1:xmax+1,ymin-1:ymax+1,zmin-1:zmax+1]\n",
    "    tmp = scipy.ndimage.interpolation.zoom(tmp,spacing,mode='nearest')\n",
    "    tmp[tmp>0] = 1\n",
    "    if tmp.shape[0]*tmp.shape[1]*tmp.shape[2] == max(tmp.shape):\n",
    "      self.diameter = 3.\n",
    "      self.area = max(tmp.shape)\n",
    "    else:\n",
    "      props = measure.regionprops(tmp)\n",
    "      self.diameter = props[0].equivalent_diameter\n",
    "      self.area = props[0].area"
   ]
  },
  {
   "cell_type": "code",
   "execution_count": null,
   "metadata": {
    "collapsed": true
   },
   "outputs": [],
   "source": []
  },
  {
   "cell_type": "code",
   "execution_count": null,
   "metadata": {
    "collapsed": true
   },
   "outputs": [],
   "source": []
  },
  {
   "cell_type": "code",
   "execution_count": 91,
   "metadata": {
    "collapsed": true,
    "deletable": true,
    "editable": true
   },
   "outputs": [],
   "source": [
    "def getDistance(a,b,spacing):\n",
    "  du = (a[0]-b[0])*spacing[0]\n",
    "  dv = (a[1]-b[1])*spacing[1]\n",
    "  dw = (a[2]-b[2])*spacing[2]\n",
    "  return math.sqrt(du*du+dv*dv+dw*dw)"
   ]
  },
  {
   "cell_type": "code",
   "execution_count": 92,
   "metadata": {
    "collapsed": true,
    "deletable": true,
    "editable": true
   },
   "outputs": [],
   "source": [
    "def cluster(scan):\n",
    "  print scan.id\n",
    "  nodules = []\n",
    "  small = []\n",
    "  non = []\n",
    "  gno = 0\n",
    "\n",
    "  for i, nodule in enumerate(scan.nodules):\n",
    "    if nodule.type == 'L':\n",
    "      nodule.no = i\n",
    "      nodules.append(nodule)\n",
    "    elif nodule.type == 'S':\n",
    "      nodule.addCentroid()\n",
    "      small.append(nodule)\n",
    "    else:\n",
    "      nodule.addCentroid()\n",
    "      non.append(nodule)\n",
    "    \n",
    "  for i in range(len(nodules)):\n",
    "    if not nodules[i].grouped:\n",
    "      group = []\n",
    "      group.append(i)\n",
    "      for j in range(len(nodules)):\n",
    "        if i != j:\n",
    "          if not nodules[j].grouped:\n",
    "            distance = getDistance(nodules[i].centroid,nodules[j].centroid,scan.spacing)\n",
    "            if distance < (nodules[i].diameter/2.+nodules[j].diameter/2.):\n",
    "              group.append(j)\n",
    "      if len(group) < 4:\n",
    "        for j in range(1,len(group)):\n",
    "          j = group[j]\n",
    "          for k in range(len(nodules)):\n",
    "            if i != k and j != k and i != j:\n",
    "              if not nodules[k].grouped:\n",
    "                distance = getDistance(nodules[j].centroid,nodules[k].centroid,scan.spacing)\n",
    "                if distance < (nodules[j].diameter/2.+nodules[k].diameter/2.):\n",
    "                  group.append(k)\n",
    "      if len(group) >= 1:\n",
    "        group = set(group)\n",
    "        group = list(group)\n",
    "        for n in range(len(group)):\n",
    "          nodules[group[n]].addGroup(gno,group)\n",
    "        scan.groups.append(group)\n",
    "        scan.largeGroups.append(group)\n",
    "        gno += 1\n",
    "\n",
    "  for i in range(len(small)):\n",
    "    if not small[i].grouped:\n",
    "      group = []\n",
    "      group.append(i)\n",
    "      for j in range(len(small)):\n",
    "        if i != j:\n",
    "          if not small[j].grouped:\n",
    "            distance = getDistance(small[i].centroid,small[j].centroid,scan.spacing)\n",
    "            if distance < (small[i].diameter/2.+small[j].diameter/2.):\n",
    "              group.append(j)\n",
    "      if len(group) < 4:\n",
    "        for j in range(1,len(group)):\n",
    "          j = group[j]\n",
    "          for k in range(len(small)):\n",
    "            if i != k and j != k and i != j:\n",
    "              if not small[k].grouped:\n",
    "                distance = getDistance(small[j].centroid,small[k].centroid,scan.spacing)\n",
    "                if distance < (small[j].diameter/2.+small[k].diameter/2.):\n",
    "                  group.append(k)\n",
    "      if len(group) >= 1:\n",
    "        group = set(group)\n",
    "        group = list(group)\n",
    "        for n in range(len(group)):\n",
    "          small[group[n]].addGroup(gno,group)\n",
    "        scan.groups.append(group)\n",
    "        gno += 1\n",
    "        \n",
    "  for i in range(len(non)):\n",
    "    if not non[i].grouped:\n",
    "      group = []\n",
    "      group.append(i)\n",
    "      for j in range(len(non)):\n",
    "        if i != j:\n",
    "          if not non[j].grouped:\n",
    "            distance = getDistance(non[i].centroid,non[j].centroid,scan.spacing)\n",
    "            if distance < (non[i].diameter/2.+non[j].diameter/2.):\n",
    "              group.append(j)\n",
    "      if len(group) < 4:\n",
    "        for j in range(1,len(group)):\n",
    "          j = group[j]\n",
    "          for k in range(len(non)):\n",
    "            if i != k and j != k and i != j:\n",
    "              if not non[k].grouped:\n",
    "                distance = getDistance(non[j].centroid,non[k].centroid,scan.spacing)\n",
    "                if distance < (non[j].diameter/2.+non[k].diameter/2.):\n",
    "                  group.append(k)\n",
    "      if len(group) >= 1:\n",
    "        group = set(group)\n",
    "        group = list(group)\n",
    "        for n in range(len(group)):\n",
    "          non[group[n]].addGroup(gno,group)\n",
    "        scan.groups.append(group)\n",
    "        gno += 1"
   ]
  },
  {
   "cell_type": "code",
   "execution_count": 93,
   "metadata": {
    "collapsed": false,
    "deletable": true,
    "editable": true
   },
   "outputs": [],
   "source": [
    "#scans = getFilesList(BIN0PATH)\n",
    "#readXML(scans[5])\n",
    "#cluster(scans[5])"
   ]
  },
  {
   "cell_type": "code",
   "execution_count": 126,
   "metadata": {
    "collapsed": false
   },
   "outputs": [],
   "source": [
    "def collectXML(path,outpath):\n",
    "  for parent, subdir, files in os.walk(path):\n",
    "    for filename in files:\n",
    "      if \".xml\" in filename.lower():\n",
    "        xmlpath = os.path.join(parent, filename)\n",
    "        xml = et.parse(xmlpath)\n",
    "        header = xml.find('./{http://www.nih.gov}ResponseHeader')\n",
    "        if header is not None:\n",
    "          seriesuid = header.find('./{http://www.nih.gov}SeriesInstanceUid')\n",
    "          newfilename = seriesuid.text + '.xml'\n",
    "          newpath = os.path.join(outpath, newfilename)\n",
    "          os.rename(xmlpath,newpath)\n",
    "path = '/scr/nodules/LIDC-IDRI/'\n",
    "newpath = '/scr/nodules/xml/'\n",
    "collectXML(path,newpath)"
   ]
  },
  {
   "cell_type": "markdown",
   "metadata": {
    "deletable": true,
    "editable": true
   },
   "source": [
    "Note: use same bins when processing"
   ]
  },
  {
   "cell_type": "code",
   "execution_count": 111,
   "metadata": {
    "collapsed": true,
    "deletable": true,
    "editable": true
   },
   "outputs": [],
   "source": [
    "def getFilesList(path):\n",
    "  scans = []\n",
    "  df = pd.read_csv(ANNOTATIONS)\n",
    "  for parent, subdir, files in os.walk(path):\n",
    "    if (len(files)) > 64:\n",
    "      newscan = Scan()\n",
    "      locationList = []\n",
    "      locationListAlt = []    \n",
    "      for filename in files:\n",
    "        if \".xml\" in filename.lower():\n",
    "          newscan.xmlpath = os.path.join(parent, filename)\n",
    "        elif \".dcm\" in filename.lower():\n",
    "          fno = filename.split('.')\n",
    "          tdf = df[df['seriesuid']==fno[0]]\n",
    "          if not tdf.empty:\n",
    "            print tdf\n",
    "          fno = int(fno[0])\n",
    "          data = dicom.read_file(os.path.join(parent, filename))\n",
    "          if newscan.id == None:\n",
    "            sno = parent.split('/')\n",
    "            sno = sno[-1]\n",
    "            newscan.id = sno\n",
    "          #print data['0040','071A']\n",
    "          newscan.sliceID[data['0008','0018'].value] = fno\n",
    "          newscan.locationID[(float)(data['0020','1041'].value)] = str(os.path.join(parent, filename))\n",
    "          locationList.append(data['0020','1041'].value)\n",
    "          xyz = data['0020','0032'].value\n",
    "          locationListAlt.append(xyz[2])\n",
    "          spacing = data.PixelSpacing\n",
    "          thickness = data.SliceThickness\n",
    "      if thickness > 2.5:\n",
    "        continue\n",
    "      newscan.spacing = (spacing[0],spacing[0],thickness)\n",
    "      count = 0\n",
    "      locationList.sort()\n",
    "      locationListAlt.sort()\n",
    "      while locationList:\n",
    "        i = locationList.pop()\n",
    "        j = locationListAlt.pop()\n",
    "        newscan.sliceList.append(newscan.locationID[i])\n",
    "        newscan.locationDictAlt[i] = count\n",
    "        newscan.locationDict[j] = count\n",
    "        count += 1\n",
    "      scans.append(newscan)\n",
    "  return scans"
   ]
  },
  {
   "cell_type": "code",
   "execution_count": 108,
   "metadata": {
    "collapsed": true,
    "deletable": true,
    "editable": true
   },
   "outputs": [],
   "source": [
    "def addCharacteristics(chars, nodule):\n",
    "  try:\n",
    "    subtlety = chars.find(\"{http://www.nih.gov}subtlety\")\n",
    "    nodule.subtlety = int(subtlety.text)\n",
    "    internal = chars.find(\"{http://www.nih.gov}internalStructure\")\n",
    "    nodule.internalStructure = int(internal.text)\n",
    "    calcification = chars.find(\"{http://www.nih.gov}calcification\")\n",
    "    nodule.calcification = int(calcification.text)\n",
    "    sphericity = chars.find(\"{http://www.nih.gov}sphericity\")\n",
    "    nodule.sphericity = int(sphericity.text)\n",
    "    margin = chars.find(\"{http://www.nih.gov}margin\")\n",
    "    nodule.margin = int(margin.text)\n",
    "    lobulation = chars.find(\"{http://www.nih.gov}lobulation\")\n",
    "    nodule.lobulation = int(lobulation.text)\n",
    "    spiculation = chars.find(\"{http://www.nih.gov}spiculation\")\n",
    "    nodule.spiculation = int(spiculation.text)\n",
    "    texture = chars.find(\"{http://www.nih.gov}texture\")\n",
    "    nodule.texture = int(texture.text)\n",
    "    ##-MALIGNANCY IS ASSUMING 60 YEAR OLD MALE SMOKER ..\n",
    "    malignancy = chars.find(\"{http://www.nih.gov}malignancy\")\n",
    "    nodule.malignancy = int(malignancy.text)\n",
    "    return nodule\n",
    "  except AttributeError:\n",
    "    nodule.AttributeError = True\n",
    "    return nodule"
   ]
  },
  {
   "cell_type": "code",
   "execution_count": 117,
   "metadata": {
    "collapsed": false,
    "deletable": true,
    "editable": true
   },
   "outputs": [],
   "source": [
    "def readXML(scan):\n",
    "  print scan.id\n",
    "  annotations = et.parse(scan.xmlpath)\n",
    "  append = True\n",
    "  header = annotations.find('./{http://www.nih.gov}ResponseHeader')\n",
    "  seriesuid = header.find('./{http://www.nih.gov}SeriesInstanceUid')\n",
    "  print seriesuid.text\n",
    "  for reader in annotations.findall('./{http://www.nih.gov}readingSession'):\n",
    "    for reading in reader.findall('./{http://www.nih.gov}unblindedReadNodule'):\n",
    "      nn = Nodule() #new nodule\n",
    "      if reading.find('./{http://www.nih.gov}characteristics') is not None:\n",
    "        nn.type = 'L'\n",
    "        characteristics = reading.find('./{http://www.nih.gov}characteristics')\n",
    "        nn = addCharacteristics(characteristics, nn)\n",
    "      else:\n",
    "        nn.type = 'S'\n",
    "      for roi in reading.findall('./{http://www.nih.gov}roi'):\n",
    "        z = roi.find('./{http://www.nih.gov}imageZposition')\n",
    "        try:\n",
    "          plane = scan.locationDict[float(z.text)]\n",
    "        except KeyError:\n",
    "          print \"KeyError XML\"\n",
    "          try:\n",
    "            plane = scan.locationDictAlt[float(z.text)]\n",
    "          except KeyError:\n",
    "            append = False\n",
    "            print \"KeyError 2 XML\"\n",
    "            break\n",
    "        nn.planes.append(plane)\n",
    "        include = roi.find('./{http://www.nih.gov}inclusion')\n",
    "        if nn.type == 'S':\n",
    "          e = roi.find('./{http://www.nih.gov}edgeMap')\n",
    "          x = e.find('./{http://www.nih.gov}xCoord')\n",
    "          nn.ox = int(x.text)\n",
    "          y = e.find('./{http://www.nih.gov}yCoord')\n",
    "          nn.oy = int(y.text)\n",
    "          nn.diameter = 3.\n",
    "        elif nn.type == 'L':\n",
    "          nn.roi[plane] = []\n",
    "          if include.text == 'TRUE':\n",
    "            for e in roi.findall('./{http://www.nih.gov}edgeMap'):\n",
    "              x = e.find('./{http://www.nih.gov}xCoord')\n",
    "              y = e.find('./{http://www.nih.gov}yCoord')\n",
    "              coord = int(x.text),int(y.text)\n",
    "              nn.roi[plane].append(coord)\n",
    "      if nn.type=='L':\n",
    "        nn.getProperties(scan.spacing)\n",
    "      if append:\n",
    "        scan.nodules.append(nn)\n",
    "      append = True\n",
    "    \n",
    "    for reading in reader.findall(\"./{http://www.nih.gov}nonNodule\"):\n",
    "      nn = Nodule()\n",
    "      nn.type = 'N'\n",
    "      z = reading.find(\"./{http://www.nih.gov}imageZposition\")\n",
    "      try:\n",
    "        plane = scan.locationDict[float(z.text)]\n",
    "      except KeyError:\n",
    "        print \"KeyError XML\"\n",
    "        try:\n",
    "          plane = scan.locationDictAlt[float(z.text)]\n",
    "        except KeyError:\n",
    "          append = False\n",
    "          print \"KeyError 2 XML\"\n",
    "      if append:\n",
    "        nn.plane = plane\n",
    "        locus = reading.find('./{http://www.nih.gov}locus')\n",
    "        x = locus.find(\"./{http://www.nih.gov}xCoord\")\n",
    "        nn.ox = int(x.text)\n",
    "        y = locus.find(\"./{http://www.nih.gov}yCoord\")\n",
    "        nn.oy = int(y.text)\n",
    "        nn.diameter = 5.\n",
    "        scan.nodules.append(nn)\n",
    "  return scan"
   ]
  },
  {
   "cell_type": "code",
   "execution_count": null,
   "metadata": {
    "collapsed": true,
    "deletable": true,
    "editable": true
   },
   "outputs": [],
   "source": []
  },
  {
   "cell_type": "code",
   "execution_count": null,
   "metadata": {
    "collapsed": true
   },
   "outputs": [],
   "source": []
  },
  {
   "cell_type": "code",
   "execution_count": null,
   "metadata": {
    "collapsed": true
   },
   "outputs": [],
   "source": []
  },
  {
   "cell_type": "code",
   "execution_count": 113,
   "metadata": {
    "collapsed": false,
    "deletable": true,
    "editable": true
   },
   "outputs": [
    {
     "name": "stdout",
     "output_type": "stream",
     "text": [
      "5.62958888213 minutes\n"
     ]
    }
   ],
   "source": [
    "t1 = time.time()\n",
    "scans = getFilesList(BIN3PATH)\n",
    "t2 = time.time()\n",
    "print str((t2-t1)/60) + \" minutes\""
   ]
  },
  {
   "cell_type": "code",
   "execution_count": 127,
   "metadata": {
    "collapsed": false,
    "deletable": true,
    "editable": true
   },
   "outputs": [
    {
     "name": "stdout",
     "output_type": "stream",
     "text": [
      "1.3.6.1.4.1.14519.5.2.1.6279.6001.160216916075817913953530562493\n"
     ]
    },
    {
     "ename": "IOError",
     "evalue": "[Errno 2] No such file or directory: '/scr/nodules/lidc-idri/bin3/1.3.6.1.4.1.14519.5.2.1.6279.6001.160216916075817913953530562493/056.xml'",
     "output_type": "error",
     "traceback": [
      "\u001b[0;31m---------------------------------------------------------------------------\u001b[0m",
      "\u001b[0;31mIOError\u001b[0m                                   Traceback (most recent call last)",
      "\u001b[0;32m<ipython-input-127-f2310402adfb>\u001b[0m in \u001b[0;36m<module>\u001b[0;34m()\u001b[0m\n\u001b[1;32m      2\u001b[0m \u001b[0mt1\u001b[0m \u001b[0;34m=\u001b[0m \u001b[0mtime\u001b[0m\u001b[0;34m.\u001b[0m\u001b[0mtime\u001b[0m\u001b[0;34m(\u001b[0m\u001b[0;34m)\u001b[0m\u001b[0;34m\u001b[0m\u001b[0m\n\u001b[1;32m      3\u001b[0m \u001b[0;32mfor\u001b[0m \u001b[0mscan\u001b[0m \u001b[0;32min\u001b[0m \u001b[0mscans\u001b[0m\u001b[0;34m:\u001b[0m\u001b[0;34m\u001b[0m\u001b[0m\n\u001b[0;32m----> 4\u001b[0;31m   \u001b[0mreadXML\u001b[0m\u001b[0;34m(\u001b[0m\u001b[0mscan\u001b[0m\u001b[0;34m)\u001b[0m\u001b[0;34m\u001b[0m\u001b[0m\n\u001b[0m\u001b[1;32m      5\u001b[0m   \u001b[0mct\u001b[0m \u001b[0;34m+=\u001b[0m \u001b[0;36m1\u001b[0m\u001b[0;34m\u001b[0m\u001b[0m\n\u001b[1;32m      6\u001b[0m   \u001b[0;32mif\u001b[0m \u001b[0mct\u001b[0m\u001b[0;34m%\u001b[0m\u001b[0;36m10\u001b[0m\u001b[0;34m==\u001b[0m\u001b[0;36m0\u001b[0m\u001b[0;34m:\u001b[0m\u001b[0;34m\u001b[0m\u001b[0m\n",
      "\u001b[0;32m<ipython-input-117-b4c89b0788f1>\u001b[0m in \u001b[0;36mreadXML\u001b[0;34m(scan)\u001b[0m\n\u001b[1;32m      1\u001b[0m \u001b[0;32mdef\u001b[0m \u001b[0mreadXML\u001b[0m\u001b[0;34m(\u001b[0m\u001b[0mscan\u001b[0m\u001b[0;34m)\u001b[0m\u001b[0;34m:\u001b[0m\u001b[0;34m\u001b[0m\u001b[0m\n\u001b[1;32m      2\u001b[0m   \u001b[0;32mprint\u001b[0m \u001b[0mscan\u001b[0m\u001b[0;34m.\u001b[0m\u001b[0mid\u001b[0m\u001b[0;34m\u001b[0m\u001b[0m\n\u001b[0;32m----> 3\u001b[0;31m   \u001b[0mannotations\u001b[0m \u001b[0;34m=\u001b[0m \u001b[0met\u001b[0m\u001b[0;34m.\u001b[0m\u001b[0mparse\u001b[0m\u001b[0;34m(\u001b[0m\u001b[0mscan\u001b[0m\u001b[0;34m.\u001b[0m\u001b[0mxmlpath\u001b[0m\u001b[0;34m)\u001b[0m\u001b[0;34m\u001b[0m\u001b[0m\n\u001b[0m\u001b[1;32m      4\u001b[0m   \u001b[0mappend\u001b[0m \u001b[0;34m=\u001b[0m \u001b[0mTrue\u001b[0m\u001b[0;34m\u001b[0m\u001b[0m\n\u001b[1;32m      5\u001b[0m   \u001b[0mheader\u001b[0m \u001b[0;34m=\u001b[0m \u001b[0mannotations\u001b[0m\u001b[0;34m.\u001b[0m\u001b[0mfind\u001b[0m\u001b[0;34m(\u001b[0m\u001b[0;34m'./{http://www.nih.gov}ResponseHeader'\u001b[0m\u001b[0;34m)\u001b[0m\u001b[0;34m\u001b[0m\u001b[0m\n",
      "\u001b[0;32m/usr/lib/python2.7/xml/etree/ElementTree.pyc\u001b[0m in \u001b[0;36mparse\u001b[0;34m(source, parser)\u001b[0m\n\u001b[1;32m   1180\u001b[0m \u001b[0;32mdef\u001b[0m \u001b[0mparse\u001b[0m\u001b[0;34m(\u001b[0m\u001b[0msource\u001b[0m\u001b[0;34m,\u001b[0m \u001b[0mparser\u001b[0m\u001b[0;34m=\u001b[0m\u001b[0mNone\u001b[0m\u001b[0;34m)\u001b[0m\u001b[0;34m:\u001b[0m\u001b[0;34m\u001b[0m\u001b[0m\n\u001b[1;32m   1181\u001b[0m     \u001b[0mtree\u001b[0m \u001b[0;34m=\u001b[0m \u001b[0mElementTree\u001b[0m\u001b[0;34m(\u001b[0m\u001b[0;34m)\u001b[0m\u001b[0;34m\u001b[0m\u001b[0m\n\u001b[0;32m-> 1182\u001b[0;31m     \u001b[0mtree\u001b[0m\u001b[0;34m.\u001b[0m\u001b[0mparse\u001b[0m\u001b[0;34m(\u001b[0m\u001b[0msource\u001b[0m\u001b[0;34m,\u001b[0m \u001b[0mparser\u001b[0m\u001b[0;34m)\u001b[0m\u001b[0;34m\u001b[0m\u001b[0m\n\u001b[0m\u001b[1;32m   1183\u001b[0m     \u001b[0;32mreturn\u001b[0m \u001b[0mtree\u001b[0m\u001b[0;34m\u001b[0m\u001b[0m\n\u001b[1;32m   1184\u001b[0m \u001b[0;34m\u001b[0m\u001b[0m\n",
      "\u001b[0;32m/usr/lib/python2.7/xml/etree/ElementTree.pyc\u001b[0m in \u001b[0;36mparse\u001b[0;34m(self, source, parser)\u001b[0m\n\u001b[1;32m    645\u001b[0m         \u001b[0mclose_source\u001b[0m \u001b[0;34m=\u001b[0m \u001b[0mFalse\u001b[0m\u001b[0;34m\u001b[0m\u001b[0m\n\u001b[1;32m    646\u001b[0m         \u001b[0;32mif\u001b[0m \u001b[0;32mnot\u001b[0m \u001b[0mhasattr\u001b[0m\u001b[0;34m(\u001b[0m\u001b[0msource\u001b[0m\u001b[0;34m,\u001b[0m \u001b[0;34m\"read\"\u001b[0m\u001b[0;34m)\u001b[0m\u001b[0;34m:\u001b[0m\u001b[0;34m\u001b[0m\u001b[0m\n\u001b[0;32m--> 647\u001b[0;31m             \u001b[0msource\u001b[0m \u001b[0;34m=\u001b[0m \u001b[0mopen\u001b[0m\u001b[0;34m(\u001b[0m\u001b[0msource\u001b[0m\u001b[0;34m,\u001b[0m \u001b[0;34m\"rb\"\u001b[0m\u001b[0;34m)\u001b[0m\u001b[0;34m\u001b[0m\u001b[0m\n\u001b[0m\u001b[1;32m    648\u001b[0m             \u001b[0mclose_source\u001b[0m \u001b[0;34m=\u001b[0m \u001b[0mTrue\u001b[0m\u001b[0;34m\u001b[0m\u001b[0m\n\u001b[1;32m    649\u001b[0m         \u001b[0;32mtry\u001b[0m\u001b[0;34m:\u001b[0m\u001b[0;34m\u001b[0m\u001b[0m\n",
      "\u001b[0;31mIOError\u001b[0m: [Errno 2] No such file or directory: '/scr/nodules/lidc-idri/bin3/1.3.6.1.4.1.14519.5.2.1.6279.6001.160216916075817913953530562493/056.xml'"
     ]
    }
   ],
   "source": [
    "ct = 0\n",
    "t1 = time.time()\n",
    "for scan in scans:\n",
    "  readXML(scan)\n",
    "  ct += 1\n",
    "  if ct%10==0:\n",
    "    print ct\n",
    "t2 = time.time()\n",
    "print str((t2-t1)/60) + \" minutes\""
   ]
  },
  {
   "cell_type": "code",
   "execution_count": 79,
   "metadata": {
    "collapsed": false,
    "deletable": true,
    "editable": true
   },
   "outputs": [
    {
     "name": "stdout",
     "output_type": "stream",
     "text": [
      "1.3.6.1.4.1.14519.5.2.1.6279.6001.160216916075817913953530562493\n"
     ]
    },
    {
     "ename": "TypeError",
     "evalue": "'NoneType' object has no attribute '__getitem__'",
     "output_type": "error",
     "traceback": [
      "\u001b[0;31m---------------------------------------------------------------------------\u001b[0m",
      "\u001b[0;31mTypeError\u001b[0m                                 Traceback (most recent call last)",
      "\u001b[0;32m<ipython-input-79-3f41d99c6ad6>\u001b[0m in \u001b[0;36m<module>\u001b[0;34m()\u001b[0m\n\u001b[1;32m      2\u001b[0m \u001b[0mt1\u001b[0m \u001b[0;34m=\u001b[0m \u001b[0mtime\u001b[0m\u001b[0;34m.\u001b[0m\u001b[0mtime\u001b[0m\u001b[0;34m(\u001b[0m\u001b[0;34m)\u001b[0m\u001b[0;34m\u001b[0m\u001b[0m\n\u001b[1;32m      3\u001b[0m \u001b[0;32mfor\u001b[0m \u001b[0mscan\u001b[0m \u001b[0;32min\u001b[0m \u001b[0mscans\u001b[0m\u001b[0;34m:\u001b[0m\u001b[0;34m\u001b[0m\u001b[0m\n\u001b[0;32m----> 4\u001b[0;31m   \u001b[0mcluster\u001b[0m\u001b[0;34m(\u001b[0m\u001b[0mscan\u001b[0m\u001b[0;34m)\u001b[0m\u001b[0;34m\u001b[0m\u001b[0m\n\u001b[0m\u001b[1;32m      5\u001b[0m   \u001b[0mct\u001b[0m \u001b[0;34m+=\u001b[0m \u001b[0mlen\u001b[0m\u001b[0;34m(\u001b[0m\u001b[0mscan\u001b[0m\u001b[0;34m.\u001b[0m\u001b[0mlargeGroups\u001b[0m\u001b[0;34m)\u001b[0m\u001b[0;34m\u001b[0m\u001b[0m\n\u001b[1;32m      6\u001b[0m   \u001b[0;32mif\u001b[0m \u001b[0mct\u001b[0m\u001b[0;34m%\u001b[0m\u001b[0;36m10\u001b[0m\u001b[0;34m==\u001b[0m\u001b[0;36m0\u001b[0m\u001b[0;34m:\u001b[0m\u001b[0;34m\u001b[0m\u001b[0m\n",
      "\u001b[0;32m<ipython-input-71-6b15b27ae5c4>\u001b[0m in \u001b[0;36mcluster\u001b[0;34m(scan)\u001b[0m\n\u001b[1;32m     52\u001b[0m         \u001b[0;32mif\u001b[0m \u001b[0mi\u001b[0m \u001b[0;34m!=\u001b[0m \u001b[0mj\u001b[0m\u001b[0;34m:\u001b[0m\u001b[0;34m\u001b[0m\u001b[0m\n\u001b[1;32m     53\u001b[0m           \u001b[0;32mif\u001b[0m \u001b[0;32mnot\u001b[0m \u001b[0msmall\u001b[0m\u001b[0;34m[\u001b[0m\u001b[0mj\u001b[0m\u001b[0;34m]\u001b[0m\u001b[0;34m.\u001b[0m\u001b[0mgrouped\u001b[0m\u001b[0;34m:\u001b[0m\u001b[0;34m\u001b[0m\u001b[0m\n\u001b[0;32m---> 54\u001b[0;31m             \u001b[0mdistance\u001b[0m \u001b[0;34m=\u001b[0m \u001b[0mgetDistance\u001b[0m\u001b[0;34m(\u001b[0m\u001b[0msmall\u001b[0m\u001b[0;34m[\u001b[0m\u001b[0mi\u001b[0m\u001b[0;34m]\u001b[0m\u001b[0;34m.\u001b[0m\u001b[0mcentroid\u001b[0m\u001b[0;34m,\u001b[0m\u001b[0msmall\u001b[0m\u001b[0;34m[\u001b[0m\u001b[0mj\u001b[0m\u001b[0;34m]\u001b[0m\u001b[0;34m.\u001b[0m\u001b[0mcentroid\u001b[0m\u001b[0;34m,\u001b[0m\u001b[0mscan\u001b[0m\u001b[0;34m.\u001b[0m\u001b[0mspacing\u001b[0m\u001b[0;34m)\u001b[0m\u001b[0;34m\u001b[0m\u001b[0m\n\u001b[0m\u001b[1;32m     55\u001b[0m             \u001b[0;32mif\u001b[0m \u001b[0mdistance\u001b[0m \u001b[0;34m<\u001b[0m \u001b[0;34m(\u001b[0m\u001b[0msmall\u001b[0m\u001b[0;34m[\u001b[0m\u001b[0mi\u001b[0m\u001b[0;34m]\u001b[0m\u001b[0;34m.\u001b[0m\u001b[0mdiameter\u001b[0m\u001b[0;34m/\u001b[0m\u001b[0;36m2.\u001b[0m\u001b[0;34m+\u001b[0m\u001b[0msmall\u001b[0m\u001b[0;34m[\u001b[0m\u001b[0mj\u001b[0m\u001b[0;34m]\u001b[0m\u001b[0;34m.\u001b[0m\u001b[0mdiameter\u001b[0m\u001b[0;34m/\u001b[0m\u001b[0;36m2.\u001b[0m\u001b[0;34m)\u001b[0m\u001b[0;34m:\u001b[0m\u001b[0;34m\u001b[0m\u001b[0m\n\u001b[1;32m     56\u001b[0m               \u001b[0mgroup\u001b[0m\u001b[0;34m.\u001b[0m\u001b[0mappend\u001b[0m\u001b[0;34m(\u001b[0m\u001b[0mj\u001b[0m\u001b[0;34m)\u001b[0m\u001b[0;34m\u001b[0m\u001b[0m\n",
      "\u001b[0;32m<ipython-input-5-a8a0dbc33faa>\u001b[0m in \u001b[0;36mgetDistance\u001b[0;34m(a, b, spacing)\u001b[0m\n\u001b[1;32m      1\u001b[0m \u001b[0;32mdef\u001b[0m \u001b[0mgetDistance\u001b[0m\u001b[0;34m(\u001b[0m\u001b[0ma\u001b[0m\u001b[0;34m,\u001b[0m\u001b[0mb\u001b[0m\u001b[0;34m,\u001b[0m\u001b[0mspacing\u001b[0m\u001b[0;34m)\u001b[0m\u001b[0;34m:\u001b[0m\u001b[0;34m\u001b[0m\u001b[0m\n\u001b[0;32m----> 2\u001b[0;31m   \u001b[0mdu\u001b[0m \u001b[0;34m=\u001b[0m \u001b[0;34m(\u001b[0m\u001b[0ma\u001b[0m\u001b[0;34m[\u001b[0m\u001b[0;36m0\u001b[0m\u001b[0;34m]\u001b[0m\u001b[0;34m-\u001b[0m\u001b[0mb\u001b[0m\u001b[0;34m[\u001b[0m\u001b[0;36m0\u001b[0m\u001b[0;34m]\u001b[0m\u001b[0;34m)\u001b[0m\u001b[0;34m*\u001b[0m\u001b[0mspacing\u001b[0m\u001b[0;34m[\u001b[0m\u001b[0;36m0\u001b[0m\u001b[0;34m]\u001b[0m\u001b[0;34m\u001b[0m\u001b[0m\n\u001b[0m\u001b[1;32m      3\u001b[0m   \u001b[0mdv\u001b[0m \u001b[0;34m=\u001b[0m \u001b[0;34m(\u001b[0m\u001b[0ma\u001b[0m\u001b[0;34m[\u001b[0m\u001b[0;36m1\u001b[0m\u001b[0;34m]\u001b[0m\u001b[0;34m-\u001b[0m\u001b[0mb\u001b[0m\u001b[0;34m[\u001b[0m\u001b[0;36m1\u001b[0m\u001b[0;34m]\u001b[0m\u001b[0;34m)\u001b[0m\u001b[0;34m*\u001b[0m\u001b[0mspacing\u001b[0m\u001b[0;34m[\u001b[0m\u001b[0;36m1\u001b[0m\u001b[0;34m]\u001b[0m\u001b[0;34m\u001b[0m\u001b[0m\n\u001b[1;32m      4\u001b[0m   \u001b[0mdw\u001b[0m \u001b[0;34m=\u001b[0m \u001b[0;34m(\u001b[0m\u001b[0ma\u001b[0m\u001b[0;34m[\u001b[0m\u001b[0;36m2\u001b[0m\u001b[0;34m]\u001b[0m\u001b[0;34m-\u001b[0m\u001b[0mb\u001b[0m\u001b[0;34m[\u001b[0m\u001b[0;36m2\u001b[0m\u001b[0;34m]\u001b[0m\u001b[0;34m)\u001b[0m\u001b[0;34m*\u001b[0m\u001b[0mspacing\u001b[0m\u001b[0;34m[\u001b[0m\u001b[0;36m2\u001b[0m\u001b[0;34m]\u001b[0m\u001b[0;34m\u001b[0m\u001b[0m\n\u001b[1;32m      5\u001b[0m   \u001b[0;32mreturn\u001b[0m \u001b[0mmath\u001b[0m\u001b[0;34m.\u001b[0m\u001b[0msqrt\u001b[0m\u001b[0;34m(\u001b[0m\u001b[0mdu\u001b[0m\u001b[0;34m*\u001b[0m\u001b[0mdu\u001b[0m\u001b[0;34m+\u001b[0m\u001b[0mdv\u001b[0m\u001b[0;34m*\u001b[0m\u001b[0mdv\u001b[0m\u001b[0;34m+\u001b[0m\u001b[0mdw\u001b[0m\u001b[0;34m*\u001b[0m\u001b[0mdw\u001b[0m\u001b[0;34m)\u001b[0m\u001b[0;34m\u001b[0m\u001b[0m\n",
      "\u001b[0;31mTypeError\u001b[0m: 'NoneType' object has no attribute '__getitem__'"
     ]
    }
   ],
   "source": [
    "ct = 0\n",
    "t1 = time.time()\n",
    "for scan in scans:\n",
    "  cluster(scan)\n",
    "  ct += len(scan.largeGroups)\n",
    "  if ct%10==0:\n",
    "    print ct\n",
    "t2 = time.time()\n",
    "print str((t2-t1)/60) + \" minutes\""
   ]
  },
  {
   "cell_type": "code",
   "execution_count": null,
   "metadata": {
    "collapsed": false,
    "deletable": true,
    "editable": true
   },
   "outputs": [],
   "source": []
  },
  {
   "cell_type": "code",
   "execution_count": null,
   "metadata": {
    "collapsed": true,
    "deletable": true,
    "editable": true
   },
   "outputs": [],
   "source": []
  },
  {
   "cell_type": "code",
   "execution_count": 64,
   "metadata": {
    "collapsed": false,
    "deletable": true,
    "editable": true
   },
   "outputs": [
    {
     "data": {
      "text/plain": [
       "[1, 2, 4, 5, 6, 7, 10, 11, 12]"
      ]
     },
     "execution_count": 64,
     "metadata": {},
     "output_type": "execute_result"
    }
   ],
   "source": [
    "scans[0].nodules[0].groupMembers"
   ]
  },
  {
   "cell_type": "code",
   "execution_count": 51,
   "metadata": {
    "collapsed": true,
    "deletable": true,
    "editable": true
   },
   "outputs": [],
   "source": [
    "total = 0"
   ]
  },
  {
   "cell_type": "code",
   "execution_count": 52,
   "metadata": {
    "collapsed": false,
    "deletable": true,
    "editable": true
   },
   "outputs": [
    {
     "name": "stdout",
     "output_type": "stream",
     "text": [
      "134\n"
     ]
    }
   ],
   "source": [
    "#bin0 134\n",
    "total += ct\n",
    "print ct"
   ]
  },
  {
   "cell_type": "code",
   "execution_count": 59,
   "metadata": {
    "collapsed": false
   },
   "outputs": [
    {
     "name": "stdout",
     "output_type": "stream",
     "text": [
      "128\n"
     ]
    }
   ],
   "source": [
    "#bin1 128\n",
    "total += ct\n",
    "print ct"
   ]
  },
  {
   "cell_type": "code",
   "execution_count": 63,
   "metadata": {
    "collapsed": false
   },
   "outputs": [
    {
     "name": "stdout",
     "output_type": "stream",
     "text": [
      "129\n"
     ]
    }
   ],
   "source": [
    "#bin2 \n",
    "total += ct\n",
    "print ct"
   ]
  },
  {
   "cell_type": "code",
   "execution_count": null,
   "metadata": {
    "collapsed": true
   },
   "outputs": [],
   "source": [
    "#bin3\n",
    "total += ct\n",
    "print ct"
   ]
  },
  {
   "cell_type": "code",
   "execution_count": null,
   "metadata": {
    "collapsed": true
   },
   "outputs": [],
   "source": [
    "#bin4\n",
    "total += ct\n",
    "print ct"
   ]
  },
  {
   "cell_type": "code",
   "execution_count": null,
   "metadata": {
    "collapsed": true
   },
   "outputs": [],
   "source": [
    "#bin5\n",
    "total += ct\n",
    "print ct"
   ]
  },
  {
   "cell_type": "code",
   "execution_count": null,
   "metadata": {
    "collapsed": true
   },
   "outputs": [],
   "source": [
    "#bin6\n",
    "total += ct\n",
    "print ct"
   ]
  },
  {
   "cell_type": "code",
   "execution_count": null,
   "metadata": {
    "collapsed": true
   },
   "outputs": [],
   "source": [
    "#bin7\n",
    "total += ct\n",
    "print ct"
   ]
  },
  {
   "cell_type": "code",
   "execution_count": null,
   "metadata": {
    "collapsed": true
   },
   "outputs": [],
   "source": [
    "#bin8\n",
    "total += ct\n",
    "print ct"
   ]
  },
  {
   "cell_type": "code",
   "execution_count": null,
   "metadata": {
    "collapsed": true
   },
   "outputs": [],
   "source": [
    "#bin9\n",
    "total += ct\n",
    "print ct"
   ]
  },
  {
   "cell_type": "code",
   "execution_count": null,
   "metadata": {
    "collapsed": true
   },
   "outputs": [],
   "source": []
  }
 ],
 "metadata": {
  "kernelspec": {
   "display_name": "Python 2",
   "language": "python",
   "name": "python2"
  },
  "language_info": {
   "codemirror_mode": {
    "name": "ipython",
    "version": 2
   },
   "file_extension": ".py",
   "mimetype": "text/x-python",
   "name": "python",
   "nbconvert_exporter": "python",
   "pygments_lexer": "ipython2",
   "version": "2.7.12"
  }
 },
 "nbformat": 4,
 "nbformat_minor": 2
}
