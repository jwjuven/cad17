{
 "cells": [
  {
   "cell_type": "code",
   "execution_count": 1,
   "metadata": {
    "collapsed": true
   },
   "outputs": [],
   "source": [
    "ANNOTATIONS_PATH = '/home/rrg0013@auburn.edu/git/nodules/resources/annotations.csv'\n",
    "BIN0PATH = '/scr/data/nodules/luna/test/subset0/'\n",
    "XMLDIR = '/home/rrg0013@auburn.edu/xml/'"
   ]
  },
  {
   "cell_type": "code",
   "execution_count": 2,
   "metadata": {
    "collapsed": true
   },
   "outputs": [],
   "source": [
    "import sys\n",
    "sys.path.append('/home/rrg0013@auburn.edu/git/nodules/src/')"
   ]
  },
  {
   "cell_type": "code",
   "execution_count": 3,
   "metadata": {},
   "outputs": [
    {
     "name": "stderr",
     "output_type": "stream",
     "text": [
      "Using TensorFlow backend.\n"
     ]
    }
   ],
   "source": [
    "import math\n",
    "import segment\n",
    "import candgen as cg\n",
    "import pandas as pd\n",
    "import numpy as np\n",
    "import SimpleITK as sitk\n",
    "import skimage.measure as measure\n",
    "import xml.etree.ElementTree as et"
   ]
  },
  {
   "cell_type": "markdown",
   "metadata": {},
   "source": [
    "# CLASSES"
   ]
  },
  {
   "cell_type": "code",
   "execution_count": 146,
   "metadata": {
    "collapsed": true
   },
   "outputs": [],
   "source": [
    "class Scan:\n",
    "  def __init__(self):\n",
    "    self.id = ''\n",
    "    self.nodules = []\n",
    "    self.groups = []\n",
    "    self.clusters = []\n",
    "    self.annotations = None\n",
    "    \n",
    "    \n",
    "  def combine(self):\n",
    "    for group in self.groups:\n",
    "      nn = Nodule()\n",
    "      cx,cy,cz,d = 0.,0.,0.,0.\n",
    "      for i in range(len(group)):\n",
    "        cx += self.nodules[group[i]].centroid[0]\n",
    "        cy += self.nodules[group[i]].centroid[1]\n",
    "        cz += self.nodules[group[i]].centroid[2]\n",
    "        d += self.nodules[group[i]].diameter\n",
    "        nn.subtlety += self.nodules[group[i]].subtlety\n",
    "        nn.internalStructure += self.nodules[group[i]].internalStructure\n",
    "        nn.sphericity += self.nodules[group[i]].sphericity \n",
    "        nn.calcification += self.nodules[group[i]].calcification\n",
    "        nn.margin += self.nodules[group[i]].margin\n",
    "        nn.lobulation += self.nodules[group[i]].lobulation\n",
    "        nn.spiculation += self.nodules[group[i]].spiculation\n",
    "        nn.texture += self.nodules[group[i]].texture\n",
    "        nn.malignancy += self.nodules[group[i]].malignancy\n",
    "        nn.roi += self.nodules[group[i]].roi\n",
    "      newCentroid = np.array([cx,cy,cz])\n",
    "      newCentroid /= float(len(group))\n",
    "      nn.centroid = newCentroid\n",
    "      print newCentroid\n",
    "      nn.tagCount = len(group)\n",
    "      nn.diameter = d/float(len(group))\n",
    "      nn.subtlety /= float(len(group))\n",
    "      nn.internalStructure /= float(len(group))\n",
    "      nn.sphericity /= float(len(group))\n",
    "      nn.calcification /= float(len(group))\n",
    "      nn.margin /= float(len(group))\n",
    "      nn.lobulation /= float(len(group))\n",
    "      nn.spiculation /= float(len(group))\n",
    "      nn.texture /= float(len(group))\n",
    "      nn.malignancy /= float(len(group))\n",
    "      self.clusters.append(nn)\n",
    "\n",
    "  def getDistance(self,a,b):\n",
    "    du = (a[0]-b[0])\n",
    "    dv = (a[1]-b[1])\n",
    "    dw = (a[2]-b[2])\n",
    "    return math.sqrt(du*du+dv*dv+dw*dw)\n",
    "    \n",
    "  def validateNodules(self):\n",
    "    ct, count = 0, 0\n",
    "    if scan.annotations is not None:\n",
    "      count = len(self.annotations)\n",
    "      for coord in self.annotations:\n",
    "        print coord\n",
    "        for cluster in self.clusters:\n",
    "          distance = self.getDistance(coord,cluster.centroid)\n",
    "          print distance\n",
    "          if distance < cluster.diameter:\n",
    "            print \"VERIFIED NODULE\"\n",
    "            cluster.valid = True\n",
    "            ct += 1\n",
    "            break\n",
    "    print \"VALIDATED \" + str(ct) + \" OF \" + str(count) + \" NODULES\"\n",
    "            "
   ]
  },
  {
   "cell_type": "code",
   "execution_count": 126,
   "metadata": {
    "collapsed": true
   },
   "outputs": [],
   "source": [
    "class Nodule():\n",
    "  def __init__(self):\n",
    "    self.type = ''\n",
    "    self.no = -1\n",
    "    \n",
    "    self.subtlety = 0.\n",
    "    self.internalStructure = 0.\n",
    "    self.sphericity = 0.\n",
    "    self.calcification = 0.\n",
    "    self.margin = 0.\n",
    "    self.lobulation = 0.\n",
    "    self.spiculation = 0.\n",
    "    self.texture = 0.\n",
    "    self.malignancy = 0.\n",
    "    \n",
    "    #original x, y, z and roi coords\n",
    "    self.ox = 0.\n",
    "    self.oy = 0. \n",
    "    self.oz = 0.\n",
    "    self.centroid = None\n",
    "    self.roi = []\n",
    "    \n",
    "    self.group = -1\n",
    "    self.grouped = False\n",
    "    self.groupMembers = []\n",
    "\n",
    "    self.tagCount = -1\n",
    "    self.valid = False\n",
    "    \n",
    "    \n",
    "  def addCharacteristics(self, chars, type=None):\n",
    "    try:\n",
    "      subtlety = chars.find(\"{http://www.nih.gov}subtlety\")\n",
    "      self.subtlety = int(subtlety.text)\n",
    "      internal = chars.find(\"{http://www.nih.gov}internalStructure\")\n",
    "      self.internalStructure = int(internal.text)\n",
    "      calcification = chars.find(\"{http://www.nih.gov}calcification\")\n",
    "      self.calcification = int(calcification.text)\n",
    "      sphericity = chars.find(\"{http://www.nih.gov}sphericity\")\n",
    "      self.sphericity = int(sphericity.text)\n",
    "      margin = chars.find(\"{http://www.nih.gov}margin\")\n",
    "      self.margin = int(margin.text)\n",
    "      lobulation = chars.find(\"{http://www.nih.gov}lobulation\")\n",
    "      self.lobulation = int(lobulation.text)\n",
    "      spiculation = chars.find(\"{http://www.nih.gov}spiculation\")\n",
    "      self.spiculation = int(spiculation.text)\n",
    "      texture = chars.find(\"{http://www.nih.gov}texture\")\n",
    "      self.texture = int(texture.text)\n",
    "      ##-MALIGNANCY IS ASSUMING 60 YEAR OLD MALE SMOKER ..\n",
    "      malignancy = chars.find(\"{http://www.nih.gov}malignancy\")\n",
    "      self.malignancy = int(malignancy.text)\n",
    "    except AttributeError:\n",
    "      print \"ATTRIBUTE ERROR\"\n",
    "        \n",
    "  def addGroup(self,groupNo,group):\n",
    "    self.group = groupNo\n",
    "    self.grouped = True\n",
    "    for i in range(len(group)):\n",
    "      if group[i] != self.no:\n",
    "        self.groupMembers.append(group[i])\n",
    "      \n",
    "  def getProperties(self):\n",
    "    tmp = np.zeros((500,500,500)).astype(int)\n",
    "    xmax,xmin,ymax,ymin,zmax,zmin=-1e5,1e5,-1e5,1e5,-1e5,1e5\n",
    "    x,y,z=0,0,0\n",
    "    for value in self.roi:\n",
    "      xmax = max(abs(int(round(value[0]))),xmax)\n",
    "      xmin = min(abs(int(value[0])),xmin)\n",
    "      ymax = max(abs(int(round(value[1]))),ymax)\n",
    "      ymin = min(abs(int(value[1])),ymin)\n",
    "      zmax = max(abs(int(round(value[2]))),zmax)\n",
    "      zmin = min(abs(int(value[2])),zmin)\n",
    "      x,y,z = value[0],value[1],value[2]\n",
    "      tmp[abs(int(x)),abs(int(y)),abs(int(z))]=1  \n",
    "\n",
    "    props = measure.regionprops(tmp)\n",
    "    centroid = np.array(props[0].centroid)\n",
    "    self.centroid = centroid\n",
    "    \n",
    "    tmp = tmp[xmin-1:xmax+1,ymin-1:ymax+1,zmin-1:zmax+1]\n",
    "    tmp[tmp>0] = 1\n",
    "    if tmp.shape[0]*tmp.shape[1]*tmp.shape[2] == max(tmp.shape):\n",
    "      self.diameter = 3.\n",
    "      self.area = max(tmp.shape)\n",
    "    else:\n",
    "      props = measure.regionprops(tmp)\n",
    "      self.diameter = props[0].equivalent_diameter\n",
    "      self.area = props[0].area"
   ]
  },
  {
   "cell_type": "code",
   "execution_count": null,
   "metadata": {
    "collapsed": true
   },
   "outputs": [],
   "source": []
  },
  {
   "cell_type": "markdown",
   "metadata": {
    "collapsed": true
   },
   "source": [
    "# EXPLORATION"
   ]
  },
  {
   "cell_type": "code",
   "execution_count": 4,
   "metadata": {
    "collapsed": true
   },
   "outputs": [],
   "source": [
    "annotations = pd.read_csv(ANNOTATIONS_PATH)\n",
    "filelist, filepathlist = cg.getFilelist(BIN0PATH)"
   ]
  },
  {
   "cell_type": "code",
   "execution_count": 116,
   "metadata": {},
   "outputs": [
    {
     "name": "stdout",
     "output_type": "stream",
     "text": [
      "                                            seriesuid     coordX     coordY  \\\n",
      "25  1.3.6.1.4.1.14519.5.2.1.6279.6001.109002525524...  46.188539  48.402806   \n",
      "26  1.3.6.1.4.1.14519.5.2.1.6279.6001.109002525524...  36.392044  76.771663   \n",
      "\n",
      "        coordZ  diameter_mm  \n",
      "25 -108.578632    13.596471  \n",
      "26 -123.321911     4.343200  \n"
     ]
    }
   ],
   "source": [
    "fuid = filelist[2]\n",
    "currentNodules = annotations[annotations['seriesuid'] == fuid]\n",
    "print currentNodules\n",
    "#xml(fuid)"
   ]
  },
  {
   "cell_type": "code",
   "execution_count": null,
   "metadata": {
    "collapsed": true
   },
   "outputs": [],
   "source": []
  },
  {
   "cell_type": "markdown",
   "metadata": {
    "collapsed": true
   },
   "source": [
    "# FUNCTIONS"
   ]
  },
  {
   "cell_type": "code",
   "execution_count": 83,
   "metadata": {
    "collapsed": true
   },
   "outputs": [],
   "source": [
    "def cluster(scan):\n",
    "  print scan.id\n",
    "  nodules = []\n",
    "  gno = 0\n",
    "\n",
    "  for i, nodule in enumerate(scan.nodules):\n",
    "    nodule.no = i\n",
    "    nodules.append(nodule)\n",
    "\n",
    "  for i in range(len(nodules)):\n",
    "    if not nodules[i].grouped:\n",
    "      group = []\n",
    "      group.append(i)\n",
    "      for j in range(len(nodules)):\n",
    "        if i != j:\n",
    "          if not nodules[j].grouped:\n",
    "            distance = scan.getDistance(nodules[i].centroid,nodules[j].centroid)\n",
    "            if distance < (nodules[i].diameter/2.+nodules[j].diameter/2.):\n",
    "              group.append(j)\n",
    "      for j in range(1,len(group)):\n",
    "        j = group[j]\n",
    "        for k in range(len(nodules)):\n",
    "          if i != k and j != k and i != j:\n",
    "            if not nodules[k].grouped:\n",
    "              distance = scan.getDistance(nodules[j].centroid,nodules[k].centroid)\n",
    "              if distance < (nodules[j].diameter/2.+nodules[k].diameter/2.):\n",
    "                group.append(k)\n",
    "      if len(group) >= 1:\n",
    "        group = set(group)\n",
    "        group = list(group)\n",
    "        for n in range(len(group)):\n",
    "          nodules[group[n]].addGroup(gno,group)\n",
    "        scan.groups.append(group)\n",
    "        gno += 1"
   ]
  },
  {
   "cell_type": "code",
   "execution_count": 84,
   "metadata": {
    "collapsed": true
   },
   "outputs": [],
   "source": [
    "def xml(seriesuid, spacing=None, origin=None):\n",
    "  scan = Scan()\n",
    "  scan.id = seriesuid\n",
    "  xmlpath = XMLDIR+'/'+seriesuid+'.xml'\n",
    "  xml = et.parse(xmlpath)\n",
    "  ct = 0\n",
    "  for reader in xml.findall('./{http://www.nih.gov}readingSession'):\n",
    "    for reading in reader.findall('./{http://www.nih.gov}unblindedReadNodule'):\n",
    "      nn = Nodule() \n",
    "      if reading.find('./{http://www.nih.gov}characteristics') is not None:\n",
    "        nn.type = 'L'\n",
    "        characteristics = reading.find('./{http://www.nih.gov}characteristics')\n",
    "        nn.addCharacteristics(characteristics)\n",
    "        for roi in reading.findall('./{http://www.nih.gov}roi'):\n",
    "          z = roi.find('./{http://www.nih.gov}imageZposition')\n",
    "          z = float(z.text)\n",
    "          z = z-origin[2]\n",
    "          include = roi.find('./{http://www.nih.gov}inclusion')\n",
    "          if include.text == 'TRUE':\n",
    "            for e in roi.findall('./{http://www.nih.gov}edgeMap'):\n",
    "              x = e.find('./{http://www.nih.gov}xCoord')\n",
    "              y = e.find('./{http://www.nih.gov}yCoord')\n",
    "              coord = int(x.text),int(y.text)\n",
    "              coord = (coord[0],coord[1],0.)\n",
    "              coord *= spacing\n",
    "              coord[2] = z\n",
    "              nn.roi.append(coord)\n",
    "        nn.getProperties()\n",
    "        scan.nodules.append(nn)\n",
    "      else:\n",
    "        nn.type = 'S'\n",
    "        nn.diameter = 3.\n",
    "        roi = reading.find('./{http://www.nih.gov}roi')\n",
    "        e = roi.find('./{http://www.nih.gov}edgeMap')\n",
    "        x = e.find('./{http://www.nih.gov}xCoord')\n",
    "        x = float(x.text)\n",
    "        x *= spacing[0]\n",
    "        y = e.find('./{http://www.nih.gov}yCoord')\n",
    "        y = float(y.text)\n",
    "        y *= spacing[1]\n",
    "        z = roi.find('./{http://www.nih.gov}imageZposition')\n",
    "        z = float(z.text)\n",
    "        z = z-origin[2]\n",
    "        nn.ox = x\n",
    "        nn.oy = y\n",
    "        nn.oz = z\n",
    "        nn.centroid = (x,y,z)\n",
    "        scan.nodules.append(nn)\n",
    "      \n",
    "  return scan"
   ]
  },
  {
   "cell_type": "markdown",
   "metadata": {},
   "source": [
    "# MAIN"
   ]
  },
  {
   "cell_type": "code",
   "execution_count": 5,
   "metadata": {
    "collapsed": true
   },
   "outputs": [],
   "source": [
    "import lidc"
   ]
  },
  {
   "cell_type": "code",
   "execution_count": 6,
   "metadata": {},
   "outputs": [
    {
     "name": "stdout",
     "output_type": "stream",
     "text": [
      "[234 157  85]\n",
      "[224 185  71]\n",
      "1.3.6.1.4.1.14519.5.2.1.6279.6001.109002525524522225658609808059\n",
      "[ 208.19544132  161.47205593  165.95504386]\n",
      "[ 233.28684629  156.23046213   84.95076273]\n",
      "[ 223.44291059  183.99794568   70.24463359]\n",
      "[ 71.07322675  87.81248093  71.25      ]\n",
      "[  55.9418412   146.47821619  121.31854839]\n",
      "[  67.50584471  143.79293752  155.        ]\n",
      "[ 225.5322534   109.42037248   87.51315789]\n",
      "[  99.33786905  132.8163774   173.75      ]\n",
      "[  94.947245    129.52340937  166.25      ]\n",
      "[234 157  85]\n",
      "85.0858017501\n",
      "1.05033377972\n",
      "VERIFIED NODULE\n",
      "[224 185  71]\n",
      "99.0949473068\n",
      "33.2949786615\n",
      "1.37296755042\n",
      "VERIFIED NODULE\n",
      "VALIDATED 2 OF 2 NODULES\n"
     ]
    }
   ],
   "source": [
    "n = 2\n",
    "def run(no):\n",
    "  currentNodules = annotations[annotations['seriesuid'] == filelist[no]]\n",
    "  if currentNodules.empty:\n",
    "    return\n",
    "  itk = sitk.ReadImage(filepathlist[no])\n",
    "  origin = np.array(itk.GetOrigin())\n",
    "  spacing = np.array(itk.GetSpacing())\n",
    "  coords = segment.getCoords(currentNodules, origin, spacing)\n",
    "  for i in range(len(coords)):\n",
    "    print coords[i]\n",
    "  scan = lidc.xml(XMLDIR,filelist[no],spacing,origin)\n",
    "  scan.annotations = coords\n",
    "  lidc.cluster(scan)\n",
    "  scan.combine()\n",
    "  scan.validateNodules()\n",
    "  return scan\n",
    "scan = run(n)"
   ]
  },
  {
   "cell_type": "code",
   "execution_count": 138,
   "metadata": {},
   "outputs": [
    {
     "name": "stdout",
     "output_type": "stream",
     "text": [
      "[<__main__.Nodule instance at 0x7f02a072b950>, <__main__.Nodule instance at 0x7f02a072b998>, <__main__.Nodule instance at 0x7f02a072b9e0>, <__main__.Nodule instance at 0x7f02a072ba28>, <__main__.Nodule instance at 0x7f02a072bb00>, <__main__.Nodule instance at 0x7f02a072bb48>, <__main__.Nodule instance at 0x7f02a072bc20>, <__main__.Nodule instance at 0x7f02a072bc68>, <__main__.Nodule instance at 0x7f02a072bcf8>]\n"
     ]
    }
   ],
   "source": [
    "print scan.clusters"
   ]
  },
  {
   "cell_type": "code",
   "execution_count": 122,
   "metadata": {},
   "outputs": [
    {
     "name": "stdout",
     "output_type": "stream",
     "text": [
      "                                            seriesuid     coordX     coordY  \\\n",
      "25  1.3.6.1.4.1.14519.5.2.1.6279.6001.109002525524...  46.188539  48.402806   \n",
      "26  1.3.6.1.4.1.14519.5.2.1.6279.6001.109002525524...  36.392044  76.771663   \n",
      "\n",
      "        coordZ  diameter_mm  \n",
      "25 -108.578632    13.596471  \n",
      "26 -123.321911     4.343200  \n",
      "4\n",
      "[ 208.19544132  161.47205593  165.95504386]\n"
     ]
    }
   ],
   "source": [
    "print currentNodules\n",
    "print scan.clusters[0].tagCount\n",
    "print scan.clusters[0].centroid"
   ]
  },
  {
   "cell_type": "code",
   "execution_count": null,
   "metadata": {
    "collapsed": true
   },
   "outputs": [],
   "source": []
  }
 ],
 "metadata": {
  "kernelspec": {
   "display_name": "Python 2",
   "language": "python",
   "name": "python2"
  },
  "language_info": {
   "codemirror_mode": {
    "name": "ipython",
    "version": 2
   },
   "file_extension": ".py",
   "mimetype": "text/x-python",
   "name": "python",
   "nbconvert_exporter": "python",
   "pygments_lexer": "ipython2",
   "version": "2.7.12"
  }
 },
 "nbformat": 4,
 "nbformat_minor": 2
}
