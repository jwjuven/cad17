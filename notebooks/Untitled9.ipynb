{
 "cells": [
  {
   "cell_type": "code",
   "execution_count": 1,
   "metadata": {
    "collapsed": true
   },
   "outputs": [],
   "source": [
    "import sys\n",
    "sys.path.append('/home/rrg0013@auburn.edu/git/nodules/src/')\n",
    "sys.path.append('/home/rrg0013@auburn.edu/git/nodules/models/')\n",
    "sys.path.append('/home/rrg0013@auburn.edu/git/nodules/keras/')"
   ]
  },
  {
   "cell_type": "code",
   "execution_count": 2,
   "metadata": {},
   "outputs": [
    {
     "name": "stderr",
     "output_type": "stream",
     "text": [
      "Using TensorFlow backend.\n",
      "Using cuDNN version 6020 on context None\n",
      "Mapped name None to device cuda0: GeForce GTX 1070 (0000:83:00.0)\n"
     ]
    }
   ],
   "source": [
    "import fpr_xrv2_1c3 as m\n",
    "import generatorModel as gen\n",
    "import kerasUtil as ku\n",
    "from sklearn.metrics import roc_curve, f1_score, auc\n",
    "from glob import glob"
   ]
  },
  {
   "cell_type": "code",
   "execution_count": 3,
   "metadata": {
    "collapsed": true
   },
   "outputs": [],
   "source": [
    "import os\n",
    "import scipy.misc\n",
    "import numpy as np\n",
    "import matplotlib.pyplot as plt"
   ]
  },
  {
   "cell_type": "markdown",
   "metadata": {},
   "source": [
    "### Step 1"
   ]
  },
  {
   "cell_type": "code",
   "execution_count": 9,
   "metadata": {
    "collapsed": true
   },
   "outputs": [],
   "source": [
    "PATH = '/scr/data/nodules/testseg/cands/train2/seven/'\n",
    "#PATH = '/scr/data/nodules/testseg/cands/test3a/'\n",
    "#WEIGHT = '/scr/data/nodules/models/five_fpr1.h5'\n",
    "#PATH = '/scr/data/nodules/testseg/cands/train2/'+NO_+'/'\n",
    "WEIGHT = '/scr/data/nodules/models/four_fpr1.h5'\n",
    "WEIGHT = '/scr/data/nodules/init3dConv/073117/7003/64-no7003-accuracy-073117.h5'"
   ]
  },
  {
   "cell_type": "markdown",
   "metadata": {},
   "source": [
    "### Step 2"
   ]
  },
  {
   "cell_type": "code",
   "execution_count": 10,
   "metadata": {
    "collapsed": true
   },
   "outputs": [],
   "source": [
    "PATH = '/scr/data/nodules/testseg/cands/train4/seven/'\n",
    "#PATH = '/scr/data/nodules/testseg/cands/train3/nine/'\n",
    "WEIGHT = '/scr/data/nodules/models/three_fpr1.h5'\n",
    "WEIGHT = '/scr/data/nodules/init3dConv/073117/7003/64-no7003-accuracy-073117.h5'"
   ]
  },
  {
   "cell_type": "code",
   "execution_count": null,
   "metadata": {
    "collapsed": true
   },
   "outputs": [],
   "source": []
  },
  {
   "cell_type": "code",
   "execution_count": 881,
   "metadata": {
    "collapsed": true
   },
   "outputs": [],
   "source": [
    "PATH = '/scr/data/nodules/testseg/cands/train2/seven/'\n",
    "PATH = '/scr/data/nodules/testseg/cands/train3/seven/'\n",
    "#WEIGHT = '/scr/data/nodules/init3dConv/080217/1001/32-no1001-accuracy-080217.h5'\n",
    "#PATH = '/scr/data/nodules/testseg/cands/test3/'\n",
    "PATH = '/scr/data/nodules/testseg/final/final/clean/f/zero/'\n",
    "#PATH = '/scr/data/nodules/testseg/final/finalt/clean/t/zero/'\n",
    "WEIGHT = '/scr/data/nodules/init3dConv/080217/1001/133.h5'"
   ]
  },
  {
   "cell_type": "code",
   "execution_count": 882,
   "metadata": {
    "collapsed": true
   },
   "outputs": [],
   "source": [
    "def loadpng1(cfg, full):\n",
    "  path = cfg\n",
    "  images, labels = [], []\n",
    "  for parent, subdir, files in os.walk(path):\n",
    "    for file in files:\n",
    "      image = scipy.misc.imread(os.path.join(parent,file))\n",
    "      image = ku.formatImage(image,full)\n",
    "      images.append(np.array(image))\n",
    "      label = file\n",
    "      if label[1] == '.':\n",
    "        label = label[2:]\n",
    "      elif label[2] == '.':\n",
    "        label = label[3:]\n",
    "      label = str(label)\n",
    "      meta = label.split('_')\n",
    "      label = {'labels':meta[0]}\n",
    "      #print label\n",
    "      #label['malignancy'] = meta[1].split('-')\n",
    "      #label['vars'] = meta[2].split('-')\n",
    "      #meta = meta[2].split('-')\n",
    "      #print meta\n",
    "      #meta = meta[7].split('.')\n",
    "      #label['count'] = meta[3]\n",
    "      #label['slice'] = meta[4]\n",
    "      labels.append(label)\n",
    "  if path[-4:] == '.png':\n",
    "    image = scipy.misc.imread(path)\n",
    "    image = ku.formatImage(image,full)\n",
    "    images.append(np.array(image))\n",
    "    label = path.split('/')\n",
    "    label = label[-1]\n",
    "    if label[1] == '.':\n",
    "      label = label[2:]\n",
    "    elif label[2] == '.':\n",
    "      label = label[3:]\n",
    "    label = str(label)\n",
    "    meta = label.split('_')\n",
    "    label = {'labels':meta[0]}\n",
    "    labels.append(label)\n",
    "  return images, labels"
   ]
  },
  {
   "cell_type": "code",
   "execution_count": 883,
   "metadata": {
    "collapsed": true
   },
   "outputs": [],
   "source": [
    "#images, labels = loadpng1(PATH, True)\n",
    "images, labels = loadpng1(PATH, True)\n",
    "images, labels = ku.cleanData(images, labels, 2)\n",
    "images = ku.to3d(images, 2, True)\n",
    "labels = ku.get2Labels(labels)\n",
    "images = ku.convertArray(images)"
   ]
  },
  {
   "cell_type": "code",
   "execution_count": 884,
   "metadata": {},
   "outputs": [
    {
     "data": {
      "text/plain": [
       "3148"
      ]
     },
     "execution_count": 884,
     "metadata": {},
     "output_type": "execute_result"
    }
   ],
   "source": [
    "len(images)"
   ]
  },
  {
   "cell_type": "code",
   "execution_count": 885,
   "metadata": {},
   "outputs": [
    {
     "name": "stdout",
     "output_type": "stream",
     "text": [
      "3148\n"
     ]
    }
   ],
   "source": [
    "print len(images)"
   ]
  },
  {
   "cell_type": "code",
   "execution_count": 886,
   "metadata": {},
   "outputs": [],
   "source": [
    "#std = np.std(images)+1e-12\n",
    "#mean = np.mean(images)+1e-12\n",
    "mean = 0.191494569183\n",
    "#0.2289698869#0.238903835417\n",
    "std = 0.197447970511\n",
    "#0.218540757896#0.221545860172\n",
    "mean=0.190817147494\n",
    "std=0.199062317611\n",
    "mean=0.188313096763\n",
    "std=0.1979406029\n",
    "\n",
    "images -= .17#mean#0.237466380001#0.239519521595\n",
    "images /= .17#std#0.221488147975#0.221684783698\n",
    "#images -= mean\n",
    "#images /= std\n",
    "#print mean\n",
    "#print std"
   ]
  },
  {
   "cell_type": "code",
   "execution_count": 887,
   "metadata": {},
   "outputs": [
    {
     "data": {
      "text/plain": [
       "0.221488147975"
      ]
     },
     "execution_count": 887,
     "metadata": {},
     "output_type": "execute_result"
    }
   ],
   "source": [
    "0.237466380001\n",
    "0.221488147975"
   ]
  },
  {
   "cell_type": "code",
   "execution_count": 888,
   "metadata": {},
   "outputs": [
    {
     "name": "stdout",
     "output_type": "stream",
     "text": [
      "62\n",
      "31\n",
      "52\n",
      "26\n",
      "____________________________________________________________________________________________________\n",
      "Layer (type)                     Output Shape          Param #     Connected to                     \n",
      "====================================================================================================\n",
      "input_67 (InputLayer)            (None, 1, 32, 32, 32) 0                                            \n",
      "____________________________________________________________________________________________________\n",
      "conv3d_3565 (Conv3D)             (None, 32, 32, 32, 32 896         input_67[0][0]                   \n",
      "____________________________________________________________________________________________________\n",
      "conv3d_3570 (Conv3D)             (None, 6, 32, 32, 32) 198         conv3d_3565[0][0]                \n",
      "____________________________________________________________________________________________________\n",
      "conv3d_3566 (Conv3D)             (None, 6, 32, 32, 32) 198         conv3d_3565[0][0]                \n",
      "____________________________________________________________________________________________________\n",
      "conv3d_3568 (Conv3D)             (None, 6, 32, 32, 32) 198         conv3d_3565[0][0]                \n",
      "____________________________________________________________________________________________________\n",
      "conv3d_3571 (Conv3D)             (None, 10, 32, 32, 32 490         conv3d_3570[0][0]                \n",
      "____________________________________________________________________________________________________\n",
      "max_pooling3d_133 (MaxPooling3D) (None, 32, 16, 16, 16 0           conv3d_3565[0][0]                \n",
      "____________________________________________________________________________________________________\n",
      "conv3d_3567 (Conv3D)             (None, 6, 16, 16, 16) 978         conv3d_3566[0][0]                \n",
      "____________________________________________________________________________________________________\n",
      "conv3d_3569 (Conv3D)             (None, 10, 16, 16, 16 1630        conv3d_3568[0][0]                \n",
      "____________________________________________________________________________________________________\n",
      "conv3d_3572 (Conv3D)             (None, 14, 16, 16, 16 3794        conv3d_3571[0][0]                \n",
      "____________________________________________________________________________________________________\n",
      "concatenate_397 (Concatenate)    (None, 62, 16, 16, 16 0           max_pooling3d_133[0][0]          \n",
      "                                                                   conv3d_3567[0][0]                \n",
      "                                                                   conv3d_3569[0][0]                \n",
      "                                                                   conv3d_3572[0][0]                \n",
      "____________________________________________________________________________________________________\n",
      "conv3d_3576 (Conv3D)             (None, 32, 16, 16, 16 2016        concatenate_397[0][0]            \n",
      "____________________________________________________________________________________________________\n",
      "conv3d_3574 (Conv3D)             (None, 32, 16, 16, 16 2016        concatenate_397[0][0]            \n",
      "____________________________________________________________________________________________________\n",
      "conv3d_3577 (Conv3D)             (None, 32, 16, 16, 16 27680       conv3d_3576[0][0]                \n",
      "____________________________________________________________________________________________________\n",
      "conv3d_3573 (Conv3D)             (None, 32, 16, 16, 16 2016        concatenate_397[0][0]            \n",
      "____________________________________________________________________________________________________\n",
      "conv3d_3575 (Conv3D)             (None, 32, 16, 16, 16 27680       conv3d_3574[0][0]                \n",
      "____________________________________________________________________________________________________\n",
      "conv3d_3578 (Conv3D)             (None, 32, 16, 16, 16 27680       conv3d_3577[0][0]                \n",
      "____________________________________________________________________________________________________\n",
      "conv3d_3580 (Conv3D)             (None, 32, 16, 16, 16 15904       concatenate_397[0][0]            \n",
      "____________________________________________________________________________________________________\n",
      "concatenate_398 (Concatenate)    (None, 128, 16, 16, 1 0           conv3d_3573[0][0]                \n",
      "                                                                   conv3d_3575[0][0]                \n",
      "                                                                   conv3d_3578[0][0]                \n",
      "                                                                   conv3d_3580[0][0]                \n",
      "____________________________________________________________________________________________________\n",
      "conv3d_3581 (Conv3D)             (None, 62, 16, 16, 16 7998        concatenate_398[0][0]            \n",
      "____________________________________________________________________________________________________\n",
      "add_265 (Add)                    (None, 62, 16, 16, 16 0           concatenate_397[0][0]            \n",
      "                                                                   conv3d_3581[0][0]                \n",
      "____________________________________________________________________________________________________\n",
      "activation_397 (Activation)      (None, 62, 16, 16, 16 0           add_265[0][0]                    \n",
      "____________________________________________________________________________________________________\n",
      "conv3d_3582 (Conv3D)             (None, 31, 16, 16, 16 1953        activation_397[0][0]             \n",
      "____________________________________________________________________________________________________\n",
      "conv3d_3586 (Conv3D)             (None, 32, 16, 16, 16 1024        conv3d_3582[0][0]                \n",
      "____________________________________________________________________________________________________\n",
      "conv3d_3584 (Conv3D)             (None, 32, 16, 16, 16 1024        conv3d_3582[0][0]                \n",
      "____________________________________________________________________________________________________\n",
      "conv3d_3587 (Conv3D)             (None, 32, 16, 16, 16 27680       conv3d_3586[0][0]                \n",
      "____________________________________________________________________________________________________\n",
      "conv3d_3583 (Conv3D)             (None, 32, 16, 16, 16 1024        conv3d_3582[0][0]                \n",
      "____________________________________________________________________________________________________\n",
      "conv3d_3585 (Conv3D)             (None, 32, 16, 16, 16 27680       conv3d_3584[0][0]                \n",
      "____________________________________________________________________________________________________\n",
      "conv3d_3588 (Conv3D)             (None, 32, 16, 16, 16 27680       conv3d_3587[0][0]                \n",
      "____________________________________________________________________________________________________\n",
      "conv3d_3590 (Conv3D)             (None, 32, 16, 16, 16 7968        conv3d_3582[0][0]                \n",
      "____________________________________________________________________________________________________\n",
      "concatenate_399 (Concatenate)    (None, 128, 16, 16, 1 0           conv3d_3583[0][0]                \n",
      "                                                                   conv3d_3585[0][0]                \n",
      "                                                                   conv3d_3588[0][0]                \n",
      "                                                                   conv3d_3590[0][0]                \n",
      "____________________________________________________________________________________________________\n",
      "conv3d_3591 (Conv3D)             (None, 31, 16, 16, 16 3999        concatenate_399[0][0]            \n",
      "____________________________________________________________________________________________________\n",
      "add_266 (Add)                    (None, 31, 16, 16, 16 0           conv3d_3582[0][0]                \n",
      "                                                                   conv3d_3591[0][0]                \n",
      "____________________________________________________________________________________________________\n",
      "activation_398 (Activation)      (None, 31, 16, 16, 16 0           add_266[0][0]                    \n",
      "____________________________________________________________________________________________________\n",
      "conv3d_3596 (Conv3D)             (None, 5, 16, 16, 16) 160         activation_398[0][0]             \n",
      "____________________________________________________________________________________________________\n",
      "conv3d_3592 (Conv3D)             (None, 5, 16, 16, 16) 160         activation_398[0][0]             \n",
      "____________________________________________________________________________________________________\n",
      "conv3d_3594 (Conv3D)             (None, 5, 16, 16, 16) 160         activation_398[0][0]             \n",
      "____________________________________________________________________________________________________\n",
      "conv3d_3597 (Conv3D)             (None, 7, 16, 16, 16) 287         conv3d_3596[0][0]                \n",
      "____________________________________________________________________________________________________\n",
      "max_pooling3d_134 (MaxPooling3D) (None, 31, 8, 8, 8)   0           activation_398[0][0]             \n",
      "____________________________________________________________________________________________________\n",
      "conv3d_3593 (Conv3D)             (None, 5, 8, 8, 8)    680         conv3d_3592[0][0]                \n",
      "____________________________________________________________________________________________________\n",
      "conv3d_3595 (Conv3D)             (None, 7, 8, 8, 8)    952         conv3d_3594[0][0]                \n",
      "____________________________________________________________________________________________________\n",
      "conv3d_3598 (Conv3D)             (None, 9, 8, 8, 8)    1710        conv3d_3597[0][0]                \n",
      "____________________________________________________________________________________________________\n",
      "concatenate_400 (Concatenate)    (None, 52, 8, 8, 8)   0           max_pooling3d_134[0][0]          \n",
      "                                                                   conv3d_3593[0][0]                \n",
      "                                                                   conv3d_3595[0][0]                \n",
      "                                                                   conv3d_3598[0][0]                \n",
      "____________________________________________________________________________________________________\n",
      "conv3d_3602 (Conv3D)             (None, 32, 8, 8, 8)   1696        concatenate_400[0][0]            \n",
      "____________________________________________________________________________________________________\n",
      "conv3d_3600 (Conv3D)             (None, 32, 8, 8, 8)   1696        concatenate_400[0][0]            \n",
      "____________________________________________________________________________________________________\n",
      "conv3d_3603 (Conv3D)             (None, 32, 8, 8, 8)   27680       conv3d_3602[0][0]                \n",
      "____________________________________________________________________________________________________\n",
      "conv3d_3599 (Conv3D)             (None, 32, 8, 8, 8)   1696        concatenate_400[0][0]            \n",
      "____________________________________________________________________________________________________\n",
      "conv3d_3601 (Conv3D)             (None, 32, 8, 8, 8)   27680       conv3d_3600[0][0]                \n",
      "____________________________________________________________________________________________________\n",
      "conv3d_3604 (Conv3D)             (None, 32, 8, 8, 8)   27680       conv3d_3603[0][0]                \n",
      "____________________________________________________________________________________________________\n",
      "conv3d_3606 (Conv3D)             (None, 32, 8, 8, 8)   13344       concatenate_400[0][0]            \n",
      "____________________________________________________________________________________________________\n",
      "concatenate_401 (Concatenate)    (None, 128, 8, 8, 8)  0           conv3d_3599[0][0]                \n",
      "                                                                   conv3d_3601[0][0]                \n",
      "                                                                   conv3d_3604[0][0]                \n",
      "                                                                   conv3d_3606[0][0]                \n",
      "____________________________________________________________________________________________________\n",
      "conv3d_3607 (Conv3D)             (None, 52, 8, 8, 8)   6708        concatenate_401[0][0]            \n",
      "____________________________________________________________________________________________________\n",
      "add_267 (Add)                    (None, 52, 8, 8, 8)   0           concatenate_400[0][0]            \n",
      "                                                                   conv3d_3607[0][0]                \n",
      "____________________________________________________________________________________________________\n",
      "activation_399 (Activation)      (None, 52, 8, 8, 8)   0           add_267[0][0]                    \n",
      "____________________________________________________________________________________________________\n",
      "conv3d_3608 (Conv3D)             (None, 26, 8, 8, 8)   1378        activation_399[0][0]             \n",
      "____________________________________________________________________________________________________\n",
      "conv3d_3612 (Conv3D)             (None, 32, 8, 8, 8)   864         conv3d_3608[0][0]                \n",
      "____________________________________________________________________________________________________\n",
      "conv3d_3610 (Conv3D)             (None, 32, 8, 8, 8)   864         conv3d_3608[0][0]                \n",
      "____________________________________________________________________________________________________\n",
      "conv3d_3613 (Conv3D)             (None, 32, 8, 8, 8)   27680       conv3d_3612[0][0]                \n",
      "____________________________________________________________________________________________________\n",
      "conv3d_3609 (Conv3D)             (None, 32, 8, 8, 8)   864         conv3d_3608[0][0]                \n",
      "____________________________________________________________________________________________________\n",
      "conv3d_3611 (Conv3D)             (None, 32, 8, 8, 8)   27680       conv3d_3610[0][0]                \n",
      "____________________________________________________________________________________________________\n",
      "conv3d_3614 (Conv3D)             (None, 32, 8, 8, 8)   27680       conv3d_3613[0][0]                \n",
      "____________________________________________________________________________________________________\n",
      "conv3d_3616 (Conv3D)             (None, 32, 8, 8, 8)   6688        conv3d_3608[0][0]                \n",
      "____________________________________________________________________________________________________\n",
      "concatenate_402 (Concatenate)    (None, 128, 8, 8, 8)  0           conv3d_3609[0][0]                \n",
      "                                                                   conv3d_3611[0][0]                \n",
      "                                                                   conv3d_3614[0][0]                \n",
      "                                                                   conv3d_3616[0][0]                \n",
      "____________________________________________________________________________________________________\n",
      "conv3d_3617 (Conv3D)             (None, 26, 8, 8, 8)   3354        concatenate_402[0][0]            \n",
      "____________________________________________________________________________________________________\n",
      "add_268 (Add)                    (None, 26, 8, 8, 8)   0           conv3d_3608[0][0]                \n",
      "                                                                   conv3d_3617[0][0]                \n",
      "____________________________________________________________________________________________________\n",
      "activation_400 (Activation)      (None, 26, 8, 8, 8)   0           add_268[0][0]                    \n",
      "____________________________________________________________________________________________________\n",
      "conv3d_3618 (Conv3D)             (None, 13, 8, 8, 8)   351         activation_400[0][0]             \n",
      "____________________________________________________________________________________________________\n",
      "flatten_67 (Flatten)             (None, 6656)          0           conv3d_3618[0][0]                \n",
      "____________________________________________________________________________________________________\n",
      "dense_133 (Dense)                (None, 128)           852096      flatten_67[0][0]                 \n",
      "____________________________________________________________________________________________________\n",
      "activation_401 (Activation)      (None, 128)           0           dense_133[0][0]                  \n",
      "____________________________________________________________________________________________________\n",
      "alpha_dropout_67 (AlphaDropout)  (None, 128)           0           activation_401[0][0]             \n",
      "____________________________________________________________________________________________________\n",
      "dense_134 (Dense)                (None, 2)             258         alpha_dropout_67[0][0]           \n",
      "____________________________________________________________________________________________________\n",
      "activation_402 (Activation)      (None, 2)             0           dense_134[0][0]                  \n",
      "====================================================================================================\n",
      "Total params: 1,283,450\n",
      "Trainable params: 1,283,450\n",
      "Non-trainable params: 0\n",
      "____________________________________________________________________________________________________\n",
      "None\n"
     ]
    }
   ],
   "source": [
    "model = m.getModel(2,sz=32,full=True)"
   ]
  },
  {
   "cell_type": "code",
   "execution_count": 889,
   "metadata": {
    "collapsed": true
   },
   "outputs": [],
   "source": [
    "model.compile(loss='categorical_crossentropy',optimizer='adadelta',metrics=['accuracy'])"
   ]
  },
  {
   "cell_type": "code",
   "execution_count": 890,
   "metadata": {
    "collapsed": true
   },
   "outputs": [],
   "source": [
    "model.load_weights(WEIGHT)"
   ]
  },
  {
   "cell_type": "code",
   "execution_count": 891,
   "metadata": {
    "collapsed": true
   },
   "outputs": [],
   "source": [
    "preds = model.predict(images, batch_size=64)"
   ]
  },
  {
   "cell_type": "code",
   "execution_count": 879,
   "metadata": {},
   "outputs": [
    {
     "name": "stdout",
     "output_type": "stream",
     "text": [
      "nan\n"
     ]
    }
   ],
   "source": [
    "fpr, tpr, _ = roc_curve(labels[:,0],preds[:,0])\n",
    "area = auc(fpr, tpr)\n",
    "print area\n",
    "plt.plot(fpr,tpr)\n",
    "plt.savefig('/home/rrg0013@auburn.edu/four_roc.png')  \n",
    "plt.clf()"
   ]
  },
  {
   "cell_type": "code",
   "execution_count": null,
   "metadata": {
    "collapsed": true
   },
   "outputs": [],
   "source": []
  },
  {
   "cell_type": "code",
   "execution_count": null,
   "metadata": {
    "collapsed": true
   },
   "outputs": [],
   "source": []
  },
  {
   "cell_type": "markdown",
   "metadata": {},
   "source": [
    "### Found of all candidate nodules -- Step 1"
   ]
  },
  {
   "cell_type": "code",
   "execution_count": 892,
   "metadata": {},
   "outputs": [
    {
     "name": "stdout",
     "output_type": "stream",
     "text": [
      "188.0\n"
     ]
    }
   ],
   "source": [
    "tmp = np.zeros(preds.shape[0])\n",
    "tmp[preds[:,0] > preds[:,1]] = 1\n",
    "pos = np.sum(tmp)\n",
    "print pos"
   ]
  },
  {
   "cell_type": "markdown",
   "metadata": {},
   "source": [
    "### Found of all candidate nodules with at least one large label -- Step 2"
   ]
  },
  {
   "cell_type": "code",
   "execution_count": 829,
   "metadata": {
    "scrolled": true
   },
   "outputs": [
    {
     "name": "stdout",
     "output_type": "stream",
     "text": [
      "98.0\n"
     ]
    }
   ],
   "source": [
    "tmp = np.zeros(preds.shape[0])\n",
    "tmp[preds[:,0] > preds[:,1]] = 1\n",
    "xpos = np.sum(tmp)\n",
    "print xpos"
   ]
  },
  {
   "cell_type": "markdown",
   "metadata": {},
   "source": [
    "### False positives per scan -- Step 2"
   ]
  },
  {
   "cell_type": "code",
   "execution_count": 712,
   "metadata": {},
   "outputs": [
    {
     "name": "stdout",
     "output_type": "stream",
     "text": [
      "1.95505617978\n"
     ]
    }
   ],
   "source": [
    "perscan = (pos-xpos)/89. \n",
    "print perscan"
   ]
  },
  {
   "cell_type": "markdown",
   "metadata": {},
   "source": [
    "### Sensitivity -- Step 1"
   ]
  },
  {
   "cell_type": "code",
   "execution_count": 697,
   "metadata": {},
   "outputs": [
    {
     "name": "stdout",
     "output_type": "stream",
     "text": [
      "107.0\n"
     ]
    }
   ],
   "source": [
    "tlbl = np.zeros(preds.shape[0])\n",
    "tlbl[labels[:,0]==1] = 1\n",
    "tp_fn = np.sum(tlbl)\n",
    "print tp_fn"
   ]
  },
  {
   "cell_type": "code",
   "execution_count": 698,
   "metadata": {
    "scrolled": true
   },
   "outputs": [
    {
     "name": "stdout",
     "output_type": "stream",
     "text": [
      "100\n"
     ]
    }
   ],
   "source": [
    "tmp2 = np.zeros(preds.shape[0])\n",
    "tmp2[preds[:,0] > preds[:,1]] = 1\n",
    "tmp2[tlbl==1] += 1\n",
    "tmp3 = np.where(tmp2==2,1,0)\n",
    "tp = np.sum(tmp3)\n",
    "print tp"
   ]
  },
  {
   "cell_type": "markdown",
   "metadata": {},
   "source": [
    "#### SENSITIVITY VALUE:"
   ]
  },
  {
   "cell_type": "code",
   "execution_count": 699,
   "metadata": {},
   "outputs": [
    {
     "name": "stdout",
     "output_type": "stream",
     "text": [
      "0.934579439252\n"
     ]
    }
   ],
   "source": [
    "sensitivity = tp/tp_fn\n",
    "print sensitivity"
   ]
  },
  {
   "cell_type": "code",
   "execution_count": null,
   "metadata": {
    "collapsed": true
   },
   "outputs": [],
   "source": []
  },
  {
   "cell_type": "markdown",
   "metadata": {},
   "source": [
    "### Test"
   ]
  },
  {
   "cell_type": "code",
   "execution_count": 453,
   "metadata": {},
   "outputs": [
    {
     "name": "stdout",
     "output_type": "stream",
     "text": [
      "-0.370786516854\n"
     ]
    }
   ],
   "source": [
    "print (pos-xpos-tp)/89."
   ]
  },
  {
   "cell_type": "code",
   "execution_count": null,
   "metadata": {
    "collapsed": true
   },
   "outputs": [],
   "source": []
  },
  {
   "cell_type": "markdown",
   "metadata": {},
   "source": [
    "### Specificity -- Step 1"
   ]
  },
  {
   "cell_type": "code",
   "execution_count": 404,
   "metadata": {},
   "outputs": [
    {
     "name": "stdout",
     "output_type": "stream",
     "text": [
      "6222.0\n"
     ]
    }
   ],
   "source": [
    "tlbl = np.zeros(preds.shape[0])\n",
    "tlbl[labels[:,1]==1] = 1\n",
    "tn_fp = np.sum(tlbl)\n",
    "print tn_fp"
   ]
  },
  {
   "cell_type": "code",
   "execution_count": 405,
   "metadata": {},
   "outputs": [
    {
     "name": "stdout",
     "output_type": "stream",
     "text": [
      "5891.0\n"
     ]
    }
   ],
   "source": [
    "tmp = np.zeros(preds.shape[0])\n",
    "tmp[preds[:,1] > preds[:,0]] = 1\n",
    "tn = np.sum(tmp)\n",
    "print tn"
   ]
  },
  {
   "cell_type": "markdown",
   "metadata": {},
   "source": [
    "### Specificity -- Step 2"
   ]
  },
  {
   "cell_type": "code",
   "execution_count": 427,
   "metadata": {},
   "outputs": [
    {
     "name": "stdout",
     "output_type": "stream",
     "text": [
      "2813.0\n"
     ]
    }
   ],
   "source": [
    "tn_fp = tn_fp-(xpos-tp)\n",
    "print tn_fp"
   ]
  },
  {
   "cell_type": "markdown",
   "metadata": {},
   "source": [
    "#### SPECIFICITY VALUE:"
   ]
  },
  {
   "cell_type": "code",
   "execution_count": 428,
   "metadata": {},
   "outputs": [
    {
     "name": "stdout",
     "output_type": "stream",
     "text": [
      "0.941343761109\n"
     ]
    }
   ],
   "source": [
    "specificity = tn/tn_fp\n",
    "print specificity"
   ]
  },
  {
   "cell_type": "code",
   "execution_count": null,
   "metadata": {
    "collapsed": true
   },
   "outputs": [],
   "source": []
  },
  {
   "cell_type": "code",
   "execution_count": null,
   "metadata": {
    "collapsed": true
   },
   "outputs": [],
   "source": [
    "ct = 0\n",
    "paths = glob(PATH+'*.png')\n",
    "for i, path in enumerate(paths):\n",
    "  TPATH = path\n",
    "  #print TPATH\n",
    "  image, label = loadpng1(TPATH, True)\n",
    "  #print len(image)\n",
    "  image, label = ku.cleanData(image, label, 2)\n",
    "  image = ku.to3d(image, 0, True)\n",
    "  label = ku.get2Labels(label)\n",
    "  image = ku.convertArray(image)\n",
    "  pred = model.predict(image,batch_size=1)\n",
    "  if pred[0,1]>pred[0,0]:\n",
    "    ct += 1\n",
    "    print pred[0,1]\n",
    "    print pred[0,0]\n",
    "    #print path\n",
    "print ct"
   ]
  },
  {
   "cell_type": "code",
   "execution_count": null,
   "metadata": {
    "collapsed": true
   },
   "outputs": [],
   "source": []
  },
  {
   "cell_type": "code",
   "execution_count": null,
   "metadata": {
    "collapsed": true
   },
   "outputs": [],
   "source": []
  }
 ],
 "metadata": {
  "kernelspec": {
   "display_name": "Python 2",
   "language": "python",
   "name": "python2"
  },
  "language_info": {
   "codemirror_mode": {
    "name": "ipython",
    "version": 2
   },
   "file_extension": ".py",
   "mimetype": "text/x-python",
   "name": "python",
   "nbconvert_exporter": "python",
   "pygments_lexer": "ipython2",
   "version": "2.7.12"
  }
 },
 "nbformat": 4,
 "nbformat_minor": 2
}
